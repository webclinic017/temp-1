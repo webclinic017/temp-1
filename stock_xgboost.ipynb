{
  "nbformat": 4,
  "nbformat_minor": 0,
  "metadata": {
    "colab": {
      "name": "stock xgboost",
      "provenance": []
    },
    "kernelspec": {
      "name": "python3",
      "display_name": "Python 3"
    },
    "language_info": {
      "name": "python"
    }
  },
  "cells": [
    {
      "cell_type": "code",
      "metadata": {
        "colab": {
          "base_uri": "https://localhost:8080/"
        },
        "id": "tlQAVn3Hur7H",
        "outputId": "11adfc5c-aa67-4e18-addb-e9a2fa74024f"
      },
      "source": [
        "pip install pandas_ta"
      ],
      "execution_count": 1,
      "outputs": [
        {
          "output_type": "stream",
          "text": [
            "Collecting pandas_ta\n",
            "\u001b[?25l  Downloading https://files.pythonhosted.org/packages/f8/6f/3a19cf5153f6b91684cbe641d42f7d6a2e518f237be234e949adeceeffe1/pandas_ta-0.2.45b.tar.gz (88kB)\n",
            "\r\u001b[K     |███▊                            | 10kB 21.5MB/s eta 0:00:01\r\u001b[K     |███████▍                        | 20kB 18.0MB/s eta 0:00:01\r\u001b[K     |███████████▏                    | 30kB 14.9MB/s eta 0:00:01\r\u001b[K     |██████████████▉                 | 40kB 13.7MB/s eta 0:00:01\r\u001b[K     |██████████████████▋             | 51kB 7.8MB/s eta 0:00:01\r\u001b[K     |██████████████████████▎         | 61kB 9.1MB/s eta 0:00:01\r\u001b[K     |██████████████████████████      | 71kB 8.7MB/s eta 0:00:01\r\u001b[K     |█████████████████████████████▊  | 81kB 9.0MB/s eta 0:00:01\r\u001b[K     |████████████████████████████████| 92kB 6.2MB/s \n",
            "\u001b[?25hRequirement already satisfied: pandas in /usr/local/lib/python3.7/dist-packages (from pandas_ta) (1.1.5)\n",
            "Requirement already satisfied: python-dateutil>=2.7.3 in /usr/local/lib/python3.7/dist-packages (from pandas->pandas_ta) (2.8.1)\n",
            "Requirement already satisfied: numpy>=1.15.4 in /usr/local/lib/python3.7/dist-packages (from pandas->pandas_ta) (1.19.5)\n",
            "Requirement already satisfied: pytz>=2017.2 in /usr/local/lib/python3.7/dist-packages (from pandas->pandas_ta) (2018.9)\n",
            "Requirement already satisfied: six>=1.5 in /usr/local/lib/python3.7/dist-packages (from python-dateutil>=2.7.3->pandas->pandas_ta) (1.15.0)\n",
            "Building wheels for collected packages: pandas-ta\n",
            "  Building wheel for pandas-ta (setup.py) ... \u001b[?25l\u001b[?25hdone\n",
            "  Created wheel for pandas-ta: filename=pandas_ta-0.2.45b0-cp37-none-any.whl size=175305 sha256=82e42824ed81db9236f6f9348d66e7312b842a27eecd06571c88ef46102dab38\n",
            "  Stored in directory: /root/.cache/pip/wheels/78/76/74/e4b09c98fc91d7e1e0a56f4fe067796f216deacaa509234579\n",
            "Successfully built pandas-ta\n",
            "Installing collected packages: pandas-ta\n",
            "Successfully installed pandas-ta-0.2.45b0\n"
          ],
          "name": "stdout"
        }
      ]
    },
    {
      "cell_type": "code",
      "metadata": {
        "colab": {
          "base_uri": "https://localhost:8080/"
        },
        "id": "QggoPY80vFhl",
        "outputId": "534ad611-5143-4aa8-a36e-82c833bb147f"
      },
      "source": [
        "pip install yfinance"
      ],
      "execution_count": 2,
      "outputs": [
        {
          "output_type": "stream",
          "text": [
            "Collecting yfinance\n",
            "  Downloading https://files.pythonhosted.org/packages/a7/ee/315752b9ef281ba83c62aa7ec2e2074f85223da6e7e74efb4d3e11c0f510/yfinance-0.1.59.tar.gz\n",
            "Requirement already satisfied: pandas>=0.24 in /usr/local/lib/python3.7/dist-packages (from yfinance) (1.1.5)\n",
            "Requirement already satisfied: numpy>=1.15 in /usr/local/lib/python3.7/dist-packages (from yfinance) (1.19.5)\n",
            "Requirement already satisfied: requests>=2.20 in /usr/local/lib/python3.7/dist-packages (from yfinance) (2.23.0)\n",
            "Requirement already satisfied: multitasking>=0.0.7 in /usr/local/lib/python3.7/dist-packages (from yfinance) (0.0.9)\n",
            "Collecting lxml>=4.5.1\n",
            "\u001b[?25l  Downloading https://files.pythonhosted.org/packages/30/c0/d0526314971fc661b083ab135747dc68446a3022686da8c16d25fcf6ef07/lxml-4.6.3-cp37-cp37m-manylinux2014_x86_64.whl (6.3MB)\n",
            "\u001b[K     |████████████████████████████████| 6.3MB 10.1MB/s \n",
            "\u001b[?25hRequirement already satisfied: python-dateutil>=2.7.3 in /usr/local/lib/python3.7/dist-packages (from pandas>=0.24->yfinance) (2.8.1)\n",
            "Requirement already satisfied: pytz>=2017.2 in /usr/local/lib/python3.7/dist-packages (from pandas>=0.24->yfinance) (2018.9)\n",
            "Requirement already satisfied: idna<3,>=2.5 in /usr/local/lib/python3.7/dist-packages (from requests>=2.20->yfinance) (2.10)\n",
            "Requirement already satisfied: certifi>=2017.4.17 in /usr/local/lib/python3.7/dist-packages (from requests>=2.20->yfinance) (2020.12.5)\n",
            "Requirement already satisfied: chardet<4,>=3.0.2 in /usr/local/lib/python3.7/dist-packages (from requests>=2.20->yfinance) (3.0.4)\n",
            "Requirement already satisfied: urllib3!=1.25.0,!=1.25.1,<1.26,>=1.21.1 in /usr/local/lib/python3.7/dist-packages (from requests>=2.20->yfinance) (1.24.3)\n",
            "Requirement already satisfied: six>=1.5 in /usr/local/lib/python3.7/dist-packages (from python-dateutil>=2.7.3->pandas>=0.24->yfinance) (1.15.0)\n",
            "Building wheels for collected packages: yfinance\n",
            "  Building wheel for yfinance (setup.py) ... \u001b[?25l\u001b[?25hdone\n",
            "  Created wheel for yfinance: filename=yfinance-0.1.59-py2.py3-none-any.whl size=23442 sha256=eaafcd662896119bf0bceeeefa4d3e480ba0909e42383773220495f8a4093783\n",
            "  Stored in directory: /root/.cache/pip/wheels/f8/2a/0f/4b5a86e1d52e451757eb6bc17fd899629f0925c777741b6d04\n",
            "Successfully built yfinance\n",
            "Installing collected packages: lxml, yfinance\n",
            "  Found existing installation: lxml 4.2.6\n",
            "    Uninstalling lxml-4.2.6:\n",
            "      Successfully uninstalled lxml-4.2.6\n",
            "Successfully installed lxml-4.6.3 yfinance-0.1.59\n"
          ],
          "name": "stdout"
        }
      ]
    },
    {
      "cell_type": "code",
      "metadata": {
        "id": "OjyLTu1uvIed"
      },
      "source": [
        "import pandas as pd\n",
        "# import yfinance as yf\n",
        "import datetime as dt\n",
        "import pandas_ta as ta\n",
        "\n",
        "\n",
        "# This function finds the buy sell\n",
        "# schedule for maximum profit\n",
        "def stockBuySell(fdf):\n",
        "    \n",
        "    # start = dt.datetime.today()-dt.timedelta(7)\n",
        "    # end = dt.datetime.today()\n",
        "    # fdf = yf.download(tick,start=start, end=end,interval='1m')\n",
        "    # fdf.ta.strategy(ta.AllStrategy)\n",
        "    price = fdf['close']\n",
        "    n = len(fdf)\n",
        "    \n",
        "    fdf['final_buy'] = 'no'\n",
        "    # fdf['final_sell'] = 'no'\n",
        "    # fdf['profit'] = 0\n",
        "    total = 0\n",
        "    # Prices must be given for at least two days\n",
        "    if (n == 1):\n",
        "        return\n",
        "    \n",
        "    # Traverse through given price array\n",
        "    i = 0\n",
        "    while (i < (n - 1)):\n",
        "        \n",
        "        # Find Local Minima\n",
        "        # Note that the limit is (n-2) as we are\n",
        "        # comparing present element to the next element\n",
        "        while ((i < (n - 1)) and\n",
        "                (price[i + 1] <= price[i])):\n",
        "            i += 1\n",
        "        \n",
        "        # If we reached the end, break\n",
        "        # as no further solution possible\n",
        "        if (i == n - 1):\n",
        "            break\n",
        "        \n",
        "        # Store the index of minima\n",
        "        buy = i\n",
        "        i += 1\n",
        "        \n",
        "        # Find Local Maxima\n",
        "        # Note that the limit is (n-1) as we are\n",
        "        # comparing to previous element\n",
        "        while ((i < n) and (price[i] >= price[i - 1])):\n",
        "            i += 1\n",
        "            \n",
        "        # Store the index of maxima\n",
        "        sell = i - 1\n",
        "        \n",
        "        profit = fdf['close'][sell] - fdf['close'][buy]\n",
        "        \n",
        "        if (profit >= 5):\n",
        "            \n",
        "            print(\"Buy on day: \",buy,\"\\t\", \"Sell on day: \",sell,\"\\t\", \"Profit: \",profit)  \n",
        "            total = total + profit\n",
        "            # print(total)\n",
        "            fdf['final_buy'][buy] = 'buy'\n",
        "            fdf['final_buy'][sell] = 'sell'\n",
        "            # fdf['profit'][sell] = profit\n",
        "    # fdf.drop(['open', 'high', 'low', 'close', 'adj_close', 'volume','HILOs_13_21','HILOl_13_21','SUPERTl_7_3.0','QQEs_14_5_4.236','PSARs_0.02_0.2','PSARl_0.02_0.2','SUPERTs_7_3.0','QQEl_14_5_4.236'],axis=1,inplace=True)\n",
        "    # fdf = fdf.dropna()\n",
        "    # fdf = fdf.reset_index(drop=True)\n",
        "    return fdf   "
      ],
      "execution_count": 3,
      "outputs": []
    },
    {
      "cell_type": "code",
      "metadata": {
        "id": "iGOYQolJvOy0"
      },
      "source": [
        "link = 'https://raw.githubusercontent.com/rushiai/data_csv/main/AXISBANK__EQ__NSE__NSE__MINUTE.csv'\n",
        "df = pd.read_csv(link)\n",
        "df = df.set_index(['timestamp'])\n",
        "df.index = pd.to_datetime(df.index)\n",
        "# df.head()\n",
        "vol = df.resample('15min').sum().volume\n",
        "price = df['close'].resample('15Min').ohlc()\n",
        "ndf = pd.concat([price, vol], axis=1)\n",
        "ndf.dropna(inplace=True)"
      ],
      "execution_count": 4,
      "outputs": []
    },
    {
      "cell_type": "code",
      "metadata": {
        "id": "_Rg2dW9qvP-7"
      },
      "source": [
        "# temp = ndf.iloc[17698:]\n",
        "# train = temp.iloc[0:6000]\n",
        "# test = temp.iloc[6001:]\n",
        "\n",
        "temp = ndf\n",
        "train = temp\n",
        "# test = temp.iloc[6001:]"
      ],
      "execution_count": 5,
      "outputs": []
    },
    {
      "cell_type": "code",
      "metadata": {
        "id": "Av17g-2BvSXu"
      },
      "source": [
        "train.ta.strategy(ta.AllStrategy)\n",
        "# test.ta.strategy(ta.AllStrategy)"
      ],
      "execution_count": null,
      "outputs": []
    },
    {
      "cell_type": "code",
      "metadata": {
        "id": "zSf8gZ7ovUSl"
      },
      "source": [
        "trainp = stockBuySell(train)\n",
        "# testp = stockBuySell(test)"
      ],
      "execution_count": null,
      "outputs": []
    },
    {
      "cell_type": "code",
      "metadata": {
        "id": "FMYnL6Y0vdvT"
      },
      "source": [
        "trainp.drop(['QQEs_14_5_4.236', 'PSARs_0.02_0.2', 'SUPERTl_7_3.0', 'SUPERTs_7_3.0',\n",
        "       'PSARl_0.02_0.2', 'QQEl_14_5_4.236', 'HILOl_13_21', 'HILOs_13_21','open','volume'],inplace=True,axis=1)\n",
        "# testp.drop(['QQEs_14_5_4.236', 'PSARs_0.02_0.2', 'SUPERTl_7_3.0', 'SUPERTs_7_3.0',\n",
        "    #    'PSARl_0.02_0.2', 'QQEl_14_5_4.236', 'HILOl_13_21', 'HILOs_13_21','open','volume'],inplace=True,axis=1)\n",
        "trainp.dropna(inplace=True)\n",
        "# testp.dropna(inplace=True)"
      ],
      "execution_count": null,
      "outputs": []
    },
    {
      "cell_type": "code",
      "metadata": {
        "id": "tFJlIJR4vhcM"
      },
      "source": [
        "X = trainp.drop(['final_buy'],axis=1)\n",
        "y = trainp.final_buy"
      ],
      "execution_count": null,
      "outputs": []
    },
    {
      "cell_type": "code",
      "metadata": {
        "id": "6VLopi_91Tjc"
      },
      "source": [
        "from imblearn.combine import SMOTETomek\n",
        "from imblearn.under_sampling import NearMiss"
      ],
      "execution_count": null,
      "outputs": []
    },
    {
      "cell_type": "code",
      "metadata": {
        "id": "xCavo7i_1VhP"
      },
      "source": [
        "# Implementing Oversampling for Handling Imbalanced \n",
        "smk = SMOTETomek(random_state=42)\n",
        "X_res,y_res=smk.fit_sample(X,y)"
      ],
      "execution_count": null,
      "outputs": []
    },
    {
      "cell_type": "code",
      "metadata": {
        "id": "ZhSOFOrB1VeN"
      },
      "source": [
        "X_res.shape"
      ],
      "execution_count": null,
      "outputs": []
    },
    {
      "cell_type": "code",
      "metadata": {
        "id": "jQ-0cWUPvjlZ"
      },
      "source": [
        "from sklearn.model_selection import train_test_split\n",
        "X_trainXG, X_testXG, y_trainXG, y_testXG = train_test_split(X_res,y_res, test_size = 0.2, random_state = 0)"
      ],
      "execution_count": null,
      "outputs": []
    },
    {
      "cell_type": "code",
      "metadata": {
        "colab": {
          "base_uri": "https://localhost:8080/"
        },
        "id": "LaWIzi_Yvwqj",
        "outputId": "6b3ffc1e-c943-4470-8098-4c405e37819f"
      },
      "source": [
        "import xgboost as xgb\n",
        "my_model = xgb.XGBClassifier()\n",
        "my_model.fit(X_trainXG, y_trainXG)"
      ],
      "execution_count": null,
      "outputs": [
        {
          "output_type": "execute_result",
          "data": {
            "text/plain": [
              "XGBClassifier(base_score=0.5, booster='gbtree', colsample_bylevel=1,\n",
              "              colsample_bynode=1, colsample_bytree=1, gamma=0,\n",
              "              learning_rate=0.1, max_delta_step=0, max_depth=3,\n",
              "              min_child_weight=1, missing=None, n_estimators=100, n_jobs=1,\n",
              "              nthread=None, objective='multi:softprob', random_state=0,\n",
              "              reg_alpha=0, reg_lambda=1, scale_pos_weight=1, seed=None,\n",
              "              silent=None, subsample=1, verbosity=1)"
            ]
          },
          "metadata": {
            "tags": []
          },
          "execution_count": 234
        }
      ]
    },
    {
      "cell_type": "code",
      "metadata": {
        "colab": {
          "base_uri": "https://localhost:8080/"
        },
        "id": "pHZBYzbxvynZ",
        "outputId": "695d6d44-3ab0-41e6-b9cb-1b24ac8c4631"
      },
      "source": [
        "# Predicting the Test set results\n",
        "y_pred = my_model.predict(X_testXG)\n",
        "from sklearn.metrics import accuracy_score\n",
        "accuracy_score(y_testXG, y_pred)"
      ],
      "execution_count": null,
      "outputs": [
        {
          "output_type": "execute_result",
          "data": {
            "text/plain": [
              "0.9630161851459689"
            ]
          },
          "metadata": {
            "tags": []
          },
          "execution_count": 235
        }
      ]
    },
    {
      "cell_type": "code",
      "metadata": {
        "colab": {
          "base_uri": "https://localhost:8080/"
        },
        "id": "6CaSWd_30Wao",
        "outputId": "4e4f0b24-eb07-43e8-dcf7-bf01dbf601df"
      },
      "source": [
        "from sklearn.metrics import classification_report\n",
        "target_names = ['class 0', 'class 1', 'class 2']\n",
        "print(classification_report(y_testXG, y_pred, target_names=target_names))"
      ],
      "execution_count": null,
      "outputs": [
        {
          "output_type": "stream",
          "text": [
            "              precision    recall  f1-score   support\n",
            "\n",
            "     class 0       0.97      0.98      0.97      4394\n",
            "     class 1       0.96      0.92      0.94      4336\n",
            "     class 2       0.96      0.99      0.97      4492\n",
            "\n",
            "    accuracy                           0.96     13222\n",
            "   macro avg       0.96      0.96      0.96     13222\n",
            "weighted avg       0.96      0.96      0.96     13222\n",
            "\n"
          ],
          "name": "stdout"
        }
      ]
    },
    {
      "cell_type": "code",
      "metadata": {
        "id": "rTw_3s0cwQ7q"
      },
      "source": [
        "import yfinance as yf"
      ],
      "execution_count": null,
      "outputs": []
    },
    {
      "cell_type": "code",
      "metadata": {
        "colab": {
          "base_uri": "https://localhost:8080/"
        },
        "id": "N0WSqhpPv4D9",
        "outputId": "18d99513-7a76-4bde-da3d-10cb84e6ac82"
      },
      "source": [
        "start = dt.datetime.today()-dt.timedelta(59)\n",
        "end = dt.datetime.today()\n",
        "fdf = yf.download('AXISBANK.NS',start=start, end=end,interval='15m')\n",
        "fdf.ta.strategy(ta.AllStrategy)"
      ],
      "execution_count": null,
      "outputs": [
        {
          "output_type": "stream",
          "text": [
            "\r[*********************100%***********************]  1 of 1 completed\n"
          ],
          "name": "stdout"
        },
        {
          "output_type": "stream",
          "text": [
            "/usr/local/lib/python3.7/dist-packages/pandas/core/arrays/datetimes.py:1092: UserWarning: Converting to PeriodArray/Index representation will drop timezone information.\n",
            "  UserWarning,\n",
            "/usr/local/lib/python3.7/dist-packages/pandas/core/arrays/datetimes.py:1092: UserWarning: Converting to PeriodArray/Index representation will drop timezone information.\n",
            "  UserWarning,\n"
          ],
          "name": "stderr"
        }
      ]
    },
    {
      "cell_type": "code",
      "metadata": {
        "colab": {
          "base_uri": "https://localhost:8080/"
        },
        "id": "MgacmSEewPjZ",
        "outputId": "ff4da371-978b-4b2c-e386-69a46cc491e4"
      },
      "source": [
        "axis = stockBuySell(fdf)"
      ],
      "execution_count": null,
      "outputs": [
        {
          "output_type": "stream",
          "text": [
            "Buy on day:  20 \t Sell on day:  23 \t Profit:  8.0999755859375\n",
            "Buy on day:  24 \t Sell on day:  27 \t Profit:  16.60003662109375\n",
            "Buy on day:  34 \t Sell on day:  39 \t Profit:  8.45001220703125\n",
            "Buy on day:  40 \t Sell on day:  42 \t Profit:  5.9000244140625\n",
            "Buy on day:  58 \t Sell on day:  60 \t Profit:  6.39996337890625\n",
            "Buy on day:  61 \t Sell on day:  65 \t Profit:  7.95001220703125\n",
            "Buy on day:  75 \t Sell on day:  78 \t Profit:  13.25\n",
            "Buy on day:  81 \t Sell on day:  88 \t Profit:  5.20001220703125\n",
            "Buy on day:  97 \t Sell on day:  103 \t Profit:  25.45001220703125\n",
            "Buy on day:  105 \t Sell on day:  107 \t Profit:  5.75\n",
            "Buy on day:  117 \t Sell on day:  120 \t Profit:  6.9000244140625\n",
            "Buy on day:  123 \t Sell on day:  125 \t Profit:  6.75\n",
            "Buy on day:  131 \t Sell on day:  134 \t Profit:  10.64996337890625\n",
            "Buy on day:  147 \t Sell on day:  148 \t Profit:  5.54998779296875\n",
            "Buy on day:  149 \t Sell on day:  151 \t Profit:  7.39996337890625\n",
            "Buy on day:  161 \t Sell on day:  167 \t Profit:  9.64996337890625\n",
            "Buy on day:  174 \t Sell on day:  175 \t Profit:  12.29998779296875\n",
            "Buy on day:  197 \t Sell on day:  198 \t Profit:  6.25\n",
            "Buy on day:  219 \t Sell on day:  224 \t Profit:  21.3499755859375\n",
            "Buy on day:  225 \t Sell on day:  230 \t Profit:  5.20001220703125\n",
            "Buy on day:  257 \t Sell on day:  258 \t Profit:  6.14996337890625\n",
            "Buy on day:  274 \t Sell on day:  276 \t Profit:  14.5\n",
            "Buy on day:  284 \t Sell on day:  286 \t Profit:  5.75\n",
            "Buy on day:  296 \t Sell on day:  298 \t Profit:  10.0999755859375\n",
            "Buy on day:  300 \t Sell on day:  303 \t Profit:  14.6500244140625\n",
            "Buy on day:  311 \t Sell on day:  312 \t Profit:  5.5999755859375\n",
            "Buy on day:  314 \t Sell on day:  318 \t Profit:  9.45001220703125\n",
            "Buy on day:  319 \t Sell on day:  323 \t Profit:  11.54998779296875\n",
            "Buy on day:  349 \t Sell on day:  350 \t Profit:  8.8499755859375\n",
            "Buy on day:  354 \t Sell on day:  356 \t Profit:  9.5\n",
            "Buy on day:  366 \t Sell on day:  371 \t Profit:  13.95001220703125\n",
            "Buy on day:  383 \t Sell on day:  385 \t Profit:  5.0\n",
            "Buy on day:  415 \t Sell on day:  417 \t Profit:  17.45001220703125\n",
            "Buy on day:  420 \t Sell on day:  421 \t Profit:  5.54998779296875\n",
            "Buy on day:  424 \t Sell on day:  425 \t Profit:  9.35003662109375\n",
            "Buy on day:  432 \t Sell on day:  436 \t Profit:  5.0999755859375\n",
            "Buy on day:  448 \t Sell on day:  454 \t Profit:  15.54998779296875\n",
            "Buy on day:  473 \t Sell on day:  476 \t Profit:  8.5\n",
            "Buy on day:  491 \t Sell on day:  494 \t Profit:  6.20001220703125\n",
            "Buy on day:  501 \t Sell on day:  504 \t Profit:  5.1500244140625\n",
            "Buy on day:  514 \t Sell on day:  517 \t Profit:  8.5\n",
            "Buy on day:  518 \t Sell on day:  520 \t Profit:  7.9000244140625\n",
            "Buy on day:  532 \t Sell on day:  538 \t Profit:  12.8499755859375\n",
            "Buy on day:  547 \t Sell on day:  551 \t Profit:  6.35003662109375\n",
            "Buy on day:  563 \t Sell on day:  565 \t Profit:  5.54998779296875\n",
            "Buy on day:  572 \t Sell on day:  576 \t Profit:  5.20001220703125\n",
            "Buy on day:  580 \t Sell on day:  582 \t Profit:  10.29998779296875\n",
            "Buy on day:  585 \t Sell on day:  590 \t Profit:  7.95001220703125\n",
            "Buy on day:  599 \t Sell on day:  600 \t Profit:  6.75\n",
            "Buy on day:  627 \t Sell on day:  629 \t Profit:  6.5\n",
            "Buy on day:  671 \t Sell on day:  675 \t Profit:  14.54998779296875\n",
            "Buy on day:  676 \t Sell on day:  680 \t Profit:  7.75\n",
            "Buy on day:  690 \t Sell on day:  696 \t Profit:  15.9000244140625\n",
            "Buy on day:  707 \t Sell on day:  711 \t Profit:  13.25\n",
            "Buy on day:  721 \t Sell on day:  723 \t Profit:  8.4000244140625\n",
            "Buy on day:  744 \t Sell on day:  746 \t Profit:  5.04998779296875\n",
            "Buy on day:  751 \t Sell on day:  755 \t Profit:  8.20001220703125\n",
            "Buy on day:  770 \t Sell on day:  773 \t Profit:  8.29998779296875\n",
            "Buy on day:  774 \t Sell on day:  776 \t Profit:  13.45001220703125\n",
            "Buy on day:  797 \t Sell on day:  798 \t Profit:  9.95001220703125\n",
            "Buy on day:  801 \t Sell on day:  804 \t Profit:  9.35003662109375\n",
            "Buy on day:  805 \t Sell on day:  809 \t Profit:  10.0999755859375\n",
            "Buy on day:  816 \t Sell on day:  823 \t Profit:  5.9000244140625\n",
            "Buy on day:  825 \t Sell on day:  829 \t Profit:  12.95001220703125\n",
            "Buy on day:  830 \t Sell on day:  834 \t Profit:  7.0\n",
            "Buy on day:  846 \t Sell on day:  848 \t Profit:  6.75\n",
            "Buy on day:  849 \t Sell on day:  850 \t Profit:  24.3499755859375\n",
            "Buy on day:  851 \t Sell on day:  853 \t Profit:  6.14996337890625\n",
            "Buy on day:  855 \t Sell on day:  857 \t Profit:  6.54998779296875\n",
            "Buy on day:  863 \t Sell on day:  864 \t Profit:  5.75\n",
            "Buy on day:  870 \t Sell on day:  872 \t Profit:  5.54998779296875\n",
            "Buy on day:  878 \t Sell on day:  886 \t Profit:  15.300048828125\n",
            "Buy on day:  908 \t Sell on day:  915 \t Profit:  14.5\n",
            "Buy on day:  917 \t Sell on day:  922 \t Profit:  8.04998779296875\n",
            "Buy on day:  924 \t Sell on day:  926 \t Profit:  17.6500244140625\n"
          ],
          "name": "stdout"
        },
        {
          "output_type": "stream",
          "text": [
            "/usr/local/lib/python3.7/dist-packages/ipykernel_launcher.py:62: SettingWithCopyWarning: \n",
            "A value is trying to be set on a copy of a slice from a DataFrame\n",
            "\n",
            "See the caveats in the documentation: https://pandas.pydata.org/pandas-docs/stable/user_guide/indexing.html#returning-a-view-versus-a-copy\n",
            "/usr/local/lib/python3.7/dist-packages/ipykernel_launcher.py:63: SettingWithCopyWarning: \n",
            "A value is trying to be set on a copy of a slice from a DataFrame\n",
            "\n",
            "See the caveats in the documentation: https://pandas.pydata.org/pandas-docs/stable/user_guide/indexing.html#returning-a-view-versus-a-copy\n"
          ],
          "name": "stderr"
        }
      ]
    },
    {
      "cell_type": "code",
      "metadata": {
        "id": "wOr-LoeGwekJ"
      },
      "source": [
        "axis.drop(['QQEs_14_5_4.236', 'PSARs_0.02_0.2', 'SUPERTl_7_3.0', 'SUPERTs_7_3.0',\n",
        "       'PSARl_0.02_0.2', 'QQEl_14_5_4.236', 'HILOl_13_21', 'HILOs_13_21','open','volume'],inplace=True,axis=1)\n",
        "axis.dropna(inplace=True)"
      ],
      "execution_count": null,
      "outputs": []
    },
    {
      "cell_type": "code",
      "metadata": {
        "id": "VG3bXgddxFeK"
      },
      "source": [
        "ax = axis.drop(['final_buy'],axis=1)\n",
        "ay = axis.final_buy"
      ],
      "execution_count": null,
      "outputs": []
    },
    {
      "cell_type": "code",
      "metadata": {
        "id": "G_cIPkbY4UuC"
      },
      "source": [
        "ax.drop(['VTXM_14'],axis=1,inplace=True)"
      ],
      "execution_count": null,
      "outputs": []
    },
    {
      "cell_type": "code",
      "metadata": {
        "colab": {
          "base_uri": "https://localhost:8080/"
        },
        "id": "wid5R1AC47JE",
        "outputId": "5af7a861-3369-428b-df80-dab6d05dfed2"
      },
      "source": [
        "ax.shape"
      ],
      "execution_count": null,
      "outputs": [
        {
          "output_type": "execute_result",
          "data": {
            "text/plain": [
              "(847, 186)"
            ]
          },
          "metadata": {
            "tags": []
          },
          "execution_count": 243
        }
      ]
    },
    {
      "cell_type": "code",
      "metadata": {
        "colab": {
          "base_uri": "https://localhost:8080/"
        },
        "id": "xOaAlYII2Ney",
        "outputId": "34ba751c-f170-43a4-efea-03f88233da58"
      },
      "source": [
        "X_res.shape"
      ],
      "execution_count": null,
      "outputs": [
        {
          "output_type": "execute_result",
          "data": {
            "text/plain": [
              "(66109, 186)"
            ]
          },
          "metadata": {
            "tags": []
          },
          "execution_count": 244
        }
      ]
    },
    {
      "cell_type": "code",
      "metadata": {
        "id": "DX_sMK7A2q2s"
      },
      "source": [
        "res_col = ['f0', 'f1', 'f2', 'f3', 'f4', 'f5', 'f6', 'f7', 'f8', 'f9', 'f10', 'f11', 'f12', 'f13', 'f14', 'f15', 'f16', 'f17', 'f18', 'f19', 'f20', 'f21', 'f22', 'f23', 'f24', 'f25', 'f26', 'f27', 'f28', 'f29', 'f30', 'f31', 'f32', 'f33', 'f34', 'f35', 'f36', 'f37', 'f38', 'f39', 'f40', 'f41', 'f42', 'f43', 'f44', 'f45', 'f46', 'f47', 'f48', 'f49', 'f50', 'f51', 'f52', 'f53', 'f54', 'f55', 'f56', 'f57', 'f58', 'f59', 'f60', 'f61', 'f62', 'f63', 'f64', 'f65', 'f66', 'f67', 'f68', 'f69', 'f70', 'f71', 'f72', 'f73', 'f74', 'f75', 'f76', 'f77', 'f78', 'f79', 'f80', 'f81', 'f82', 'f83', 'f84', 'f85', 'f86', 'f87', 'f88', 'f89', 'f90', 'f91', 'f92', 'f93', 'f94', 'f95', 'f96', 'f97', 'f98', 'f99', 'f100', 'f101', 'f102', 'f103', 'f104', 'f105', 'f106', 'f107', 'f108', 'f109', 'f110', 'f111', 'f112', 'f113', 'f114', 'f115', 'f116', 'f117', 'f118', 'f119', 'f120', 'f121', 'f122', 'f123', 'f124', 'f125', 'f126', 'f127', 'f128', 'f129', 'f130', 'f131', 'f132', 'f133', 'f134', 'f135', 'f136', 'f137', 'f138', 'f139', 'f140', 'f141', 'f142', 'f143', 'f144', 'f145', 'f146', 'f147', 'f148', 'f149', 'f150', 'f151', 'f152', 'f153', 'f154', 'f155', 'f156', 'f157', 'f158', 'f159', 'f160', 'f161', 'f162', 'f163', 'f164', 'f165', 'f166', 'f167', 'f168', 'f169', 'f170', 'f171', 'f172', 'f173', 'f174', 'f175', 'f176', 'f177', 'f178', 'f179', 'f180', 'f181', 'f182', 'f183', 'f184', 'f185']"
      ],
      "execution_count": null,
      "outputs": []
    },
    {
      "cell_type": "code",
      "metadata": {
        "id": "FEAc3iGA2txN"
      },
      "source": [
        "ax_col =  ax.columns"
      ],
      "execution_count": null,
      "outputs": []
    },
    {
      "cell_type": "code",
      "metadata": {
        "id": "p8H0xvFc2P2_"
      },
      "source": [
        "ccc = zip(ax_col, res_col)\n",
        "a_dictionary = dict(ccc)"
      ],
      "execution_count": null,
      "outputs": []
    },
    {
      "cell_type": "code",
      "metadata": {
        "id": "rABOC28hwjl8"
      },
      "source": [
        "ax = ax[X.columns]"
      ],
      "execution_count": null,
      "outputs": []
    },
    {
      "cell_type": "code",
      "metadata": {
        "id": "soKZ30yY3aeL"
      },
      "source": [
        "ax.rename(columns = a_dictionary, inplace = True)"
      ],
      "execution_count": null,
      "outputs": []
    },
    {
      "cell_type": "code",
      "metadata": {
        "colab": {
          "base_uri": "https://localhost:8080/"
        },
        "id": "_hp446tO9kiu",
        "outputId": "b873aeed-b61d-4ff7-d926-1fd550f85248"
      },
      "source": [
        "# Implementing Oversampling for Handling Imbalanced \n",
        "smk = SMOTETomek(random_state=42)\n",
        "X_org,y_org=smk.fit_sample(ax,ay)"
      ],
      "execution_count": null,
      "outputs": [
        {
          "output_type": "stream",
          "text": [
            "/usr/local/lib/python3.7/dist-packages/sklearn/utils/deprecation.py:87: FutureWarning: Function safe_indexing is deprecated; safe_indexing is deprecated in version 0.22 and will be removed in version 0.24.\n",
            "  warnings.warn(msg, category=FutureWarning)\n",
            "/usr/local/lib/python3.7/dist-packages/sklearn/utils/deprecation.py:87: FutureWarning: Function safe_indexing is deprecated; safe_indexing is deprecated in version 0.22 and will be removed in version 0.24.\n",
            "  warnings.warn(msg, category=FutureWarning)\n",
            "/usr/local/lib/python3.7/dist-packages/sklearn/utils/deprecation.py:87: FutureWarning: Function safe_indexing is deprecated; safe_indexing is deprecated in version 0.22 and will be removed in version 0.24.\n",
            "  warnings.warn(msg, category=FutureWarning)\n"
          ],
          "name": "stderr"
        }
      ]
    },
    {
      "cell_type": "code",
      "metadata": {
        "colab": {
          "base_uri": "https://localhost:8080/"
        },
        "id": "89S-2FaBwsJN",
        "outputId": "0a01b44a-dd19-4f12-bebe-6e87a4093fc4"
      },
      "source": [
        "# Predicting the Test set results\n",
        "y_pred = my_model.predict(X_org)\n",
        "from sklearn.metrics import accuracy_score\n",
        "accuracy_score(y_org, y_pred)"
      ],
      "execution_count": null,
      "outputs": [
        {
          "output_type": "execute_result",
          "data": {
            "text/plain": [
              "0.3687374749498998"
            ]
          },
          "metadata": {
            "tags": []
          },
          "execution_count": 255
        }
      ]
    },
    {
      "cell_type": "code",
      "metadata": {
        "colab": {
          "base_uri": "https://localhost:8080/"
        },
        "id": "mfUv4yVW4tER",
        "outputId": "e2c673e0-184b-4f80-cb63-35808b9ad3d5"
      },
      "source": [
        "from sklearn.metrics import classification_report\n",
        "target_names = ['class 0', 'class 1', 'class 2']\n",
        "print(classification_report(y_org, y_pred, target_names=target_names))"
      ],
      "execution_count": null,
      "outputs": [
        {
          "output_type": "stream",
          "text": [
            "              precision    recall  f1-score   support\n",
            "\n",
            "     class 0       0.50      0.10      0.16       672\n",
            "     class 1       0.36      0.97      0.53       646\n",
            "     class 2       0.34      0.06      0.10       678\n",
            "\n",
            "    accuracy                           0.37      1996\n",
            "   macro avg       0.40      0.38      0.27      1996\n",
            "weighted avg       0.40      0.37      0.26      1996\n",
            "\n"
          ],
          "name": "stdout"
        }
      ]
    },
    {
      "cell_type": "code",
      "metadata": {
        "colab": {
          "base_uri": "https://localhost:8080/"
        },
        "id": "WxltB0Riy5cz",
        "outputId": "d0a00499-d86d-4fbb-b6e0-31a996857465"
      },
      "source": [
        "my_model.predict(ax.iloc[0:])"
      ],
      "execution_count": null,
      "outputs": [
        {
          "output_type": "execute_result",
          "data": {
            "text/plain": [
              "array(['no', 'no', 'no', 'no', 'no', 'no', 'no', 'no', 'no', 'no', 'no',\n",
              "       'no', 'no', 'no', 'no', 'no', 'no', 'no', 'no', 'no', 'no', 'no',\n",
              "       'no', 'no', 'no', 'no', 'no', 'no', 'no', 'no', 'no', 'no', 'no',\n",
              "       'sell', 'no', 'no', 'no', 'no', 'no', 'no', 'no', 'no', 'no', 'no',\n",
              "       'no', 'no', 'no', 'no', 'no', 'no', 'no', 'no', 'no', 'no', 'no',\n",
              "       'no', 'sell', 'no', 'no', 'sell', 'no', 'no', 'no', 'no', 'no',\n",
              "       'no', 'no', 'no', 'no', 'no', 'no', 'no', 'no', 'no', 'no', 'no',\n",
              "       'no', 'no', 'no', 'no', 'no', 'no', 'no', 'no', 'no', 'no', 'no',\n",
              "       'no', 'no', 'no', 'no', 'no', 'no', 'no', 'no', 'no', 'no', 'no',\n",
              "       'no', 'no', 'sell', 'no', 'no', 'no', 'no', 'no', 'no', 'no', 'no',\n",
              "       'no', 'no', 'no', 'no', 'no', 'no', 'no', 'no', 'no', 'no', 'no',\n",
              "       'no', 'no', 'no', 'no', 'no', 'no', 'no', 'no', 'no', 'no', 'no',\n",
              "       'no', 'no', 'no', 'no', 'no', 'no', 'no', 'no', 'no', 'no', 'no',\n",
              "       'no', 'no', 'no', 'no', 'no', 'no', 'no', 'no', 'no', 'no', 'no',\n",
              "       'no', 'no', 'no', 'no', 'no', 'no', 'no', 'no', 'no', 'no', 'no',\n",
              "       'no', 'no', 'no', 'no', 'no', 'no', 'no', 'no', 'no', 'no', 'no',\n",
              "       'no', 'no', 'no', 'no', 'no', 'no', 'no', 'no', 'no', 'buy', 'no',\n",
              "       'buy', 'no', 'buy', 'no', 'no', 'no', 'no', 'no', 'no', 'no', 'no',\n",
              "       'no', 'no', 'no', 'no', 'no', 'no', 'no', 'no', 'no', 'no', 'no',\n",
              "       'no', 'no', 'no', 'no', 'no', 'no', 'no', 'no', 'no', 'no', 'no',\n",
              "       'no', 'no', 'no', 'no', 'no', 'no', 'no', 'no', 'no', 'no', 'no',\n",
              "       'no', 'no', 'no', 'no', 'no', 'no', 'no', 'no', 'no', 'no', 'no',\n",
              "       'no', 'no', 'no', 'no', 'no', 'no', 'no', 'no', 'no', 'no', 'no',\n",
              "       'no', 'no', 'no', 'no', 'no', 'no', 'no', 'no', 'no', 'no', 'no',\n",
              "       'no', 'no', 'no', 'no', 'no', 'no', 'no', 'no', 'no', 'sell', 'no',\n",
              "       'no', 'no', 'no', 'no', 'no', 'no', 'no', 'sell', 'sell', 'sell',\n",
              "       'no', 'no', 'no', 'sell', 'no', 'no', 'no', 'no', 'no', 'no', 'no',\n",
              "       'no', 'sell', 'sell', 'no', 'no', 'no', 'no', 'sell', 'no', 'no',\n",
              "       'no', 'no', 'no', 'no', 'no', 'no', 'no', 'no', 'no', 'no', 'no',\n",
              "       'no', 'no', 'no', 'no', 'no', 'no', 'no', 'no', 'no', 'no', 'no',\n",
              "       'no', 'no', 'no', 'no', 'no', 'no', 'no', 'no', 'no', 'no', 'no',\n",
              "       'no', 'no', 'no', 'no', 'no', 'no', 'no', 'no', 'no', 'no', 'no',\n",
              "       'no', 'no', 'no', 'no', 'no', 'no', 'no', 'no', 'no', 'no', 'no',\n",
              "       'no', 'no', 'no', 'no', 'no', 'no', 'no', 'no', 'no', 'no', 'no',\n",
              "       'no', 'no', 'no', 'no', 'no', 'no', 'no', 'no', 'no', 'no', 'no',\n",
              "       'no', 'no', 'sell', 'no', 'no', 'no', 'no', 'no', 'no', 'no', 'no',\n",
              "       'no', 'no', 'no', 'no', 'no', 'no', 'no', 'no', 'no', 'no', 'no',\n",
              "       'no', 'no', 'no', 'no', 'no', 'no', 'no', 'no', 'no', 'no', 'no',\n",
              "       'no', 'no', 'no', 'no', 'no', 'no', 'no', 'no', 'no', 'no', 'no',\n",
              "       'no', 'no', 'no', 'no', 'no', 'no', 'no', 'no', 'no', 'no', 'no',\n",
              "       'no', 'no', 'no', 'no', 'no', 'no', 'no', 'no', 'no', 'no', 'no',\n",
              "       'no', 'no', 'no', 'no', 'no', 'no', 'no', 'no', 'no', 'no', 'no',\n",
              "       'no', 'no', 'no', 'no', 'no', 'no', 'no', 'no', 'no', 'no', 'no',\n",
              "       'no', 'no', 'no', 'no', 'no', 'no', 'no', 'no', 'no', 'no', 'no',\n",
              "       'no', 'no', 'no', 'no', 'no', 'no', 'no', 'no', 'no', 'no', 'no',\n",
              "       'no', 'no', 'no', 'no', 'no', 'no', 'no', 'no', 'no', 'no', 'no',\n",
              "       'no', 'no', 'no', 'no', 'no', 'no', 'no', 'no', 'no', 'no', 'no',\n",
              "       'no', 'no', 'no', 'no', 'no', 'no', 'no', 'no', 'no', 'no', 'no',\n",
              "       'no', 'no', 'no', 'no', 'no', 'no', 'no', 'no', 'no', 'no', 'no',\n",
              "       'no', 'no', 'no', 'no', 'no', 'no', 'no', 'no', 'no', 'no', 'no',\n",
              "       'no', 'no', 'no', 'no', 'no', 'no', 'no', 'no', 'no', 'buy', 'no',\n",
              "       'no', 'no', 'no', 'no', 'no', 'no', 'no', 'no', 'no', 'no', 'no',\n",
              "       'no', 'no', 'no', 'no', 'no', 'no', 'no', 'no', 'no', 'no', 'no',\n",
              "       'no', 'no', 'no', 'no', 'no', 'no', 'no', 'no', 'no', 'no', 'no',\n",
              "       'no', 'no', 'no', 'no', 'no', 'no', 'no', 'no', 'no', 'no', 'no',\n",
              "       'no', 'no', 'no', 'no', 'no', 'no', 'no', 'no', 'no', 'no', 'no',\n",
              "       'no', 'no', 'no', 'no', 'no', 'no', 'no', 'no', 'no', 'no', 'no',\n",
              "       'no', 'no', 'no', 'no', 'no', 'no', 'no', 'no', 'no', 'no', 'no',\n",
              "       'no', 'no', 'no', 'no', 'no', 'no', 'no', 'no', 'no', 'no', 'no',\n",
              "       'no', 'no', 'no', 'no', 'no', 'no', 'no', 'no', 'no', 'no', 'no',\n",
              "       'no', 'no', 'no', 'no', 'no', 'no', 'no', 'no', 'no', 'no', 'no',\n",
              "       'no', 'no', 'no', 'no', 'sell', 'no', 'no', 'no', 'no', 'no', 'no',\n",
              "       'no', 'no', 'no', 'no', 'buy', 'no', 'no', 'no', 'no', 'no', 'no',\n",
              "       'no', 'no', 'no', 'no', 'no', 'no', 'no', 'no', 'no', 'no', 'no',\n",
              "       'no', 'no', 'no', 'no', 'sell', 'no', 'no', 'no', 'no', 'no', 'no',\n",
              "       'no', 'no', 'no', 'no', 'no', 'no', 'no', 'no', 'no', 'no', 'no',\n",
              "       'no', 'no', 'no', 'no', 'no', 'no', 'no', 'no', 'no', 'no', 'no',\n",
              "       'no', 'no', 'no', 'no', 'no', 'no', 'no', 'no', 'no', 'no', 'no',\n",
              "       'no', 'no', 'no', 'no', 'no', 'no', 'no', 'no', 'no', 'no', 'no',\n",
              "       'no', 'no', 'no', 'no', 'sell', 'no', 'no', 'no', 'no', 'no', 'no',\n",
              "       'no', 'no', 'no', 'no', 'no', 'no', 'no', 'no', 'no', 'no', 'no',\n",
              "       'sell', 'sell', 'sell', 'sell', 'no', 'no', 'no', 'no', 'no', 'no',\n",
              "       'no', 'no', 'no', 'no', 'no', 'no', 'no', 'no', 'no', 'no', 'no',\n",
              "       'no', 'no', 'no', 'no', 'no', 'no', 'no', 'no', 'no', 'no', 'no',\n",
              "       'no', 'no', 'no', 'no', 'no', 'no', 'no', 'no', 'no', 'no', 'no',\n",
              "       'no', 'no', 'no', 'no', 'no', 'no', 'no', 'no', 'no', 'no', 'no',\n",
              "       'no', 'no', 'no', 'no', 'no', 'no', 'no', 'no', 'no', 'no', 'no',\n",
              "       'no', 'no', 'no', 'no'], dtype=object)"
            ]
          },
          "metadata": {
            "tags": []
          },
          "execution_count": 258
        }
      ]
    },
    {
      "cell_type": "code",
      "metadata": {
        "colab": {
          "base_uri": "https://localhost:8080/"
        },
        "id": "T252agrMyToS",
        "outputId": "433e8d4b-903a-447a-ef0e-d014115f217d"
      },
      "source": [
        "ay[ay == 'buy']"
      ],
      "execution_count": null,
      "outputs": [
        {
          "output_type": "execute_result",
          "data": {
            "text/plain": [
              "datetime\n",
              "2021-03-05 10:45:00+05:30    buy\n",
              "2021-03-05 14:45:00+05:30    buy\n",
              "2021-03-08 10:30:00+05:30    buy\n",
              "2021-03-08 13:30:00+05:30    buy\n",
              "2021-03-08 15:00:00+05:30    buy\n",
              "                            ... \n",
              "2021-04-26 12:30:00+05:30    buy\n",
              "2021-04-26 14:15:00+05:30    buy\n",
              "2021-04-27 10:00:00+05:30    buy\n",
              "2021-04-28 11:15:00+05:30    buy\n",
              "2021-04-28 13:30:00+05:30    buy\n",
              "Name: final_buy, Length: 67, dtype: object"
            ]
          },
          "metadata": {
            "tags": []
          },
          "execution_count": 259
        }
      ]
    },
    {
      "cell_type": "code",
      "metadata": {
        "colab": {
          "base_uri": "https://localhost:8080/"
        },
        "id": "CL2jMcgMyzEa",
        "outputId": "5d9eb1fa-4613-414e-ee6f-579391b2b045"
      },
      "source": [
        "ay.shape"
      ],
      "execution_count": null,
      "outputs": [
        {
          "output_type": "execute_result",
          "data": {
            "text/plain": [
              "(847,)"
            ]
          },
          "metadata": {
            "tags": []
          },
          "execution_count": 70
        }
      ]
    },
    {
      "cell_type": "code",
      "metadata": {
        "id": "KUuedVtpz5q1"
      },
      "source": [
        "from numpy import mean\n",
        "from numpy import std\n",
        "from numpy import dstack\n",
        "from pandas import read_csv\n",
        "from keras.models import Sequential\n",
        "from keras.layers import Dense\n",
        "from keras.layers import Flatten\n",
        "from keras.layers import Dropout\n",
        "from keras.layers import LSTM\n",
        "from keras.utils import to_categorical\n",
        "from matplotlib import pyplot\n",
        "\n",
        "# load a single file as a numpy array\n",
        "def load_file(filepath):\n",
        "\tdataframe = read_csv(filepath, header=None, delim_whitespace=True)\n",
        "\treturn dataframe.values\n",
        "\n",
        "# load a list of files and return as a 3d numpy array\n",
        "def load_group(filenames, prefix=''):\n",
        "\tloaded = list()\n",
        "\tfor name in filenames:\n",
        "\t\tdata = load_file(prefix + name)\n",
        "\t\tloaded.append(data)\n",
        "\t# stack group so that features are the 3rd dimension\n",
        "\tloaded = dstack(loaded)\n",
        "\treturn loaded\n",
        "\n",
        "# load a dataset group, such as train or test\n",
        "def load_dataset_group(group, prefix=''):\n",
        "\tfilepath = prefix + group + '/Inertial Signals/'\n",
        "\t# load all 9 files as a single array\n",
        "\tfilenames = list()\n",
        "\t# total acceleration\n",
        "\tfilenames += ['total_acc_x_'+group+'.txt', 'total_acc_y_'+group+'.txt', 'total_acc_z_'+group+'.txt']\n",
        "\t# body acceleration\n",
        "\tfilenames += ['body_acc_x_'+group+'.txt', 'body_acc_y_'+group+'.txt', 'body_acc_z_'+group+'.txt']\n",
        "\t# body gyroscope\n",
        "\tfilenames += ['body_gyro_x_'+group+'.txt', 'body_gyro_y_'+group+'.txt', 'body_gyro_z_'+group+'.txt']\n",
        "\t# load input data\n",
        "\tX = load_group(filenames, filepath)\n",
        "\t# load class output\n",
        "\ty = load_file(prefix + group + '/y_'+group+'.txt')\n",
        "\treturn X, y\n",
        "\n",
        "# load the dataset, returns train and test X and y elements\n",
        "def load_dataset(prefix=''):\n",
        "\t# load all train\n",
        "\ttrainX, trainy = load_dataset_group('train', prefix + 'HARDataset/')\n",
        "\tprint(trainX.shape, trainy.shape)\n",
        "\t# load all test\n",
        "\ttestX, testy = load_dataset_group('test', prefix + 'HARDataset/')\n",
        "\tprint(testX.shape, testy.shape)\n",
        "\t# zero-offset class values\n",
        "\ttrainy = trainy - 1\n",
        "\ttesty = testy - 1\n",
        "\t# one hot encode y\n",
        "\ttrainy = to_categorical(trainy)\n",
        "\ttesty = to_categorical(testy)\n",
        "\tprint(trainX.shape, trainy.shape, testX.shape, testy.shape)\n",
        "\treturn trainX, trainy, testX, testy\n",
        "\n",
        "# fit and evaluate a model\n",
        "def evaluate_model(trainX, trainy, testX, testy):\n",
        "\tverbose, epochs, batch_size = 0, 15, 64\n",
        "\tn_timesteps, n_features, n_outputs = trainX.shape[1], trainX.shape[2], trainy.shape[1]\n",
        "\tmodel = Sequential()\n",
        "\tmodel.add(LSTM(100, input_shape=(n_timesteps,n_features)))\n",
        "\tmodel.add(Dropout(0.5))\n",
        "\tmodel.add(Dense(100, activation='relu'))\n",
        "\tmodel.add(Dense(n_outputs, activation='softmax'))\n",
        "\tmodel.compile(loss='categorical_crossentropy', optimizer='adam', metrics=['accuracy'])\n",
        "\t# fit network\n",
        "\tmodel.fit(trainX, trainy, epochs=epochs, batch_size=batch_size, verbose=verbose)\n",
        "\t# evaluate model\n",
        "\t_, accuracy = model.evaluate(testX, testy, batch_size=batch_size, verbose=0)\n",
        "\treturn accuracy\n",
        "\n",
        "# summarize scores\n",
        "def summarize_results(scores):\n",
        "\tprint(scores)\n",
        "\tm, s = mean(scores), std(scores)\n",
        "\tprint('Accuracy: %.3f%% (+/-%.3f)' % (m, s))\n",
        "\n",
        "# run an experiment\n",
        "def run_experiment(repeats=10):\n",
        "\t# load data\n",
        "\ttrainX, trainy, testX, testy = load_dataset()\n",
        "\t# repeat experiment\n",
        "\tscores = list()\n",
        "\tfor r in range(repeats):\n",
        "\t\tscore = evaluate_model(trainX, trainy, testX, testy)\n",
        "\t\tscore = score * 100.0\n",
        "\t\tprint('>#%d: %.3f' % (r+1, score))\n",
        "\t\tscores.append(score)\n",
        "\t# summarize results\n",
        "\tsummarize_results(scores)\n",
        "\n",
        "# run the experiment\n",
        "run_experiment()"
      ],
      "execution_count": null,
      "outputs": []
    }
  ]
}