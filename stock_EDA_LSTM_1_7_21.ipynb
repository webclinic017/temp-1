{
  "nbformat": 4,
  "nbformat_minor": 0,
  "metadata": {
    "colab": {
      "name": "stock EDA  LSTM 1_7_21",
      "provenance": [],
      "toc_visible": true,
      "include_colab_link": true
    },
    "kernelspec": {
      "name": "python3",
      "display_name": "Python 3"
    },
    "language_info": {
      "name": "python"
    },
    "accelerator": "GPU"
  },
  "cells": [
    {
      "cell_type": "markdown",
      "metadata": {
        "id": "view-in-github",
        "colab_type": "text"
      },
      "source": [
        "<a href=\"https://colab.research.google.com/github/rushiai/temp/blob/main/stock_EDA_LSTM_1_7_21.ipynb\" target=\"_parent\"><img src=\"https://colab.research.google.com/assets/colab-badge.svg\" alt=\"Open In Colab\"/></a>"
      ]
    },
    {
      "cell_type": "code",
      "metadata": {
        "colab": {
          "base_uri": "https://localhost:8080/"
        },
        "id": "tlQAVn3Hur7H",
        "outputId": "28b9d6f3-35a6-45e3-c658-da5f10f4295f"
      },
      "source": [
        "pip install pandas_ta"
      ],
      "execution_count": null,
      "outputs": [
        {
          "output_type": "stream",
          "text": [
            "Collecting pandas_ta\n",
            "\u001b[?25l  Downloading https://files.pythonhosted.org/packages/f8/6f/3a19cf5153f6b91684cbe641d42f7d6a2e518f237be234e949adeceeffe1/pandas_ta-0.2.45b.tar.gz (88kB)\n",
            "\u001b[K     |████████████████████████████████| 92kB 5.8MB/s \n",
            "\u001b[?25hRequirement already satisfied: pandas in /usr/local/lib/python3.7/dist-packages (from pandas_ta) (1.1.5)\n",
            "Requirement already satisfied: pytz>=2017.2 in /usr/local/lib/python3.7/dist-packages (from pandas->pandas_ta) (2018.9)\n",
            "Requirement already satisfied: python-dateutil>=2.7.3 in /usr/local/lib/python3.7/dist-packages (from pandas->pandas_ta) (2.8.1)\n",
            "Requirement already satisfied: numpy>=1.15.4 in /usr/local/lib/python3.7/dist-packages (from pandas->pandas_ta) (1.19.5)\n",
            "Requirement already satisfied: six>=1.5 in /usr/local/lib/python3.7/dist-packages (from python-dateutil>=2.7.3->pandas->pandas_ta) (1.15.0)\n",
            "Building wheels for collected packages: pandas-ta\n",
            "  Building wheel for pandas-ta (setup.py) ... \u001b[?25l\u001b[?25hdone\n",
            "  Created wheel for pandas-ta: filename=pandas_ta-0.2.45b0-cp37-none-any.whl size=175305 sha256=3f4d86e3a9fd1e60cb7ada5139655ca27bfd5ee2a30ab8da340953391ad6bea6\n",
            "  Stored in directory: /root/.cache/pip/wheels/78/76/74/e4b09c98fc91d7e1e0a56f4fe067796f216deacaa509234579\n",
            "Successfully built pandas-ta\n",
            "Installing collected packages: pandas-ta\n",
            "Successfully installed pandas-ta-0.2.45b0\n"
          ],
          "name": "stdout"
        }
      ]
    },
    {
      "cell_type": "code",
      "metadata": {
        "colab": {
          "base_uri": "https://localhost:8080/"
        },
        "id": "QggoPY80vFhl",
        "outputId": "c4d6309e-d44a-4fae-801b-d4cf18fd0d78"
      },
      "source": [
        "pip install yfinance"
      ],
      "execution_count": null,
      "outputs": [
        {
          "output_type": "stream",
          "text": [
            "Collecting yfinance\n",
            "  Downloading https://files.pythonhosted.org/packages/a7/ee/315752b9ef281ba83c62aa7ec2e2074f85223da6e7e74efb4d3e11c0f510/yfinance-0.1.59.tar.gz\n",
            "Requirement already satisfied: pandas>=0.24 in /usr/local/lib/python3.7/dist-packages (from yfinance) (1.1.5)\n",
            "Requirement already satisfied: numpy>=1.15 in /usr/local/lib/python3.7/dist-packages (from yfinance) (1.19.5)\n",
            "Requirement already satisfied: requests>=2.20 in /usr/local/lib/python3.7/dist-packages (from yfinance) (2.23.0)\n",
            "Requirement already satisfied: multitasking>=0.0.7 in /usr/local/lib/python3.7/dist-packages (from yfinance) (0.0.9)\n",
            "Collecting lxml>=4.5.1\n",
            "\u001b[?25l  Downloading https://files.pythonhosted.org/packages/30/c0/d0526314971fc661b083ab135747dc68446a3022686da8c16d25fcf6ef07/lxml-4.6.3-cp37-cp37m-manylinux2014_x86_64.whl (6.3MB)\n",
            "\u001b[K     |████████████████████████████████| 6.3MB 11.5MB/s \n",
            "\u001b[?25hRequirement already satisfied: pytz>=2017.2 in /usr/local/lib/python3.7/dist-packages (from pandas>=0.24->yfinance) (2018.9)\n",
            "Requirement already satisfied: python-dateutil>=2.7.3 in /usr/local/lib/python3.7/dist-packages (from pandas>=0.24->yfinance) (2.8.1)\n",
            "Requirement already satisfied: urllib3!=1.25.0,!=1.25.1,<1.26,>=1.21.1 in /usr/local/lib/python3.7/dist-packages (from requests>=2.20->yfinance) (1.24.3)\n",
            "Requirement already satisfied: idna<3,>=2.5 in /usr/local/lib/python3.7/dist-packages (from requests>=2.20->yfinance) (2.10)\n",
            "Requirement already satisfied: chardet<4,>=3.0.2 in /usr/local/lib/python3.7/dist-packages (from requests>=2.20->yfinance) (3.0.4)\n",
            "Requirement already satisfied: certifi>=2017.4.17 in /usr/local/lib/python3.7/dist-packages (from requests>=2.20->yfinance) (2021.5.30)\n",
            "Requirement already satisfied: six>=1.5 in /usr/local/lib/python3.7/dist-packages (from python-dateutil>=2.7.3->pandas>=0.24->yfinance) (1.15.0)\n",
            "Building wheels for collected packages: yfinance\n",
            "  Building wheel for yfinance (setup.py) ... \u001b[?25l\u001b[?25hdone\n",
            "  Created wheel for yfinance: filename=yfinance-0.1.59-py2.py3-none-any.whl size=23455 sha256=911ea8e9bde98749813a93c38922f125e7c647e234daaf833ff503575be83a14\n",
            "  Stored in directory: /root/.cache/pip/wheels/f8/2a/0f/4b5a86e1d52e451757eb6bc17fd899629f0925c777741b6d04\n",
            "Successfully built yfinance\n",
            "Installing collected packages: lxml, yfinance\n",
            "  Found existing installation: lxml 4.2.6\n",
            "    Uninstalling lxml-4.2.6:\n",
            "      Successfully uninstalled lxml-4.2.6\n",
            "Successfully installed lxml-4.6.3 yfinance-0.1.59\n"
          ],
          "name": "stdout"
        }
      ]
    },
    {
      "cell_type": "code",
      "metadata": {
        "id": "OjyLTu1uvIed"
      },
      "source": [
        "import pandas as pd\n",
        "# import yfinance as yf\n",
        "import datetime as dt\n",
        "import pandas_ta as ta\n",
        "import numpy as np\n",
        "\n",
        "\n",
        "\n",
        "# This function finds the buy sell\n",
        "# schedule for maximum profit\n",
        "def stockBuySell(fdf):\n",
        "    \n",
        "    # start = dt.datetime.today()-dt.timedelta(7)\n",
        "    # end = dt.datetime.today()\n",
        "    # fdf = yf.download(tick,start=start, end=end,interval='1m')\n",
        "    # fdf.ta.strategy(ta.AllStrategy)\n",
        "    price = fdf['close']\n",
        "    n = len(fdf)\n",
        "    \n",
        "    fdf['final_buy'] = 'no'\n",
        "    # fdf['final_sell'] = 'no'\n",
        "    # fdf['profit'] = 0\n",
        "    total = 0\n",
        "    # Prices must be given for at least two days\n",
        "    if (n == 1):\n",
        "        return\n",
        "    \n",
        "    # Traverse through given price array\n",
        "    i = 0\n",
        "    while (i < (n - 1)):\n",
        "        \n",
        "        # Find Local Minima\n",
        "        # Note that the limit is (n-2) as we are\n",
        "        # comparing present element to the next element\n",
        "        while ((i < (n - 1)) and\n",
        "                (price[i + 1] <= price[i])):\n",
        "            i += 1\n",
        "        \n",
        "        # If we reached the end, break\n",
        "        # as no further solution possible\n",
        "        if (i == n - 1):\n",
        "            break\n",
        "        \n",
        "        # Store the index of minima\n",
        "        buy = i\n",
        "        i += 1\n",
        "        \n",
        "        # Find Local Maxima\n",
        "        # Note that the limit is (n-1) as we are\n",
        "        # comparing to previous element\n",
        "        while ((i < n) and (price[i] >= price[i - 1])):\n",
        "            i += 1\n",
        "            \n",
        "        # Store the index of maxima\n",
        "        sell = i - 1\n",
        "        \n",
        "        profit = fdf['close'][sell] - fdf['close'][buy]\n",
        "        \n",
        "        if (profit >= 7):\n",
        "            \n",
        "            print(\"Buy on day: \",buy,\"\\t\", \"Sell on day: \",sell,\"\\t\", \"Profit: \",profit)  \n",
        "            total = total + profit\n",
        "            # print(total)\n",
        "            fdf['final_buy'][buy] = 'buy'\n",
        "            fdf['final_buy'][sell] = 'sell'\n",
        "            # fdf['profit'][sell] = profit\n",
        "    # fdf.drop(['open', 'high', 'low', 'close', 'adj_close', 'volume','HILOs_13_21','HILOl_13_21','SUPERTl_7_3.0','QQEs_14_5_4.236','PSARs_0.02_0.2','PSARl_0.02_0.2','SUPERTs_7_3.0','QQEl_14_5_4.236'],axis=1,inplace=True)\n",
        "    # fdf = fdf.dropna()\n",
        "    # fdf = fdf.reset_index(drop=True)\n",
        "    return fdf   "
      ],
      "execution_count": null,
      "outputs": []
    },
    {
      "cell_type": "code",
      "metadata": {
        "id": "iGOYQolJvOy0"
      },
      "source": [
        "link = 'https://raw.githubusercontent.com/rushiai/data_csv/main/AXISBANK__EQ__NSE__NSE__MINUTE.csv'\n",
        "df = pd.read_csv(link)\n",
        "df = df.set_index(['timestamp'])\n",
        "df.index = pd.to_datetime(df.index)\n",
        "# df.head()\n",
        "vol = df.resample('15min').sum().volume\n",
        "price = df['close'].resample('15Min').ohlc()\n",
        "ndf = pd.concat([price, vol], axis=1)\n",
        "ndf.dropna(inplace=True)"
      ],
      "execution_count": null,
      "outputs": []
    },
    {
      "cell_type": "code",
      "metadata": {
        "id": "_Rg2dW9qvP-7"
      },
      "source": [
        "# temp = ndf.iloc[17698:]\n",
        "# train = temp.iloc[0:6000]\n",
        "# test = temp.iloc[6001:]\n",
        "\n",
        "temp = ndf\n",
        "train = temp\n",
        "# test = temp.iloc[6001:]"
      ],
      "execution_count": null,
      "outputs": []
    },
    {
      "cell_type": "code",
      "metadata": {
        "id": "Av17g-2BvSXu",
        "colab": {
          "base_uri": "https://localhost:8080/"
        },
        "outputId": "c95845ed-67d6-43a6-9786-74c53eedce1d"
      },
      "source": [
        "train.ta.strategy(ta.AllStrategy)\n",
        "# test.ta.strategy(ta.AllStrategy)"
      ],
      "execution_count": null,
      "outputs": [
        {
          "output_type": "stream",
          "text": [
            "/usr/local/lib/python3.7/dist-packages/pandas/core/arrays/datetimes.py:1092: UserWarning: Converting to PeriodArray/Index representation will drop timezone information.\n",
            "  UserWarning,\n",
            "/usr/local/lib/python3.7/dist-packages/pandas/core/arrays/datetimes.py:1092: UserWarning: Converting to PeriodArray/Index representation will drop timezone information.\n",
            "  UserWarning,\n"
          ],
          "name": "stderr"
        }
      ]
    },
    {
      "cell_type": "code",
      "metadata": {
        "id": "zSf8gZ7ovUSl",
        "colab": {
          "base_uri": "https://localhost:8080/"
        },
        "outputId": "491d3926-897a-4987-9a77-0e0d75f8cd2f"
      },
      "source": [
        "trainp = stockBuySell(train)\n",
        "# testp = stockBuySell(test)"
      ],
      "execution_count": null,
      "outputs": [
        {
          "output_type": "stream",
          "text": [
            "Buy on day:  25 \t Sell on day:  30 \t Profit:  11.199999999999989\n",
            "Buy on day:  151 \t Sell on day:  152 \t Profit:  7.199999999999989\n",
            "Buy on day:  199 \t Sell on day:  201 \t Profit:  8.100000000000023\n",
            "Buy on day:  229 \t Sell on day:  234 \t Profit:  11.0\n",
            "Buy on day:  422 \t Sell on day:  428 \t Profit:  8.900000000000034\n",
            "Buy on day:  447 \t Sell on day:  450 \t Profit:  12.600000000000023\n",
            "Buy on day:  527 \t Sell on day:  532 \t Profit:  7.050000000000011\n",
            "Buy on day:  599 \t Sell on day:  601 \t Profit:  7.7000000000000455\n",
            "Buy on day:  821 \t Sell on day:  825 \t Profit:  9.799999999999955\n",
            "Buy on day:  891 \t Sell on day:  902 \t Profit:  28.450000000000045\n",
            "Buy on day:  934 \t Sell on day:  940 \t Profit:  7.4500000000000455\n",
            "Buy on day:  999 \t Sell on day:  1003 \t Profit:  14.200000000000045\n",
            "Buy on day:  1072 \t Sell on day:  1076 \t Profit:  9.0\n",
            "Buy on day:  1145 \t Sell on day:  1149 \t Profit:  8.549999999999955\n",
            "Buy on day:  1349 \t Sell on day:  1354 \t Profit:  10.649999999999977\n",
            "Buy on day:  1448 \t Sell on day:  1450 \t Profit:  9.199999999999989\n",
            "Buy on day:  1472 \t Sell on day:  1475 \t Profit:  11.149999999999977\n",
            "Buy on day:  1557 \t Sell on day:  1562 \t Profit:  8.800000000000011\n",
            "Buy on day:  1599 \t Sell on day:  1602 \t Profit:  8.299999999999955\n",
            "Buy on day:  1812 \t Sell on day:  1816 \t Profit:  7.099999999999966\n",
            "Buy on day:  1880 \t Sell on day:  1888 \t Profit:  13.350000000000023\n",
            "Buy on day:  1917 \t Sell on day:  1925 \t Profit:  22.25\n",
            "Buy on day:  1931 \t Sell on day:  1932 \t Profit:  7.25\n",
            "Buy on day:  2055 \t Sell on day:  2062 \t Profit:  17.599999999999966\n",
            "Buy on day:  2156 \t Sell on day:  2162 \t Profit:  7.25\n",
            "Buy on day:  2323 \t Sell on day:  2327 \t Profit:  9.549999999999955\n",
            "Buy on day:  2865 \t Sell on day:  2871 \t Profit:  12.449999999999989\n",
            "Buy on day:  2993 \t Sell on day:  3000 \t Profit:  14.25\n",
            "Buy on day:  3022 \t Sell on day:  3027 \t Profit:  21.19999999999999\n",
            "Buy on day:  3056 \t Sell on day:  3058 \t Profit:  7.2000000000000455\n",
            "Buy on day:  3071 \t Sell on day:  3074 \t Profit:  7.0\n",
            "Buy on day:  3198 \t Sell on day:  3205 \t Profit:  8.500000000000057\n",
            "Buy on day:  3258 \t Sell on day:  3262 \t Profit:  7.100000000000023\n",
            "Buy on day:  3382 \t Sell on day:  3390 \t Profit:  11.450000000000045\n",
            "Buy on day:  3391 \t Sell on day:  3394 \t Profit:  8.699999999999932\n",
            "Buy on day:  3467 \t Sell on day:  3470 \t Profit:  8.75\n",
            "Buy on day:  3565 \t Sell on day:  3569 \t Profit:  7.0499999999999545\n",
            "Buy on day:  3787 \t Sell on day:  3792 \t Profit:  7.25\n",
            "Buy on day:  3808 \t Sell on day:  3810 \t Profit:  8.0\n",
            "Buy on day:  3855 \t Sell on day:  3861 \t Profit:  12.050000000000011\n",
            "Buy on day:  3936 \t Sell on day:  3937 \t Profit:  10.350000000000023\n",
            "Buy on day:  4336 \t Sell on day:  4339 \t Profit:  14.700000000000045\n",
            "Buy on day:  4385 \t Sell on day:  4388 \t Profit:  8.399999999999977\n",
            "Buy on day:  4518 \t Sell on day:  4524 \t Profit:  7.400000000000034\n",
            "Buy on day:  4533 \t Sell on day:  4539 \t Profit:  8.550000000000011\n",
            "Buy on day:  4552 \t Sell on day:  4557 \t Profit:  10.949999999999989\n",
            "Buy on day:  4603 \t Sell on day:  4606 \t Profit:  7.25\n",
            "Buy on day:  4634 \t Sell on day:  4639 \t Profit:  8.5\n",
            "Buy on day:  4786 \t Sell on day:  4789 \t Profit:  8.550000000000068\n",
            "Buy on day:  4827 \t Sell on day:  4835 \t Profit:  8.150000000000091\n",
            "Buy on day:  "
          ],
          "name": "stdout"
        },
        {
          "output_type": "stream",
          "text": [
            "/usr/local/lib/python3.7/dist-packages/ipykernel_launcher.py:64: SettingWithCopyWarning: \n",
            "A value is trying to be set on a copy of a slice from a DataFrame\n",
            "\n",
            "See the caveats in the documentation: https://pandas.pydata.org/pandas-docs/stable/user_guide/indexing.html#returning-a-view-versus-a-copy\n",
            "/usr/local/lib/python3.7/dist-packages/ipykernel_launcher.py:65: SettingWithCopyWarning: \n",
            "A value is trying to be set on a copy of a slice from a DataFrame\n",
            "\n",
            "See the caveats in the documentation: https://pandas.pydata.org/pandas-docs/stable/user_guide/indexing.html#returning-a-view-versus-a-copy\n"
          ],
          "name": "stderr"
        },
        {
          "output_type": "stream",
          "text": [
            "4840 \t Sell on day:  4844 \t Profit:  7.5\n",
            "Buy on day:  4990 \t Sell on day:  4991 \t Profit:  16.19999999999999\n",
            "Buy on day:  4993 \t Sell on day:  4999 \t Profit:  11.199999999999989\n",
            "Buy on day:  5013 \t Sell on day:  5016 \t Profit:  7.349999999999966\n",
            "Buy on day:  5089 \t Sell on day:  5092 \t Profit:  23.0\n",
            "Buy on day:  5097 \t Sell on day:  5101 \t Profit:  7.2999999999999545\n",
            "Buy on day:  5102 \t Sell on day:  5106 \t Profit:  14.299999999999955\n",
            "Buy on day:  5114 \t Sell on day:  5118 \t Profit:  17.90000000000009\n",
            "Buy on day:  5163 \t Sell on day:  5166 \t Profit:  14.149999999999977\n",
            "Buy on day:  5240 \t Sell on day:  5241 \t Profit:  20.350000000000023\n",
            "Buy on day:  5247 \t Sell on day:  5252 \t Profit:  8.0\n",
            "Buy on day:  5257 \t Sell on day:  5259 \t Profit:  7.2000000000000455\n",
            "Buy on day:  5263 \t Sell on day:  5267 \t Profit:  7.600000000000023\n",
            "Buy on day:  5291 \t Sell on day:  5295 \t Profit:  9.350000000000023\n",
            "Buy on day:  5313 \t Sell on day:  5316 \t Profit:  18.75\n",
            "Buy on day:  5341 \t Sell on day:  5345 \t Profit:  7.0\n",
            "Buy on day:  5414 \t Sell on day:  5416 \t Profit:  11.25\n",
            "Buy on day:  5567 \t Sell on day:  5570 \t Profit:  13.25\n",
            "Buy on day:  5787 \t Sell on day:  5791 \t Profit:  8.75\n",
            "Buy on day:  5813 \t Sell on day:  5817 \t Profit:  9.599999999999909\n",
            "Buy on day:  5913 \t Sell on day:  5918 \t Profit:  7.0\n",
            "Buy on day:  5985 \t Sell on day:  5987 \t Profit:  8.0\n",
            "Buy on day:  6005 \t Sell on day:  6013 \t Profit:  7.050000000000068\n",
            "Buy on day:  6139 \t Sell on day:  6145 \t Profit:  8.149999999999977\n",
            "Buy on day:  6229 \t Sell on day:  6234 \t Profit:  7.5\n",
            "Buy on day:  6288 \t Sell on day:  6292 \t Profit:  8.25\n",
            "Buy on day:  6467 \t Sell on day:  6468 \t Profit:  7.5499999999999545\n",
            "Buy on day:  6483 \t Sell on day:  6491 \t Profit:  22.350000000000023\n",
            "Buy on day:  6517 \t Sell on day:  6519 \t Profit:  7.899999999999977\n",
            "Buy on day:  6536 \t Sell on day:  6540 \t Profit:  9.149999999999977\n",
            "Buy on day:  6557 \t Sell on day:  6559 \t Profit:  18.649999999999977\n",
            "Buy on day:  6560 \t Sell on day:  6561 \t Profit:  10.399999999999977\n",
            "Buy on day:  6564 \t Sell on day:  6566 \t Profit:  15.350000000000023\n",
            "Buy on day:  6729 \t Sell on day:  6733 \t Profit:  15.899999999999977\n",
            "Buy on day:  6766 \t Sell on day:  6772 \t Profit:  11.600000000000023\n",
            "Buy on day:  6777 \t Sell on day:  6780 \t Profit:  7.850000000000023\n",
            "Buy on day:  6806 \t Sell on day:  6811 \t Profit:  33.049999999999955\n",
            "Buy on day:  6814 \t Sell on day:  6818 \t Profit:  11.300000000000068\n",
            "Buy on day:  6840 \t Sell on day:  6847 \t Profit:  13.25\n",
            "Buy on day:  6890 \t Sell on day:  6892 \t Profit:  7.050000000000068\n",
            "Buy on day:  6941 \t Sell on day:  6944 \t Profit:  12.299999999999955\n",
            "Buy on day:  7010 \t Sell on day:  7012 \t Profit:  8.899999999999977\n",
            "Buy on day:  7013 \t Sell on day:  7014 \t Profit:  8.0\n",
            "Buy on day:  7183 \t Sell on day:  7189 \t Profit:  8.049999999999955\n",
            "Buy on day:  7295 \t Sell on day:  7304 \t Profit:  7.7999999999999545\n",
            "Buy on day:  7361 \t Sell on day:  7364 \t Profit:  8.050000000000068\n",
            "Buy on day:  7367 \t Sell on day:  7370 \t Profit:  10.199999999999932\n",
            "Buy on day:  7410 \t Sell on day:  7413 \t Profit:  7.300000000000068\n",
            "Buy on day:  7513 \t Sell on day:  7519 \t Profit:  12.800000000000068\n",
            "Buy on day:  7599 \t Sell on day:  7604 \t Profit:  7.0\n",
            "Buy on day:  7615 \t Sell on day:  7617 \t Profit:  13.550000000000011\n",
            "Buy on day:  7804 \t Sell on day:  7810 \t Profit:  8.75\n",
            "Buy on day:  7815 \t Sell on day:  7818 \t Profit:  21.649999999999977\n",
            "Buy on day:  7821 \t Sell on day:  7826 \t Profit:  7.150000000000091\n",
            "Buy on day:  7890 \t Sell on day:  7891 \t Profit:  7.949999999999932\n",
            "Buy on day:  8042 \t Sell on day:  8045 \t Profit:  8.800000000000011\n",
            "Buy on day:  8064 \t Sell on day:  8067 \t Profit:  7.550000000000011\n",
            "Buy on day:  8138 \t Sell on day:  8139 \t Profit:  7.050000000000011\n",
            "Buy on day:  8140 \t Sell on day:  8144 \t Profit:  28.300000000000068\n",
            "Buy on day:  8154 \t Sell on day:  8156 \t Profit:  7.5\n",
            "Buy on day:  8158 \t Sell on day:  8160 \t Profit:  11.599999999999909\n",
            "Buy on day:  8216 \t Sell on day:  8219 \t Profit:  11.75\n",
            "Buy on day:  8264 \t Sell on day:  8270 \t Profit:  10.5\n",
            "Buy on day:  8290 \t Sell on day:  8293 \t Profit:  10.799999999999955\n",
            "Buy on day:  8387 \t Sell on day:  8391 \t Profit:  9.349999999999909\n",
            "Buy on day:  8415 \t Sell on day:  8418 \t Profit:  10.899999999999977\n",
            "Buy on day:  8610 \t Sell on day:  8616 \t Profit:  8.699999999999932\n",
            "Buy on day:  8638 \t Sell on day:  8643 \t Profit:  11.350000000000023\n",
            "Buy on day:  8735 \t Sell on day:  8739 \t Profit:  12.200000000000045\n",
            "Buy on day:  8839 \t Sell on day:  8845 \t Profit:  13.100000000000023\n",
            "Buy on day:  8939 \t Sell on day:  8943 \t Profit:  11.649999999999977\n",
            "Buy on day:  9010 \t Sell on day:  9015 \t Profit:  13.350000000000023\n",
            "Buy on day:  9064 \t Sell on day:  9067 \t Profit:  8.0\n",
            "Buy on day:  9216 \t Sell on day:  9218 \t Profit:  7.099999999999966\n",
            "Buy on day:  9279 \t Sell on day:  9283 \t Profit:  7.0499999999999545\n",
            "Buy on day:  9290 \t Sell on day:  9291 \t Profit:  7.400000000000034\n",
            "Buy on day:  9390 \t Sell on day:  9393 \t Profit:  14.999999999999943\n",
            "Buy on day:  9416 \t Sell on day:  9419 \t Profit:  10.5\n",
            "Buy on day:  9442 \t Sell on day:  9446 \t Profit:  7.0499999999999545\n",
            "Buy on day:  9462 \t Sell on day:  9469 \t Profit:  9.149999999999977\n",
            "Buy on day:  9637 \t Sell on day:  9641 \t Profit:  9.649999999999977\n",
            "Buy on day:  9656 \t Sell on day:  9661 \t Profit:  11.950000000000045\n",
            "Buy on day:  9743 \t Sell on day:  9745 \t Profit:  13.149999999999977\n",
            "Buy on day:  9765 \t Sell on day:  9769 \t Profit:  7.649999999999977\n",
            "Buy on day:  9790 \t Sell on day:  9791 \t Profit:  9.350000000000023\n",
            "Buy on day:  9856 \t Sell on day:  9859 \t Profit:  8.200000000000045\n",
            "Buy on day:  9865 \t Sell on day:  9868 \t Profit:  9.049999999999955\n",
            "Buy on day:  9877 \t Sell on day:  9887 \t Profit:  21.600000000000023\n",
            "Buy on day:  9888 \t Sell on day:  9891 \t Profit:  7.350000000000023\n",
            "Buy on day:  9893 \t Sell on day:  9899 \t Profit:  18.899999999999977\n",
            "Buy on day:  9903 \t Sell on day:  9907 \t Profit:  7.400000000000091\n",
            "Buy on day:  9916 \t Sell on day:  9917 \t Profit:  14.200000000000045\n",
            "Buy on day:  9934 \t Sell on day:  9939 \t Profit:  7.350000000000023\n",
            "Buy on day:  9965 \t Sell on day:  9966 \t Profit:  7.5\n",
            "Buy on day:  9967 \t Sell on day:  9969 \t Profit:  10.600000000000023\n",
            "Buy on day:  9986 \t Sell on day:  9989 \t Profit:  7.600000000000023\n",
            "Buy on day:  10038 \t Sell on day:  10042 \t Profit:  13.899999999999977\n",
            "Buy on day:  10066 \t Sell on day:  10068 \t Profit:  13.399999999999977\n",
            "Buy on day:  10088 \t Sell on day:  10091 \t Profit:  7.5499999999999545\n",
            "Buy on day:  10161 \t Sell on day:  10163 \t Profit:  14.350000000000023\n",
            "Buy on day:  10189 \t Sell on day:  10192 \t Profit:  9.100000000000023\n",
            "Buy on day:  10215 \t Sell on day:  10218 \t Profit:  10.549999999999955\n",
            "Buy on day:  10260 \t Sell on day:  10263 \t Profit:  12.199999999999932\n",
            "Buy on day:  10371 \t Sell on day:  10375 \t Profit:  7.550000000000068\n",
            "Buy on day:  10376 \t Sell on day:  10379 \t Profit:  8.850000000000023\n",
            "Buy on day:  10385 \t Sell on day:  10390 \t Profit:  9.25\n",
            "Buy on day:  10434 \t Sell on day:  10438 \t Profit:  9.75\n",
            "Buy on day:  10465 \t Sell on day:  10467 \t Profit:  30.25\n",
            "Buy on day:  10490 \t Sell on day:  10494 \t Profit:  11.549999999999955\n",
            "Buy on day:  10617 \t Sell on day:  10620 \t Profit:  9.800000000000068\n",
            "Buy on day:  10639 \t Sell on day:  10643 \t Profit:  21.450000000000045\n",
            "Buy on day:  10656 \t Sell on day:  10658 \t Profit:  11.799999999999955\n",
            "Buy on day:  10669 \t Sell on day:  10670 \t Profit:  7.100000000000023\n",
            "Buy on day:  10691 \t Sell on day:  10697 \t Profit:  20.75\n",
            "Buy on day:  10712 \t Sell on day:  10716 \t Profit:  16.700000000000045\n",
            "Buy on day:  10788 \t Sell on day:  10790 \t Profit:  13.75\n",
            "Buy on day:  10811 \t Sell on day:  10814 \t Profit:  8.299999999999955\n",
            "Buy on day:  10841 \t Sell on day:  10845 \t Profit:  13.899999999999977\n",
            "Buy on day:  10858 \t Sell on day:  10864 \t Profit:  18.149999999999977\n",
            "Buy on day:  10911 \t Sell on day:  10914 \t Profit:  8.200000000000045\n",
            "Buy on day:  10940 \t Sell on day:  10944 \t Profit:  15.950000000000045\n",
            "Buy on day:  10954 \t Sell on day:  10960 \t Profit:  12.799999999999955\n",
            "Buy on day:  10966 \t Sell on day:  10970 \t Profit:  12.399999999999977\n",
            "Buy on day:  10971 \t Sell on day:  10976 \t Profit:  7.2999999999999545\n",
            "Buy on day:  10989 \t Sell on day:  10991 \t Profit:  13.0\n",
            "Buy on day:  11036 \t Sell on day:  11042 \t Profit:  11.550000000000068\n",
            "Buy on day:  11081 \t Sell on day:  11088 \t Profit:  11.199999999999932\n",
            "Buy on day:  11109 \t Sell on day:  11111 \t Profit:  7.100000000000023\n",
            "Buy on day:  11116 \t Sell on day:  11120 \t Profit:  8.850000000000023\n",
            "Buy on day:  11140 \t Sell on day:  11144 \t Profit:  7.25\n",
            "Buy on day:  11163 \t Sell on day:  11168 \t Profit:  14.300000000000068\n",
            "Buy on day:  11240 \t Sell on day:  11246 \t Profit:  38.549999999999955\n",
            "Buy on day:  11287 \t Sell on day:  11291 \t Profit:  7.350000000000023\n",
            "Buy on day:  11295 \t Sell on day:  11298 \t Profit:  9.049999999999955\n",
            "Buy on day:  11307 \t Sell on day:  11314 \t Profit:  10.649999999999977\n",
            "Buy on day:  11315 \t Sell on day:  11317 \t Profit:  9.649999999999977\n",
            "Buy on day:  11323 \t Sell on day:  11331 \t Profit:  15.899999999999977\n",
            "Buy on day:  11339 \t Sell on day:  11341 \t Profit:  10.850000000000023\n",
            "Buy on day:  11364 \t Sell on day:  11367 \t Profit:  13.600000000000023\n",
            "Buy on day:  11368 \t Sell on day:  11371 \t Profit:  10.900000000000091\n",
            "Buy on day:  11419 \t Sell on day:  11423 \t Profit:  13.100000000000023\n",
            "Buy on day:  11519 \t Sell on day:  11522 \t Profit:  9.299999999999955\n",
            "Buy on day:  11532 \t Sell on day:  11537 \t Profit:  9.900000000000091\n",
            "Buy on day:  11544 \t Sell on day:  11545 \t Profit:  11.599999999999909\n",
            "Buy on day:  11625 \t Sell on day:  11632 \t Profit:  10.300000000000068\n",
            "Buy on day:  11668 \t Sell on day:  11670 \t Profit:  11.850000000000023\n",
            "Buy on day:  11692 \t Sell on day:  11693 \t Profit:  7.9500000000000455\n",
            "Buy on day:  11744 \t Sell on day:  11747 \t Profit:  9.199999999999932\n",
            "Buy on day:  11947 \t Sell on day:  11952 \t Profit:  14.350000000000023\n",
            "Buy on day:  11957 \t Sell on day:  11961 \t Profit:  9.100000000000023\n",
            "Buy on day:  11969 \t Sell on day:  11970 \t Profit:  7.5\n",
            "Buy on day:  11987 \t Sell on day:  11995 \t Profit:  14.399999999999977\n",
            "Buy on day:  12094 \t Sell on day:  12096 \t Profit:  9.900000000000091\n",
            "Buy on day:  12106 \t Sell on day:  12112 \t Profit:  15.949999999999932\n",
            "Buy on day:  12198 \t Sell on day:  12207 \t Profit:  14.399999999999977\n",
            "Buy on day:  12244 \t Sell on day:  12250 \t Profit:  10.100000000000023\n",
            "Buy on day:  12294 \t Sell on day:  12297 \t Profit:  7.399999999999977\n",
            "Buy on day:  12367 \t Sell on day:  12370 \t Profit:  7.899999999999977\n",
            "Buy on day:  12392 \t Sell on day:  12400 \t Profit:  18.649999999999977\n",
            "Buy on day:  12429 \t Sell on day:  12437 \t Profit:  7.75\n",
            "Buy on day:  12438 \t Sell on day:  12447 \t Profit:  24.5\n",
            "Buy on day:  12463 \t Sell on day:  12469 \t Profit:  10.800000000000068\n",
            "Buy on day:  12486 \t Sell on day:  12494 \t Profit:  8.700000000000045\n",
            "Buy on day:  12611 \t Sell on day:  12617 \t Profit:  9.5\n",
            "Buy on day:  12744 \t Sell on day:  12746 \t Profit:  10.600000000000023\n",
            "Buy on day:  12816 \t Sell on day:  12821 \t Profit:  43.0\n",
            "Buy on day:  12829 \t Sell on day:  12835 \t Profit:  8.649999999999977\n",
            "Buy on day:  12843 \t Sell on day:  12848 \t Profit:  12.050000000000068\n",
            "Buy on day:  12858 \t Sell on day:  12865 \t Profit:  12.049999999999955\n",
            "Buy on day:  12889 \t Sell on day:  12894 \t Profit:  7.699999999999932\n",
            "Buy on day:  12909 \t Sell on day:  12916 \t Profit:  13.399999999999977\n",
            "Buy on day:  12963 \t Sell on day:  12967 \t Profit:  7.25\n",
            "Buy on day:  13097 \t Sell on day:  13102 \t Profit:  7.150000000000091\n",
            "Buy on day:  13153 \t Sell on day:  13159 \t Profit:  10.899999999999977\n",
            "Buy on day:  13169 \t Sell on day:  13173 \t Profit:  11.350000000000023\n",
            "Buy on day:  13194 \t Sell on day:  13195 \t Profit:  10.699999999999932\n",
            "Buy on day:  13309 \t Sell on day:  13311 \t Profit:  9.5\n",
            "Buy on day:  13319 \t Sell on day:  13322 \t Profit:  13.600000000000023\n",
            "Buy on day:  13406 \t Sell on day:  13408 \t Profit:  8.349999999999909\n",
            "Buy on day:  13461 \t Sell on day:  13465 \t Profit:  13.949999999999932\n",
            "Buy on day:  13494 \t Sell on day:  13495 \t Profit:  9.900000000000091\n",
            "Buy on day:  13521 \t Sell on day:  13525 \t Profit:  7.5\n",
            "Buy on day:  13545 \t Sell on day:  13546 \t Profit:  8.299999999999955\n",
            "Buy on day:  13568 \t Sell on day:  13571 \t Profit:  10.450000000000045\n",
            "Buy on day:  13618 \t Sell on day:  13621 \t Profit:  17.700000000000045\n",
            "Buy on day:  13631 \t Sell on day:  13637 \t Profit:  8.5\n",
            "Buy on day:  13642 \t Sell on day:  13644 \t Profit:  7.399999999999977\n",
            "Buy on day:  13664 \t Sell on day:  13670 \t Profit:  9.799999999999955\n",
            "Buy on day:  13694 \t Sell on day:  13697 \t Profit:  9.950000000000045\n",
            "Buy on day:  13763 \t Sell on day:  13770 \t Profit:  18.800000000000068\n",
            "Buy on day:  13815 \t Sell on day:  13818 \t Profit:  18.199999999999932\n",
            "Buy on day:  13918 \t Sell on day:  13921 \t Profit:  8.350000000000023\n",
            "Buy on day:  14118 \t Sell on day:  14122 \t Profit:  9.349999999999909\n",
            "Buy on day:  14268 \t Sell on day:  14272 \t Profit:  13.300000000000068\n",
            "Buy on day:  14276 \t Sell on day:  14281 \t Profit:  7.050000000000068\n",
            "Buy on day:  14284 \t Sell on day:  14287 \t Profit:  7.75\n",
            "Buy on day:  14294 \t Sell on day:  14296 \t Profit:  7.949999999999932\n",
            "Buy on day:  14391 \t Sell on day:  14395 \t Profit:  8.350000000000023\n",
            "Buy on day:  14494 \t Sell on day:  14498 \t Profit:  7.550000000000068\n",
            "Buy on day:  14530 \t Sell on day:  14536 \t Profit:  13.049999999999955\n",
            "Buy on day:  14569 \t Sell on day:  14571 \t Profit:  9.25\n",
            "Buy on day:  14582 \t Sell on day:  14589 \t Profit:  10.0\n",
            "Buy on day:  14601 \t Sell on day:  14606 \t Profit:  10.0\n",
            "Buy on day:  14618 \t Sell on day:  14621 \t Profit:  22.40000000000009\n",
            "Buy on day:  14632 \t Sell on day:  14638 \t Profit:  12.149999999999977\n",
            "Buy on day:  14694 \t Sell on day:  14695 \t Profit:  16.549999999999955\n",
            "Buy on day:  14696 \t Sell on day:  14698 \t Profit:  10.5\n",
            "Buy on day:  14707 \t Sell on day:  14710 \t Profit:  7.600000000000023\n",
            "Buy on day:  14718 \t Sell on day:  14720 \t Profit:  10.700000000000045\n",
            "Buy on day:  14744 \t Sell on day:  14747 \t Profit:  10.0\n",
            "Buy on day:  14763 \t Sell on day:  14768 \t Profit:  15.0\n",
            "Buy on day:  14842 \t Sell on day:  14848 \t Profit:  10.350000000000023\n",
            "Buy on day:  14908 \t Sell on day:  14911 \t Profit:  12.450000000000045\n",
            "Buy on day:  14945 \t Sell on day:  14948 \t Profit:  7.199999999999932\n",
            "Buy on day:  14969 \t Sell on day:  14972 \t Profit:  8.350000000000023\n",
            "Buy on day:  15011 \t Sell on day:  15014 \t Profit:  7.399999999999977\n",
            "Buy on day:  15042 \t Sell on day:  15045 \t Profit:  7.600000000000023\n",
            "Buy on day:  15144 \t Sell on day:  15145 \t Profit:  13.5\n",
            "Buy on day:  15185 \t Sell on day:  15193 \t Profit:  9.799999999999955\n",
            "Buy on day:  15249 \t Sell on day:  15257 \t Profit:  10.350000000000023\n",
            "Buy on day:  15263 \t Sell on day:  15265 \t Profit:  10.399999999999977\n",
            "Buy on day:  15269 \t Sell on day:  15271 \t Profit:  8.799999999999955\n",
            "Buy on day:  15294 \t Sell on day:  15300 \t Profit:  15.700000000000045\n",
            "Buy on day:  15314 \t Sell on day:  15318 \t Profit:  16.149999999999977\n",
            "Buy on day:  15340 \t Sell on day:  15345 \t Profit:  13.75\n",
            "Buy on day:  15498 \t Sell on day:  15505 \t Profit:  10.649999999999977\n",
            "Buy on day:  15620 \t Sell on day:  15621 \t Profit:  8.0\n",
            "Buy on day:  15688 \t Sell on day:  15691 \t Profit:  7.199999999999932\n",
            "Buy on day:  15720 \t Sell on day:  15723 \t Profit:  7.100000000000023\n",
            "Buy on day:  15744 \t Sell on day:  15746 \t Profit:  10.299999999999955\n",
            "Buy on day:  15794 \t Sell on day:  15796 \t Profit:  10.100000000000023\n",
            "Buy on day:  15814 \t Sell on day:  15818 \t Profit:  8.800000000000068\n",
            "Buy on day:  15822 \t Sell on day:  15829 \t Profit:  9.25\n",
            "Buy on day:  15867 \t Sell on day:  15870 \t Profit:  10.75\n",
            "Buy on day:  15895 \t Sell on day:  15897 \t Profit:  22.5\n",
            "Buy on day:  15901 \t Sell on day:  15905 \t Profit:  7.4500000000000455\n",
            "Buy on day:  15952 \t Sell on day:  15955 \t Profit:  12.0\n",
            "Buy on day:  15976 \t Sell on day:  15980 \t Profit:  8.799999999999955\n",
            "Buy on day:  15982 \t Sell on day:  15985 \t Profit:  7.0499999999999545\n",
            "Buy on day:  15994 \t Sell on day:  15995 \t Profit:  9.649999999999977\n",
            "Buy on day:  16011 \t Sell on day:  16016 \t Profit:  10.5\n",
            "Buy on day:  16064 \t Sell on day:  16070 \t Profit:  21.949999999999932\n",
            "Buy on day:  16076 \t Sell on day:  16083 \t Profit:  11.25\n",
            "Buy on day:  16119 \t Sell on day:  16121 \t Profit:  11.349999999999909\n",
            "Buy on day:  16145 \t Sell on day:  16147 \t Profit:  8.799999999999955\n",
            "Buy on day:  16171 \t Sell on day:  16174 \t Profit:  9.0\n",
            "Buy on day:  16239 \t Sell on day:  16244 \t Profit:  7.25\n",
            "Buy on day:  16270 \t Sell on day:  16275 \t Profit:  15.650000000000091\n",
            "Buy on day:  16297 \t Sell on day:  16301 \t Profit:  8.649999999999977\n",
            "Buy on day:  16315 \t Sell on day:  16318 \t Profit:  9.0\n",
            "Buy on day:  16319 \t Sell on day:  16320 \t Profit:  9.700000000000045\n",
            "Buy on day:  16404 \t Sell on day:  16410 \t Profit:  7.25\n",
            "Buy on day:  16411 \t Sell on day:  16419 \t Profit:  16.5\n",
            "Buy on day:  16469 \t Sell on day:  16470 \t Profit:  10.850000000000023\n",
            "Buy on day:  16494 \t Sell on day:  16498 \t Profit:  16.100000000000023\n",
            "Buy on day:  16520 \t Sell on day:  16526 \t Profit:  11.399999999999977\n",
            "Buy on day:  16610 \t Sell on day:  16614 \t Profit:  11.0\n",
            "Buy on day:  16687 \t Sell on day:  16690 \t Profit:  7.4500000000000455\n",
            "Buy on day:  16722 \t Sell on day:  16731 \t Profit:  46.09999999999991\n",
            "Buy on day:  16733 \t Sell on day:  16737 \t Profit:  16.59999999999991\n",
            "Buy on day:  16744 \t Sell on day:  16745 \t Profit:  39.05000000000007\n",
            "Buy on day:  16749 \t Sell on day:  16755 \t Profit:  21.950000000000045\n",
            "Buy on day:  16795 \t Sell on day:  16797 \t Profit:  7.449999999999932\n",
            "Buy on day:  16819 \t Sell on day:  16821 \t Profit:  15.350000000000023\n",
            "Buy on day:  16822 \t Sell on day:  16824 \t Profit:  10.899999999999977\n",
            "Buy on day:  16894 \t Sell on day:  16895 \t Profit:  12.800000000000068\n",
            "Buy on day:  16899 \t Sell on day:  16901 \t Profit:  8.899999999999977\n",
            "Buy on day:  16914 \t Sell on day:  16918 \t Profit:  16.399999999999977\n",
            "Buy on day:  16920 \t Sell on day:  16922 \t Profit:  7.550000000000068\n",
            "Buy on day:  16970 \t Sell on day:  16971 \t Profit:  8.700000000000045\n",
            "Buy on day:  16978 \t Sell on day:  16981 \t Profit:  7.2999999999999545\n",
            "Buy on day:  16992 \t Sell on day:  16993 \t Profit:  8.799999999999955\n",
            "Buy on day:  17002 \t Sell on day:  17005 \t Profit:  11.799999999999955\n",
            "Buy on day:  17040 \t Sell on day:  17046 \t Profit:  15.300000000000068\n",
            "Buy on day:  17073 \t Sell on day:  17084 \t Profit:  12.649999999999977\n",
            "Buy on day:  17093 \t Sell on day:  17095 \t Profit:  7.7999999999999545\n",
            "Buy on day:  17110 \t Sell on day:  17115 \t Profit:  8.899999999999977\n",
            "Buy on day:  17123 \t Sell on day:  17126 \t Profit:  8.049999999999955\n",
            "Buy on day:  17136 \t Sell on day:  17143 \t Profit:  8.850000000000023\n",
            "Buy on day:  17252 \t Sell on day:  17256 \t Profit:  7.350000000000023\n",
            "Buy on day:  17299 \t Sell on day:  17301 \t Profit:  7.7000000000000455\n",
            "Buy on day:  17303 \t Sell on day:  17307 \t Profit:  12.549999999999955\n",
            "Buy on day:  17317 \t Sell on day:  17324 \t Profit:  12.350000000000023\n",
            "Buy on day:  17327 \t Sell on day:  17329 \t Profit:  7.149999999999977\n",
            "Buy on day:  17375 \t Sell on day:  17377 \t Profit:  8.450000000000045\n",
            "Buy on day:  17415 \t Sell on day:  17419 \t Profit:  7.25\n",
            "Buy on day:  17456 \t Sell on day:  17458 \t Profit:  11.299999999999955\n",
            "Buy on day:  17473 \t Sell on day:  17475 \t Profit:  9.050000000000068\n",
            "Buy on day:  17577 \t Sell on day:  17579 \t Profit:  8.200000000000045\n",
            "Buy on day:  17617 \t Sell on day:  17620 \t Profit:  8.5\n",
            "Buy on day:  17645 \t Sell on day:  17649 \t Profit:  15.0\n",
            "Buy on day:  17674 \t Sell on day:  17678 \t Profit:  10.149999999999977\n",
            "Buy on day:  17748 \t Sell on day:  17750 \t Profit:  7.699999999999932\n",
            "Buy on day:  17762 \t Sell on day:  17772 \t Profit:  16.800000000000068\n",
            "Buy on day:  17795 \t Sell on day:  17798 \t Profit:  9.5\n",
            "Buy on day:  17799 \t Sell on day:  17800 \t Profit:  7.2000000000000455\n",
            "Buy on day:  17924 \t Sell on day:  17927 \t Profit:  11.149999999999977\n",
            "Buy on day:  17943 \t Sell on day:  17949 \t Profit:  10.25\n",
            "Buy on day:  18018 \t Sell on day:  18023 \t Profit:  8.0\n",
            "Buy on day:  18098 \t Sell on day:  18102 \t Profit:  17.75\n",
            "Buy on day:  18148 \t Sell on day:  18154 \t Profit:  8.049999999999955\n",
            "Buy on day:  18195 \t Sell on day:  18199 \t Profit:  7.75\n",
            "Buy on day:  18321 \t Sell on day:  18327 \t Profit:  11.799999999999955\n",
            "Buy on day:  18341 \t Sell on day:  18350 \t Profit:  10.5\n",
            "Buy on day:  18498 \t Sell on day:  18500 \t Profit:  15.149999999999977\n",
            "Buy on day:  18524 \t Sell on day:  18525 \t Profit:  8.399999999999977\n",
            "Buy on day:  18548 \t Sell on day:  18550 \t Profit:  12.5\n",
            "Buy on day:  18552 \t Sell on day:  18561 \t Profit:  7.900000000000091\n",
            "Buy on day:  18575 \t Sell on day:  18579 \t Profit:  7.349999999999909\n",
            "Buy on day:  18629 \t Sell on day:  18636 \t Profit:  7.5\n",
            "Buy on day:  18642 \t Sell on day:  18645 \t Profit:  7.649999999999977\n",
            "Buy on day:  18662 \t Sell on day:  18669 \t Profit:  7.850000000000023\n",
            "Buy on day:  18798 \t Sell on day:  18800 \t Profit:  23.050000000000068\n",
            "Buy on day:  18849 \t Sell on day:  18853 \t Profit:  10.299999999999955\n",
            "Buy on day:  18898 \t Sell on day:  18901 \t Profit:  8.600000000000023\n",
            "Buy on day:  19000 \t Sell on day:  19005 \t Profit:  10.300000000000068\n",
            "Buy on day:  19016 \t Sell on day:  19021 \t Profit:  8.25\n",
            "Buy on day:  19022 \t Sell on day:  19024 \t Profit:  9.799999999999955\n",
            "Buy on day:  19044 \t Sell on day:  19051 \t Profit:  10.950000000000045\n",
            "Buy on day:  19074 \t Sell on day:  19079 \t Profit:  8.450000000000045\n",
            "Buy on day:  19083 \t Sell on day:  19084 \t Profit:  7.75\n",
            "Buy on day:  19107 \t Sell on day:  19112 \t Profit:  8.600000000000023\n",
            "Buy on day:  19148 \t Sell on day:  19150 \t Profit:  15.549999999999955\n",
            "Buy on day:  19173 \t Sell on day:  19174 \t Profit:  9.75\n",
            "Buy on day:  19295 \t Sell on day:  19299 \t Profit:  15.850000000000023\n",
            "Buy on day:  19319 \t Sell on day:  19324 \t Profit:  7.7999999999999545\n",
            "Buy on day:  19393 \t Sell on day:  19396 \t Profit:  7.0\n",
            "Buy on day:  19428 \t Sell on day:  19433 \t Profit:  7.600000000000023\n",
            "Buy on day:  19442 \t Sell on day:  19448 \t Profit:  8.599999999999909\n",
            "Buy on day:  19472 \t Sell on day:  19474 \t Profit:  9.950000000000045\n",
            "Buy on day:  19488 \t Sell on day:  19493 \t Profit:  8.799999999999955\n",
            "Buy on day:  19497 \t Sell on day:  19499 \t Profit:  11.050000000000068\n",
            "Buy on day:  19514 \t Sell on day:  19520 \t Profit:  7.899999999999977\n",
            "Buy on day:  19543 \t Sell on day:  19547 \t Profit:  12.849999999999909\n",
            "Buy on day:  19615 \t Sell on day:  19618 \t Profit:  7.149999999999977\n",
            "Buy on day:  19619 \t Sell on day:  19621 \t Profit:  9.100000000000023\n",
            "Buy on day:  19622 \t Sell on day:  19624 \t Profit:  10.149999999999977\n",
            "Buy on day:  19632 \t Sell on day:  19634 \t Profit:  8.0\n",
            "Buy on day:  19671 \t Sell on day:  19673 \t Profit:  8.450000000000045\n",
            "Buy on day:  19674 \t Sell on day:  19678 \t Profit:  75.80000000000001\n",
            "Buy on day:  19680 \t Sell on day:  19682 \t Profit:  21.549999999999955\n",
            "Buy on day:  19684 \t Sell on day:  19688 \t Profit:  26.050000000000068\n",
            "Buy on day:  19691 \t Sell on day:  19695 \t Profit:  25.25\n",
            "Buy on day:  19699 \t Sell on day:  19702 \t Profit:  11.899999999999977\n",
            "Buy on day:  19721 \t Sell on day:  19725 \t Profit:  23.100000000000023\n",
            "Buy on day:  19760 \t Sell on day:  19763 \t Profit:  12.050000000000011\n",
            "Buy on day:  19768 \t Sell on day:  19770 \t Profit:  41.25\n",
            "Buy on day:  19775 \t Sell on day:  19778 \t Profit:  26.44999999999999\n",
            "Buy on day:  19788 \t Sell on day:  19790 \t Profit:  20.0\n",
            "Buy on day:  19797 \t Sell on day:  19799 \t Profit:  7.5\n",
            "Buy on day:  19801 \t Sell on day:  19804 \t Profit:  7.449999999999989\n",
            "Buy on day:  19805 \t Sell on day:  19808 \t Profit:  7.149999999999977\n",
            "Buy on day:  19811 \t Sell on day:  19813 \t Profit:  10.949999999999989\n",
            "Buy on day:  19815 \t Sell on day:  19816 \t Profit:  9.25\n",
            "Buy on day:  19826 \t Sell on day:  19827 \t Profit:  10.100000000000023\n",
            "Buy on day:  19837 \t Sell on day:  19838 \t Profit:  8.149999999999977\n",
            "Buy on day:  19841 \t Sell on day:  19843 \t Profit:  20.149999999999977\n",
            "Buy on day:  19848 \t Sell on day:  19849 \t Profit:  7.449999999999989\n",
            "Buy on day:  19857 \t Sell on day:  19860 \t Profit:  14.449999999999989\n",
            "Buy on day:  19868 \t Sell on day:  19872 \t Profit:  17.899999999999977\n",
            "Buy on day:  19873 \t Sell on day:  19884 \t Profit:  48.44999999999999\n",
            "Buy on day:  19891 \t Sell on day:  19893 \t Profit:  31.5\n",
            "Buy on day:  19894 \t Sell on day:  19900 \t Profit:  24.30000000000001\n",
            "Buy on day:  19901 \t Sell on day:  19905 \t Profit:  27.799999999999955\n",
            "Buy on day:  19916 \t Sell on day:  19919 \t Profit:  52.650000000000034\n",
            "Buy on day:  19924 \t Sell on day:  19928 \t Profit:  15.550000000000011\n",
            "Buy on day:  19934 \t Sell on day:  19938 \t Profit:  13.899999999999977\n",
            "Buy on day:  19943 \t Sell on day:  19945 \t Profit:  18.80000000000001\n",
            "Buy on day:  19946 \t Sell on day:  19950 \t Profit:  9.75\n",
            "Buy on day:  19959 \t Sell on day:  19963 \t Profit:  10.400000000000034\n",
            "Buy on day:  19964 \t Sell on day:  19966 \t Profit:  10.0\n",
            "Buy on day:  19967 \t Sell on day:  19969 \t Profit:  15.449999999999989\n",
            "Buy on day:  20041 \t Sell on day:  20045 \t Profit:  35.5\n",
            "Buy on day:  20049 \t Sell on day:  20051 \t Profit:  11.199999999999989\n",
            "Buy on day:  20052 \t Sell on day:  20058 \t Profit:  12.900000000000034\n",
            "Buy on day:  20062 \t Sell on day:  20067 \t Profit:  12.5\n",
            "Buy on day:  20068 \t Sell on day:  20071 \t Profit:  41.400000000000034\n",
            "Buy on day:  20082 \t Sell on day:  20083 \t Profit:  7.149999999999977\n",
            "Buy on day:  20087 \t Sell on day:  20090 \t Profit:  7.0\n",
            "Buy on day:  20091 \t Sell on day:  20094 \t Profit:  19.19999999999999\n",
            "Buy on day:  20106 \t Sell on day:  20109 \t Profit:  15.0\n",
            "Buy on day:  20113 \t Sell on day:  20116 \t Profit:  13.350000000000023\n",
            "Buy on day:  20119 \t Sell on day:  20121 \t Profit:  8.949999999999989\n",
            "Buy on day:  20126 \t Sell on day:  20127 \t Profit:  10.949999999999989\n",
            "Buy on day:  20140 \t Sell on day:  20148 \t Profit:  30.649999999999977\n",
            "Buy on day:  20173 \t Sell on day:  20176 \t Profit:  12.100000000000023\n",
            "Buy on day:  20191 \t Sell on day:  20193 \t Profit:  26.850000000000023\n",
            "Buy on day:  20208 \t Sell on day:  20216 \t Profit:  44.80000000000001\n",
            "Buy on day:  20236 \t Sell on day:  20238 \t Profit:  7.400000000000034\n",
            "Buy on day:  20271 \t Sell on day:  20276 \t Profit:  14.149999999999977\n",
            "Buy on day:  20285 \t Sell on day:  20289 \t Profit:  14.900000000000034\n",
            "Buy on day:  20341 \t Sell on day:  20343 \t Profit:  12.149999999999977\n",
            "Buy on day:  20345 \t Sell on day:  20348 \t Profit:  13.5\n",
            "Buy on day:  20368 \t Sell on day:  20369 \t Profit:  20.75\n",
            "Buy on day:  20380 \t Sell on day:  20387 \t Profit:  9.199999999999989\n",
            "Buy on day:  20390 \t Sell on day:  20393 \t Profit:  7.25\n",
            "Buy on day:  20418 \t Sell on day:  20419 \t Profit:  22.349999999999966\n",
            "Buy on day:  20467 \t Sell on day:  20469 \t Profit:  9.25\n",
            "Buy on day:  20495 \t Sell on day:  20498 \t Profit:  19.44999999999999\n",
            "Buy on day:  20515 \t Sell on day:  20519 \t Profit:  16.25\n",
            "Buy on day:  20543 \t Sell on day:  20545 \t Profit:  10.0\n",
            "Buy on day:  20567 \t Sell on day:  20570 \t Profit:  9.800000000000011\n",
            "Buy on day:  20611 \t Sell on day:  20616 \t Profit:  16.899999999999977\n",
            "Buy on day:  20617 \t Sell on day:  20619 \t Profit:  21.100000000000023\n",
            "Buy on day:  20634 \t Sell on day:  20637 \t Profit:  11.149999999999977\n",
            "Buy on day:  20719 \t Sell on day:  20723 \t Profit:  10.099999999999966\n",
            "Buy on day:  20760 \t Sell on day:  20764 \t Profit:  9.600000000000023\n",
            "Buy on day:  20817 \t Sell on day:  20820 \t Profit:  7.25\n",
            "Buy on day:  20845 \t Sell on day:  20850 \t Profit:  15.100000000000023\n",
            "Buy on day:  20860 \t Sell on day:  20863 \t Profit:  22.649999999999977\n",
            "Buy on day:  20865 \t Sell on day:  20870 \t Profit:  24.75\n",
            "Buy on day:  20918 \t Sell on day:  20921 \t Profit:  24.350000000000023\n",
            "Buy on day:  20953 \t Sell on day:  20957 \t Profit:  7.399999999999977\n",
            "Buy on day:  20966 \t Sell on day:  20970 \t Profit:  24.05000000000001\n",
            "Buy on day:  20984 \t Sell on day:  20987 \t Profit:  7.5\n",
            "Buy on day:  21017 \t Sell on day:  21020 \t Profit:  7.5499999999999545\n",
            "Buy on day:  21039 \t Sell on day:  21045 \t Profit:  26.75\n",
            "Buy on day:  21048 \t Sell on day:  21052 \t Profit:  14.25\n",
            "Buy on day:  21065 \t Sell on day:  21072 \t Profit:  14.699999999999989\n",
            "Buy on day:  21115 \t Sell on day:  21118 \t Profit:  14.649999999999977\n",
            "Buy on day:  21159 \t Sell on day:  21165 \t Profit:  10.899999999999977\n",
            "Buy on day:  21211 \t Sell on day:  21216 \t Profit:  15.550000000000011\n",
            "Buy on day:  21228 \t Sell on day:  21231 \t Profit:  8.400000000000034\n",
            "Buy on day:  21262 \t Sell on day:  21266 \t Profit:  11.149999999999977\n",
            "Buy on day:  21268 \t Sell on day:  21269 \t Profit:  9.25\n",
            "Buy on day:  21270 \t Sell on day:  21277 \t Profit:  10.300000000000011\n",
            "Buy on day:  21293 \t Sell on day:  21295 \t Profit:  8.149999999999977\n",
            "Buy on day:  21336 \t Sell on day:  21343 \t Profit:  8.199999999999989\n",
            "Buy on day:  21385 \t Sell on day:  21388 \t Profit:  7.550000000000011\n",
            "Buy on day:  21393 \t Sell on day:  21394 \t Profit:  8.600000000000023\n",
            "Buy on day:  21443 \t Sell on day:  21444 \t Profit:  8.150000000000034\n",
            "Buy on day:  21467 \t Sell on day:  21469 \t Profit:  9.849999999999966\n",
            "Buy on day:  21473 \t Sell on day:  21477 \t Profit:  7.600000000000023\n",
            "Buy on day:  21541 \t Sell on day:  21544 \t Profit:  8.699999999999989\n",
            "Buy on day:  21577 \t Sell on day:  21581 \t Profit:  11.949999999999989\n",
            "Buy on day:  21603 \t Sell on day:  21611 \t Profit:  15.850000000000023\n",
            "Buy on day:  21618 \t Sell on day:  21621 \t Profit:  7.0\n",
            "Buy on day:  21717 \t Sell on day:  21723 \t Profit:  20.950000000000045\n",
            "Buy on day:  21732 \t Sell on day:  21735 \t Profit:  9.25\n",
            "Buy on day:  21763 \t Sell on day:  21767 \t Profit:  8.449999999999989\n",
            "Buy on day:  21787 \t Sell on day:  21794 \t Profit:  12.5\n",
            "Buy on day:  21814 \t Sell on day:  21820 \t Profit:  9.150000000000034\n",
            "Buy on day:  21824 \t Sell on day:  21828 \t Profit:  7.699999999999989\n",
            "Buy on day:  21843 \t Sell on day:  21844 \t Profit:  21.049999999999955\n",
            "Buy on day:  22093 \t Sell on day:  22096 \t Profit:  14.800000000000011\n",
            "Buy on day:  22192 \t Sell on day:  22194 \t Profit:  12.299999999999955\n",
            "Buy on day:  22227 \t Sell on day:  22233 \t Profit:  7.5\n",
            "Buy on day:  22289 \t Sell on day:  22292 \t Profit:  8.300000000000011\n",
            "Buy on day:  22313 \t Sell on day:  22318 \t Profit:  12.300000000000011\n",
            "Buy on day:  22468 \t Sell on day:  22470 \t Profit:  8.449999999999989\n",
            "Buy on day:  22517 \t Sell on day:  22519 \t Profit:  19.649999999999977\n",
            "Buy on day:  22520 \t Sell on day:  22524 \t Profit:  15.050000000000011\n",
            "Buy on day:  22540 \t Sell on day:  22545 \t Profit:  15.150000000000034\n",
            "Buy on day:  22553 \t Sell on day:  22555 \t Profit:  7.199999999999989\n",
            "Buy on day:  22565 \t Sell on day:  22567 \t Profit:  10.400000000000034\n",
            "Buy on day:  22580 \t Sell on day:  22584 \t Profit:  11.300000000000011\n",
            "Buy on day:  22611 \t Sell on day:  22614 \t Profit:  9.299999999999955\n",
            "Buy on day:  22670 \t Sell on day:  22671 \t Profit:  8.399999999999977\n",
            "Buy on day:  22741 \t Sell on day:  22744 \t Profit:  8.0\n",
            "Buy on day:  22747 \t Sell on day:  22754 \t Profit:  12.650000000000034\n",
            "Buy on day:  22789 \t Sell on day:  22795 \t Profit:  9.899999999999977\n",
            "Buy on day:  22862 \t Sell on day:  22864 \t Profit:  7.099999999999966\n",
            "Buy on day:  22987 \t Sell on day:  22993 \t Profit:  14.699999999999989\n",
            "Buy on day:  23028 \t Sell on day:  23032 \t Profit:  7.75\n",
            "Buy on day:  23036 \t Sell on day:  23040 \t Profit:  7.2999999999999545\n",
            "Buy on day:  23043 \t Sell on day:  23046 \t Profit:  13.050000000000011\n",
            "Buy on day:  23048 \t Sell on day:  23052 \t Profit:  8.900000000000034\n",
            "Buy on day:  23118 \t Sell on day:  23120 \t Profit:  11.449999999999989\n",
            "Buy on day:  23143 \t Sell on day:  23145 \t Profit:  11.75\n",
            "Buy on day:  23194 \t Sell on day:  23198 \t Profit:  9.349999999999966\n",
            "Buy on day:  23218 \t Sell on day:  23220 \t Profit:  7.150000000000034\n",
            "Buy on day:  23245 \t Sell on day:  23251 \t Profit:  14.75\n",
            "Buy on day:  23266 \t Sell on day:  23269 \t Profit:  9.649999999999977\n",
            "Buy on day:  23294 \t Sell on day:  23300 \t Profit:  8.199999999999989\n",
            "Buy on day:  23338 \t Sell on day:  23340 \t Profit:  8.549999999999955\n",
            "Buy on day:  23344 \t Sell on day:  23346 \t Profit:  8.75\n",
            "Buy on day:  23368 \t Sell on day:  23370 \t Profit:  7.400000000000034\n",
            "Buy on day:  23378 \t Sell on day:  23382 \t Profit:  8.149999999999977\n",
            "Buy on day:  23393 \t Sell on day:  23397 \t Profit:  19.05000000000001\n",
            "Buy on day:  23443 \t Sell on day:  23445 \t Profit:  12.100000000000023\n",
            "Buy on day:  23463 \t Sell on day:  23471 \t Profit:  16.80000000000001\n",
            "Buy on day:  23561 \t Sell on day:  23566 \t Profit:  12.449999999999989\n",
            "Buy on day:  23568 \t Sell on day:  23569 \t Profit:  8.550000000000011\n",
            "Buy on day:  23588 \t Sell on day:  23595 \t Profit:  16.149999999999977\n",
            "Buy on day:  23646 \t Sell on day:  23649 \t Profit:  9.349999999999966\n",
            "Buy on day:  23659 \t Sell on day:  23665 \t Profit:  18.600000000000023\n",
            "Buy on day:  23667 \t Sell on day:  23670 \t Profit:  10.399999999999977\n",
            "Buy on day:  23709 \t Sell on day:  23712 \t Profit:  8.650000000000091\n",
            "Buy on day:  23718 \t Sell on day:  23719 \t Profit:  10.949999999999932\n",
            "Buy on day:  23768 \t Sell on day:  23770 \t Profit:  14.0\n",
            "Buy on day:  23791 \t Sell on day:  23797 \t Profit:  18.149999999999977\n",
            "Buy on day:  23818 \t Sell on day:  23820 \t Profit:  7.399999999999977\n",
            "Buy on day:  23821 \t Sell on day:  23824 \t Profit:  14.299999999999955\n",
            "Buy on day:  23834 \t Sell on day:  23839 \t Profit:  17.0\n",
            "Buy on day:  23840 \t Sell on day:  23841 \t Profit:  7.5499999999999545\n",
            "Buy on day:  23872 \t Sell on day:  23873 \t Profit:  7.4500000000000455\n",
            "Buy on day:  23881 \t Sell on day:  23884 \t Profit:  8.200000000000045\n",
            "Buy on day:  23886 \t Sell on day:  23892 \t Profit:  8.700000000000045\n",
            "Buy on day:  23897 \t Sell on day:  23898 \t Profit:  8.200000000000045\n",
            "Buy on day:  23919 \t Sell on day:  23922 \t Profit:  11.25\n",
            "Buy on day:  23986 \t Sell on day:  23988 \t Profit:  9.5\n",
            "Buy on day:  23989 \t Sell on day:  23995 \t Profit:  14.0\n",
            "Buy on day:  24021 \t Sell on day:  24023 \t Profit:  8.100000000000023\n",
            "Buy on day:  24024 \t Sell on day:  24030 \t Profit:  7.599999999999909\n",
            "Buy on day:  24039 \t Sell on day:  24045 \t Profit:  7.649999999999977\n",
            "Buy on day:  24047 \t Sell on day:  24048 \t Profit:  8.850000000000023\n",
            "Buy on day:  24076 \t Sell on day:  24081 \t Profit:  10.349999999999909\n",
            "Buy on day:  24084 \t Sell on day:  24089 \t Profit:  15.299999999999955\n",
            "Buy on day:  24146 \t Sell on day:  24149 \t Profit:  10.0\n",
            "Buy on day:  24174 \t Sell on day:  24180 \t Profit:  7.199999999999932\n",
            "Buy on day:  24217 \t Sell on day:  24223 \t Profit:  12.5\n",
            "Buy on day:  24247 \t Sell on day:  24250 \t Profit:  8.399999999999977\n",
            "Buy on day:  24356 \t Sell on day:  24360 \t Profit:  8.549999999999955\n",
            "Buy on day:  24450 \t Sell on day:  24456 \t Profit:  7.4500000000000455\n",
            "Buy on day:  24510 \t Sell on day:  24512 \t Profit:  7.100000000000023\n",
            "Buy on day:  24513 \t Sell on day:  24519 \t Profit:  11.199999999999932\n",
            "Buy on day:  24520 \t Sell on day:  24522 \t Profit:  10.149999999999977\n",
            "Buy on day:  24545 \t Sell on day:  24552 \t Profit:  17.300000000000068\n",
            "Buy on day:  24572 \t Sell on day:  24573 \t Profit:  10.700000000000045\n",
            "Buy on day:  24597 \t Sell on day:  24599 \t Profit:  8.75\n"
          ],
          "name": "stdout"
        }
      ]
    },
    {
      "cell_type": "code",
      "metadata": {
        "colab": {
          "base_uri": "https://localhost:8080/",
          "height": 369
        },
        "id": "ctui-cGpiSBC",
        "outputId": "9bdcb067-4351-47a8-b4b7-4917d77c35d9"
      },
      "source": [
        "trainp.head()"
      ],
      "execution_count": null,
      "outputs": [
        {
          "output_type": "execute_result",
          "data": {
            "text/html": [
              "<div>\n",
              "<style scoped>\n",
              "    .dataframe tbody tr th:only-of-type {\n",
              "        vertical-align: middle;\n",
              "    }\n",
              "\n",
              "    .dataframe tbody tr th {\n",
              "        vertical-align: top;\n",
              "    }\n",
              "\n",
              "    .dataframe thead th {\n",
              "        text-align: right;\n",
              "    }\n",
              "</style>\n",
              "<table border=\"1\" class=\"dataframe\">\n",
              "  <thead>\n",
              "    <tr style=\"text-align: right;\">\n",
              "      <th></th>\n",
              "      <th>open</th>\n",
              "      <th>high</th>\n",
              "      <th>low</th>\n",
              "      <th>close</th>\n",
              "      <th>volume</th>\n",
              "      <th>AD</th>\n",
              "      <th>ADOSC_3_10</th>\n",
              "      <th>ABER_ZG_5_15</th>\n",
              "      <th>ABER_SG_5_15</th>\n",
              "      <th>ABER_XG_5_15</th>\n",
              "      <th>ABER_ATR_5_15</th>\n",
              "      <th>ACCBL_20</th>\n",
              "      <th>ACCBM_20</th>\n",
              "      <th>ACCBU_20</th>\n",
              "      <th>AMATe_LR_2</th>\n",
              "      <th>AMATe_SR_2</th>\n",
              "      <th>AO_5_34</th>\n",
              "      <th>OBV</th>\n",
              "      <th>OBV_min_2</th>\n",
              "      <th>OBV_max_2</th>\n",
              "      <th>OBVe_4</th>\n",
              "      <th>OBVe_12</th>\n",
              "      <th>AOBV_LR_2</th>\n",
              "      <th>AOBV_SR_2</th>\n",
              "      <th>APO_12_26</th>\n",
              "      <th>ADX_14</th>\n",
              "      <th>DMP_14</th>\n",
              "      <th>DMN_14</th>\n",
              "      <th>ALMA_10_6.0_0.85</th>\n",
              "      <th>BBL_5_2.0</th>\n",
              "      <th>BBM_5_2.0</th>\n",
              "      <th>BBU_5_2.0</th>\n",
              "      <th>BBB_5_2.0</th>\n",
              "      <th>BIAS_SMA_26</th>\n",
              "      <th>BOP</th>\n",
              "      <th>AR_26</th>\n",
              "      <th>BR_26</th>\n",
              "      <th>CCI_14_0.015</th>\n",
              "      <th>CDL_DOJI_10_0.1</th>\n",
              "      <th>AROOND_14</th>\n",
              "      <th>...</th>\n",
              "      <th>STOCHk_14_3_3</th>\n",
              "      <th>STOCHd_14_3_3</th>\n",
              "      <th>STOCHRSIk_14_14_3_3</th>\n",
              "      <th>STOCHRSId_14_14_3_3</th>\n",
              "      <th>SUPERT_7_3.0</th>\n",
              "      <th>SUPERTd_7_3.0</th>\n",
              "      <th>SUPERTl_7_3.0</th>\n",
              "      <th>SUPERTs_7_3.0</th>\n",
              "      <th>SWMA_10</th>\n",
              "      <th>T3_10_0.7</th>\n",
              "      <th>TEMA_10</th>\n",
              "      <th>THERMO_20_2_0.5</th>\n",
              "      <th>THERMOma_20_2_0.5</th>\n",
              "      <th>THERMOl_20_2_0.5</th>\n",
              "      <th>THERMOs_20_2_0.5</th>\n",
              "      <th>TRIMA_10</th>\n",
              "      <th>TRIX_30_9</th>\n",
              "      <th>TRIXs_30_9</th>\n",
              "      <th>QQE_14_5_4.236</th>\n",
              "      <th>QQE_14_5_4.236_RSIMA</th>\n",
              "      <th>QQEl_14_5_4.236</th>\n",
              "      <th>QQEs_14_5_4.236</th>\n",
              "      <th>QS_10</th>\n",
              "      <th>TTM_TRND_6</th>\n",
              "      <th>UI_14</th>\n",
              "      <th>UO_7_14_28</th>\n",
              "      <th>VAR_30</th>\n",
              "      <th>TRUERANGE_1</th>\n",
              "      <th>TSI_13_25</th>\n",
              "      <th>VWAP_D</th>\n",
              "      <th>VWMA_10</th>\n",
              "      <th>WCP</th>\n",
              "      <th>WILLR_14</th>\n",
              "      <th>WMA_10</th>\n",
              "      <th>ZL_EMA_10</th>\n",
              "      <th>Z_30</th>\n",
              "      <th>VIDYA_14</th>\n",
              "      <th>VTXP_14</th>\n",
              "      <th>VTXM_14</th>\n",
              "      <th>final_buy</th>\n",
              "    </tr>\n",
              "    <tr>\n",
              "      <th>timestamp</th>\n",
              "      <th></th>\n",
              "      <th></th>\n",
              "      <th></th>\n",
              "      <th></th>\n",
              "      <th></th>\n",
              "      <th></th>\n",
              "      <th></th>\n",
              "      <th></th>\n",
              "      <th></th>\n",
              "      <th></th>\n",
              "      <th></th>\n",
              "      <th></th>\n",
              "      <th></th>\n",
              "      <th></th>\n",
              "      <th></th>\n",
              "      <th></th>\n",
              "      <th></th>\n",
              "      <th></th>\n",
              "      <th></th>\n",
              "      <th></th>\n",
              "      <th></th>\n",
              "      <th></th>\n",
              "      <th></th>\n",
              "      <th></th>\n",
              "      <th></th>\n",
              "      <th></th>\n",
              "      <th></th>\n",
              "      <th></th>\n",
              "      <th></th>\n",
              "      <th></th>\n",
              "      <th></th>\n",
              "      <th></th>\n",
              "      <th></th>\n",
              "      <th></th>\n",
              "      <th></th>\n",
              "      <th></th>\n",
              "      <th></th>\n",
              "      <th></th>\n",
              "      <th></th>\n",
              "      <th></th>\n",
              "      <th></th>\n",
              "      <th></th>\n",
              "      <th></th>\n",
              "      <th></th>\n",
              "      <th></th>\n",
              "      <th></th>\n",
              "      <th></th>\n",
              "      <th></th>\n",
              "      <th></th>\n",
              "      <th></th>\n",
              "      <th></th>\n",
              "      <th></th>\n",
              "      <th></th>\n",
              "      <th></th>\n",
              "      <th></th>\n",
              "      <th></th>\n",
              "      <th></th>\n",
              "      <th></th>\n",
              "      <th></th>\n",
              "      <th></th>\n",
              "      <th></th>\n",
              "      <th></th>\n",
              "      <th></th>\n",
              "      <th></th>\n",
              "      <th></th>\n",
              "      <th></th>\n",
              "      <th></th>\n",
              "      <th></th>\n",
              "      <th></th>\n",
              "      <th></th>\n",
              "      <th></th>\n",
              "      <th></th>\n",
              "      <th></th>\n",
              "      <th></th>\n",
              "      <th></th>\n",
              "      <th></th>\n",
              "      <th></th>\n",
              "      <th></th>\n",
              "      <th></th>\n",
              "      <th></th>\n",
              "      <th></th>\n",
              "    </tr>\n",
              "  </thead>\n",
              "  <tbody>\n",
              "    <tr>\n",
              "      <th>2017-01-02 09:15:00+05:30</th>\n",
              "      <td>451.20</td>\n",
              "      <td>451.65</td>\n",
              "      <td>448.95</td>\n",
              "      <td>448.95</td>\n",
              "      <td>211638.0</td>\n",
              "      <td>-211638.000000</td>\n",
              "      <td>NaN</td>\n",
              "      <td>NaN</td>\n",
              "      <td>NaN</td>\n",
              "      <td>NaN</td>\n",
              "      <td>NaN</td>\n",
              "      <td>NaN</td>\n",
              "      <td>NaN</td>\n",
              "      <td>NaN</td>\n",
              "      <td>0</td>\n",
              "      <td>0</td>\n",
              "      <td>NaN</td>\n",
              "      <td>211638.0</td>\n",
              "      <td>NaN</td>\n",
              "      <td>NaN</td>\n",
              "      <td>NaN</td>\n",
              "      <td>NaN</td>\n",
              "      <td>0</td>\n",
              "      <td>0</td>\n",
              "      <td>NaN</td>\n",
              "      <td>NaN</td>\n",
              "      <td>NaN</td>\n",
              "      <td>NaN</td>\n",
              "      <td>NaN</td>\n",
              "      <td>NaN</td>\n",
              "      <td>NaN</td>\n",
              "      <td>NaN</td>\n",
              "      <td>NaN</td>\n",
              "      <td>NaN</td>\n",
              "      <td>-0.833333</td>\n",
              "      <td>NaN</td>\n",
              "      <td>NaN</td>\n",
              "      <td>NaN</td>\n",
              "      <td>0</td>\n",
              "      <td>NaN</td>\n",
              "      <td>...</td>\n",
              "      <td>NaN</td>\n",
              "      <td>NaN</td>\n",
              "      <td>NaN</td>\n",
              "      <td>NaN</td>\n",
              "      <td>0.0</td>\n",
              "      <td>1</td>\n",
              "      <td>NaN</td>\n",
              "      <td>NaN</td>\n",
              "      <td>NaN</td>\n",
              "      <td>NaN</td>\n",
              "      <td>NaN</td>\n",
              "      <td>NaN</td>\n",
              "      <td>NaN</td>\n",
              "      <td>0</td>\n",
              "      <td>0</td>\n",
              "      <td>NaN</td>\n",
              "      <td>NaN</td>\n",
              "      <td>NaN</td>\n",
              "      <td>NaN</td>\n",
              "      <td>NaN</td>\n",
              "      <td>NaN</td>\n",
              "      <td>NaN</td>\n",
              "      <td>NaN</td>\n",
              "      <td>-1</td>\n",
              "      <td>NaN</td>\n",
              "      <td>NaN</td>\n",
              "      <td>NaN</td>\n",
              "      <td>2.70</td>\n",
              "      <td>NaN</td>\n",
              "      <td>449.850000</td>\n",
              "      <td>NaN</td>\n",
              "      <td>449.6250</td>\n",
              "      <td>NaN</td>\n",
              "      <td>NaN</td>\n",
              "      <td>NaN</td>\n",
              "      <td>NaN</td>\n",
              "      <td>NaN</td>\n",
              "      <td>NaN</td>\n",
              "      <td>NaN</td>\n",
              "      <td>no</td>\n",
              "    </tr>\n",
              "    <tr>\n",
              "      <th>2017-01-02 09:30:00+05:30</th>\n",
              "      <td>448.05</td>\n",
              "      <td>449.05</td>\n",
              "      <td>447.50</td>\n",
              "      <td>447.50</td>\n",
              "      <td>117877.0</td>\n",
              "      <td>-329515.000000</td>\n",
              "      <td>NaN</td>\n",
              "      <td>NaN</td>\n",
              "      <td>NaN</td>\n",
              "      <td>NaN</td>\n",
              "      <td>NaN</td>\n",
              "      <td>NaN</td>\n",
              "      <td>NaN</td>\n",
              "      <td>NaN</td>\n",
              "      <td>0</td>\n",
              "      <td>0</td>\n",
              "      <td>NaN</td>\n",
              "      <td>93761.0</td>\n",
              "      <td>93761.0</td>\n",
              "      <td>211638.0</td>\n",
              "      <td>NaN</td>\n",
              "      <td>NaN</td>\n",
              "      <td>0</td>\n",
              "      <td>0</td>\n",
              "      <td>NaN</td>\n",
              "      <td>NaN</td>\n",
              "      <td>NaN</td>\n",
              "      <td>NaN</td>\n",
              "      <td>NaN</td>\n",
              "      <td>NaN</td>\n",
              "      <td>NaN</td>\n",
              "      <td>NaN</td>\n",
              "      <td>NaN</td>\n",
              "      <td>NaN</td>\n",
              "      <td>-0.354839</td>\n",
              "      <td>NaN</td>\n",
              "      <td>NaN</td>\n",
              "      <td>NaN</td>\n",
              "      <td>0</td>\n",
              "      <td>NaN</td>\n",
              "      <td>...</td>\n",
              "      <td>NaN</td>\n",
              "      <td>NaN</td>\n",
              "      <td>NaN</td>\n",
              "      <td>NaN</td>\n",
              "      <td>NaN</td>\n",
              "      <td>1</td>\n",
              "      <td>NaN</td>\n",
              "      <td>NaN</td>\n",
              "      <td>NaN</td>\n",
              "      <td>NaN</td>\n",
              "      <td>NaN</td>\n",
              "      <td>2.60</td>\n",
              "      <td>NaN</td>\n",
              "      <td>0</td>\n",
              "      <td>0</td>\n",
              "      <td>NaN</td>\n",
              "      <td>NaN</td>\n",
              "      <td>NaN</td>\n",
              "      <td>NaN</td>\n",
              "      <td>NaN</td>\n",
              "      <td>NaN</td>\n",
              "      <td>NaN</td>\n",
              "      <td>NaN</td>\n",
              "      <td>-1</td>\n",
              "      <td>NaN</td>\n",
              "      <td>NaN</td>\n",
              "      <td>NaN</td>\n",
              "      <td>1.55</td>\n",
              "      <td>NaN</td>\n",
              "      <td>449.194164</td>\n",
              "      <td>NaN</td>\n",
              "      <td>447.8875</td>\n",
              "      <td>NaN</td>\n",
              "      <td>NaN</td>\n",
              "      <td>NaN</td>\n",
              "      <td>NaN</td>\n",
              "      <td>NaN</td>\n",
              "      <td>NaN</td>\n",
              "      <td>NaN</td>\n",
              "      <td>no</td>\n",
              "    </tr>\n",
              "    <tr>\n",
              "      <th>2017-01-02 09:45:00+05:30</th>\n",
              "      <td>445.80</td>\n",
              "      <td>447.00</td>\n",
              "      <td>445.80</td>\n",
              "      <td>446.80</td>\n",
              "      <td>200269.0</td>\n",
              "      <td>-196002.333333</td>\n",
              "      <td>NaN</td>\n",
              "      <td>NaN</td>\n",
              "      <td>NaN</td>\n",
              "      <td>NaN</td>\n",
              "      <td>NaN</td>\n",
              "      <td>NaN</td>\n",
              "      <td>NaN</td>\n",
              "      <td>NaN</td>\n",
              "      <td>0</td>\n",
              "      <td>0</td>\n",
              "      <td>NaN</td>\n",
              "      <td>-106508.0</td>\n",
              "      <td>-106508.0</td>\n",
              "      <td>93761.0</td>\n",
              "      <td>NaN</td>\n",
              "      <td>NaN</td>\n",
              "      <td>0</td>\n",
              "      <td>0</td>\n",
              "      <td>NaN</td>\n",
              "      <td>NaN</td>\n",
              "      <td>NaN</td>\n",
              "      <td>NaN</td>\n",
              "      <td>NaN</td>\n",
              "      <td>NaN</td>\n",
              "      <td>NaN</td>\n",
              "      <td>NaN</td>\n",
              "      <td>NaN</td>\n",
              "      <td>NaN</td>\n",
              "      <td>0.833333</td>\n",
              "      <td>NaN</td>\n",
              "      <td>NaN</td>\n",
              "      <td>NaN</td>\n",
              "      <td>0</td>\n",
              "      <td>NaN</td>\n",
              "      <td>...</td>\n",
              "      <td>NaN</td>\n",
              "      <td>NaN</td>\n",
              "      <td>NaN</td>\n",
              "      <td>NaN</td>\n",
              "      <td>NaN</td>\n",
              "      <td>1</td>\n",
              "      <td>NaN</td>\n",
              "      <td>NaN</td>\n",
              "      <td>NaN</td>\n",
              "      <td>NaN</td>\n",
              "      <td>NaN</td>\n",
              "      <td>2.05</td>\n",
              "      <td>NaN</td>\n",
              "      <td>0</td>\n",
              "      <td>0</td>\n",
              "      <td>NaN</td>\n",
              "      <td>NaN</td>\n",
              "      <td>NaN</td>\n",
              "      <td>NaN</td>\n",
              "      <td>NaN</td>\n",
              "      <td>NaN</td>\n",
              "      <td>NaN</td>\n",
              "      <td>NaN</td>\n",
              "      <td>-1</td>\n",
              "      <td>NaN</td>\n",
              "      <td>NaN</td>\n",
              "      <td>NaN</td>\n",
              "      <td>1.70</td>\n",
              "      <td>NaN</td>\n",
              "      <td>448.188316</td>\n",
              "      <td>NaN</td>\n",
              "      <td>446.6000</td>\n",
              "      <td>NaN</td>\n",
              "      <td>NaN</td>\n",
              "      <td>NaN</td>\n",
              "      <td>NaN</td>\n",
              "      <td>NaN</td>\n",
              "      <td>NaN</td>\n",
              "      <td>NaN</td>\n",
              "      <td>no</td>\n",
              "    </tr>\n",
              "    <tr>\n",
              "      <th>2017-01-02 10:00:00+05:30</th>\n",
              "      <td>446.55</td>\n",
              "      <td>447.50</td>\n",
              "      <td>446.35</td>\n",
              "      <td>446.50</td>\n",
              "      <td>62625.0</td>\n",
              "      <td>-242290.376812</td>\n",
              "      <td>NaN</td>\n",
              "      <td>NaN</td>\n",
              "      <td>NaN</td>\n",
              "      <td>NaN</td>\n",
              "      <td>NaN</td>\n",
              "      <td>NaN</td>\n",
              "      <td>NaN</td>\n",
              "      <td>NaN</td>\n",
              "      <td>0</td>\n",
              "      <td>0</td>\n",
              "      <td>NaN</td>\n",
              "      <td>-169133.0</td>\n",
              "      <td>-169133.0</td>\n",
              "      <td>-106508.0</td>\n",
              "      <td>7439.5</td>\n",
              "      <td>NaN</td>\n",
              "      <td>0</td>\n",
              "      <td>0</td>\n",
              "      <td>NaN</td>\n",
              "      <td>NaN</td>\n",
              "      <td>NaN</td>\n",
              "      <td>NaN</td>\n",
              "      <td>NaN</td>\n",
              "      <td>NaN</td>\n",
              "      <td>NaN</td>\n",
              "      <td>NaN</td>\n",
              "      <td>NaN</td>\n",
              "      <td>NaN</td>\n",
              "      <td>-0.043478</td>\n",
              "      <td>NaN</td>\n",
              "      <td>NaN</td>\n",
              "      <td>NaN</td>\n",
              "      <td>0</td>\n",
              "      <td>NaN</td>\n",
              "      <td>...</td>\n",
              "      <td>NaN</td>\n",
              "      <td>NaN</td>\n",
              "      <td>NaN</td>\n",
              "      <td>NaN</td>\n",
              "      <td>NaN</td>\n",
              "      <td>1</td>\n",
              "      <td>NaN</td>\n",
              "      <td>NaN</td>\n",
              "      <td>NaN</td>\n",
              "      <td>NaN</td>\n",
              "      <td>NaN</td>\n",
              "      <td>0.55</td>\n",
              "      <td>NaN</td>\n",
              "      <td>0</td>\n",
              "      <td>0</td>\n",
              "      <td>NaN</td>\n",
              "      <td>NaN</td>\n",
              "      <td>NaN</td>\n",
              "      <td>NaN</td>\n",
              "      <td>NaN</td>\n",
              "      <td>NaN</td>\n",
              "      <td>NaN</td>\n",
              "      <td>NaN</td>\n",
              "      <td>-1</td>\n",
              "      <td>NaN</td>\n",
              "      <td>NaN</td>\n",
              "      <td>NaN</td>\n",
              "      <td>1.15</td>\n",
              "      <td>NaN</td>\n",
              "      <td>448.039792</td>\n",
              "      <td>NaN</td>\n",
              "      <td>446.7125</td>\n",
              "      <td>NaN</td>\n",
              "      <td>NaN</td>\n",
              "      <td>NaN</td>\n",
              "      <td>NaN</td>\n",
              "      <td>NaN</td>\n",
              "      <td>NaN</td>\n",
              "      <td>NaN</td>\n",
              "      <td>no</td>\n",
              "    </tr>\n",
              "    <tr>\n",
              "      <th>2017-01-02 10:15:00+05:30</th>\n",
              "      <td>446.70</td>\n",
              "      <td>447.15</td>\n",
              "      <td>446.40</td>\n",
              "      <td>446.40</td>\n",
              "      <td>34067.0</td>\n",
              "      <td>-276357.376812</td>\n",
              "      <td>NaN</td>\n",
              "      <td>447.566667</td>\n",
              "      <td>NaN</td>\n",
              "      <td>NaN</td>\n",
              "      <td>NaN</td>\n",
              "      <td>NaN</td>\n",
              "      <td>NaN</td>\n",
              "      <td>NaN</td>\n",
              "      <td>0</td>\n",
              "      <td>0</td>\n",
              "      <td>NaN</td>\n",
              "      <td>-203200.0</td>\n",
              "      <td>-203200.0</td>\n",
              "      <td>-169133.0</td>\n",
              "      <td>-76816.3</td>\n",
              "      <td>NaN</td>\n",
              "      <td>0</td>\n",
              "      <td>0</td>\n",
              "      <td>NaN</td>\n",
              "      <td>NaN</td>\n",
              "      <td>NaN</td>\n",
              "      <td>NaN</td>\n",
              "      <td>NaN</td>\n",
              "      <td>445.123344</td>\n",
              "      <td>447.23</td>\n",
              "      <td>449.336656</td>\n",
              "      <td>0.942091</td>\n",
              "      <td>NaN</td>\n",
              "      <td>-0.400000</td>\n",
              "      <td>NaN</td>\n",
              "      <td>NaN</td>\n",
              "      <td>NaN</td>\n",
              "      <td>0</td>\n",
              "      <td>NaN</td>\n",
              "      <td>...</td>\n",
              "      <td>NaN</td>\n",
              "      <td>NaN</td>\n",
              "      <td>NaN</td>\n",
              "      <td>NaN</td>\n",
              "      <td>NaN</td>\n",
              "      <td>1</td>\n",
              "      <td>NaN</td>\n",
              "      <td>NaN</td>\n",
              "      <td>NaN</td>\n",
              "      <td>NaN</td>\n",
              "      <td>NaN</td>\n",
              "      <td>0.35</td>\n",
              "      <td>NaN</td>\n",
              "      <td>0</td>\n",
              "      <td>0</td>\n",
              "      <td>NaN</td>\n",
              "      <td>NaN</td>\n",
              "      <td>NaN</td>\n",
              "      <td>NaN</td>\n",
              "      <td>NaN</td>\n",
              "      <td>NaN</td>\n",
              "      <td>NaN</td>\n",
              "      <td>NaN</td>\n",
              "      <td>-1</td>\n",
              "      <td>NaN</td>\n",
              "      <td>NaN</td>\n",
              "      <td>NaN</td>\n",
              "      <td>0.75</td>\n",
              "      <td>NaN</td>\n",
              "      <td>447.964217</td>\n",
              "      <td>NaN</td>\n",
              "      <td>446.5875</td>\n",
              "      <td>NaN</td>\n",
              "      <td>NaN</td>\n",
              "      <td>NaN</td>\n",
              "      <td>NaN</td>\n",
              "      <td>NaN</td>\n",
              "      <td>NaN</td>\n",
              "      <td>NaN</td>\n",
              "      <td>no</td>\n",
              "    </tr>\n",
              "  </tbody>\n",
              "</table>\n",
              "<p>5 rows × 197 columns</p>\n",
              "</div>"
            ],
            "text/plain": [
              "                             open    high     low  ...  VTXP_14  VTXM_14  final_buy\n",
              "timestamp                                          ...                             \n",
              "2017-01-02 09:15:00+05:30  451.20  451.65  448.95  ...      NaN      NaN         no\n",
              "2017-01-02 09:30:00+05:30  448.05  449.05  447.50  ...      NaN      NaN         no\n",
              "2017-01-02 09:45:00+05:30  445.80  447.00  445.80  ...      NaN      NaN         no\n",
              "2017-01-02 10:00:00+05:30  446.55  447.50  446.35  ...      NaN      NaN         no\n",
              "2017-01-02 10:15:00+05:30  446.70  447.15  446.40  ...      NaN      NaN         no\n",
              "\n",
              "[5 rows x 197 columns]"
            ]
          },
          "metadata": {
            "tags": []
          },
          "execution_count": 8
        }
      ]
    },
    {
      "cell_type": "code",
      "metadata": {
        "colab": {
          "base_uri": "https://localhost:8080/"
        },
        "id": "7YQNcSVgipug",
        "outputId": "28f06c7f-d562-4148-f401-38c9f1a5db43"
      },
      "source": [
        "trainp.isnull().sum().sort_values(ascending=False).head(8).index"
      ],
      "execution_count": null,
      "outputs": [
        {
          "output_type": "execute_result",
          "data": {
            "text/plain": [
              "Index(['SUPERTs_7_3.0', 'QQEl_14_5_4.236', 'PSARl_0.02_0.2', 'PSARs_0.02_0.2',\n",
              "       'QQEs_14_5_4.236', 'SUPERTl_7_3.0', 'HILOl_13_21', 'HILOs_13_21'],\n",
              "      dtype='object')"
            ]
          },
          "metadata": {
            "tags": []
          },
          "execution_count": 9
        }
      ]
    },
    {
      "cell_type": "code",
      "metadata": {
        "id": "ByF9ixIfipsj"
      },
      "source": [
        "trainp = trainp.drop(columns=['SUPERTs_7_3.0', 'QQEl_14_5_4.236', 'PSARl_0.02_0.2', 'PSARs_0.02_0.2',\n",
        "       'QQEs_14_5_4.236', 'SUPERTl_7_3.0', 'HILOl_13_21', 'HILOs_13_21','open', 'high', 'low'])"
      ],
      "execution_count": null,
      "outputs": []
    },
    {
      "cell_type": "code",
      "metadata": {
        "colab": {
          "base_uri": "https://localhost:8080/"
        },
        "id": "UbPKmZR0ipqa",
        "outputId": "b5ea781b-842f-43d1-b40a-fc905eca15af"
      },
      "source": [
        "trainp.isnull().sum().sort_values(ascending=False)"
      ],
      "execution_count": null,
      "outputs": [
        {
          "output_type": "execute_result",
          "data": {
            "text/plain": [
              "ISB_26                         77\n",
              "KSTs_9                         52\n",
              "ISA_9                          51\n",
              "KST_10_15_20_30_10_10_10_15    44\n",
              "EBSW_40_10                     39\n",
              "                               ..\n",
              "HW-UPPER                        0\n",
              "HW-LOWER                        0\n",
              "INC_1                           0\n",
              "NVI_1                           0\n",
              "close                           0\n",
              "Length: 186, dtype: int64"
            ]
          },
          "metadata": {
            "tags": []
          },
          "execution_count": 11
        }
      ]
    },
    {
      "cell_type": "code",
      "metadata": {
        "id": "Jyw8vUqOipoV"
      },
      "source": [
        "trainp = trainp.bfill(axis ='rows')"
      ],
      "execution_count": null,
      "outputs": []
    },
    {
      "cell_type": "code",
      "metadata": {
        "id": "HYsvEUZIpWWB"
      },
      "source": [
        "trainp = trainp.dropna()"
      ],
      "execution_count": null,
      "outputs": []
    },
    {
      "cell_type": "code",
      "metadata": {
        "colab": {
          "base_uri": "https://localhost:8080/"
        },
        "id": "gK0_F3A0pewh",
        "outputId": "d5457cd4-f907-47bb-85b0-6b25f05abc65"
      },
      "source": [
        "trainp.isnull().sum().sort_values(ascending=False)"
      ],
      "execution_count": null,
      "outputs": [
        {
          "output_type": "execute_result",
          "data": {
            "text/plain": [
              "final_buy           0\n",
              "EOM_14_100000000    0\n",
              "HA_low              0\n",
              "HA_high             0\n",
              "HA_open             0\n",
              "                   ..\n",
              "PVOs_12_26_9        0\n",
              "PVOh_12_26_9        0\n",
              "PVO_12_26_9         0\n",
              "PVI_1               0\n",
              "close               0\n",
              "Length: 186, dtype: int64"
            ]
          },
          "metadata": {
            "tags": []
          },
          "execution_count": 14
        }
      ]
    },
    {
      "cell_type": "code",
      "metadata": {
        "colab": {
          "base_uri": "https://localhost:8080/"
        },
        "id": "SVz6dG5Liplx",
        "outputId": "219f320e-e316-4373-a90e-ee7eacba8151"
      },
      "source": [
        "trainp.info()"
      ],
      "execution_count": null,
      "outputs": [
        {
          "output_type": "stream",
          "text": [
            "<class 'pandas.core.frame.DataFrame'>\n",
            "DatetimeIndex: 24672 entries, 2017-01-02 09:15:00+05:30 to 2020-12-31 15:00:00+05:30\n",
            "Columns: 186 entries, close to final_buy\n",
            "dtypes: bool(1), float64(169), int64(15), object(1)\n",
            "memory usage: 35.0+ MB\n"
          ],
          "name": "stdout"
        }
      ]
    },
    {
      "cell_type": "code",
      "metadata": {
        "id": "MaHfoS0Wn8dF"
      },
      "source": [
        "# change data type\n",
        "cols = trainp.select_dtypes(include=[np.float64]).columns\n",
        "trainp[cols] = trainp[cols].astype(np.float32)\n",
        "\n",
        "cols = trainp.select_dtypes(include=[np.int64]).columns\n",
        "trainp[cols] = trainp[cols].astype(np.int32)"
      ],
      "execution_count": null,
      "outputs": []
    },
    {
      "cell_type": "code",
      "metadata": {
        "colab": {
          "base_uri": "https://localhost:8080/"
        },
        "id": "msv9WLeIipjM",
        "outputId": "36ffa0a8-70aa-45cc-bd9e-e03d12f5d081"
      },
      "source": [
        "trainp.columns"
      ],
      "execution_count": null,
      "outputs": [
        {
          "output_type": "execute_result",
          "data": {
            "text/plain": [
              "Index(['close', 'volume', 'AD', 'ADOSC_3_10', 'ABER_ZG_5_15', 'ABER_SG_5_15',\n",
              "       'ABER_XG_5_15', 'ABER_ATR_5_15', 'ACCBL_20', 'ACCBM_20',\n",
              "       ...\n",
              "       'VWMA_10', 'WCP', 'WILLR_14', 'WMA_10', 'ZL_EMA_10', 'Z_30', 'VIDYA_14',\n",
              "       'VTXP_14', 'VTXM_14', 'final_buy'],\n",
              "      dtype='object', length=186)"
            ]
          },
          "metadata": {
            "tags": []
          },
          "execution_count": 17
        }
      ]
    },
    {
      "cell_type": "code",
      "metadata": {
        "id": "bFhhRy5C-oR7"
      },
      "source": [
        "og_target = trainp['final_buy']"
      ],
      "execution_count": null,
      "outputs": []
    },
    {
      "cell_type": "code",
      "metadata": {
        "id": "AWpqmzmYkR74"
      },
      "source": [
        "mapping = {'buy':1,'no':0,'sell':-1}"
      ],
      "execution_count": null,
      "outputs": []
    },
    {
      "cell_type": "code",
      "metadata": {
        "id": "AsdF_pBEiphS"
      },
      "source": [
        "trainp['final_buy'] = trainp['final_buy'].map(mapping)"
      ],
      "execution_count": null,
      "outputs": []
    },
    {
      "cell_type": "code",
      "metadata": {
        "colab": {
          "base_uri": "https://localhost:8080/"
        },
        "id": "asXr62-OipfG",
        "outputId": "8d0fec69-77ed-49ac-fcb0-afa80e54e3f1"
      },
      "source": [
        "trainp.final_buy.value_counts()"
      ],
      "execution_count": null,
      "outputs": [
        {
          "output_type": "execute_result",
          "data": {
            "text/plain": [
              " 0    23532\n",
              "-1      570\n",
              " 1      570\n",
              "Name: final_buy, dtype: int64"
            ]
          },
          "metadata": {
            "tags": []
          },
          "execution_count": 21
        }
      ]
    },
    {
      "cell_type": "markdown",
      "metadata": {
        "id": "nBQ-fdTilPCb"
      },
      "source": [
        "# Feature selection"
      ]
    },
    {
      "cell_type": "code",
      "metadata": {
        "colab": {
          "base_uri": "https://localhost:8080/"
        },
        "id": "If_mASmOipcZ",
        "outputId": "11027ff9-0081-470c-ded8-0e26d154b0c4"
      },
      "source": [
        "### It will zero variance features\n",
        "from sklearn.feature_selection import VarianceThreshold\n",
        "var_thres=VarianceThreshold(threshold=0.1)\n",
        "var_thres.fit(trainp)"
      ],
      "execution_count": null,
      "outputs": [
        {
          "output_type": "execute_result",
          "data": {
            "text/plain": [
              "VarianceThreshold(threshold=0.1)"
            ]
          },
          "metadata": {
            "tags": []
          },
          "execution_count": 22
        }
      ]
    },
    {
      "cell_type": "code",
      "metadata": {
        "colab": {
          "base_uri": "https://localhost:8080/"
        },
        "id": "pbFjgYKripZT",
        "outputId": "c7b1ab5f-d195-4457-bf57-f62d51a3a3d5"
      },
      "source": [
        "trainp.columns[var_thres.get_support()]"
      ],
      "execution_count": null,
      "outputs": [
        {
          "output_type": "execute_result",
          "data": {
            "text/plain": [
              "Index(['close', 'volume', 'AD', 'ADOSC_3_10', 'ABER_ZG_5_15', 'ABER_SG_5_15',\n",
              "       'ABER_XG_5_15', 'ABER_ATR_5_15', 'ACCBL_20', 'ACCBM_20',\n",
              "       ...\n",
              "       'TRUERANGE_1', 'TSI_13_25', 'VWAP_D', 'VWMA_10', 'WCP', 'WILLR_14',\n",
              "       'WMA_10', 'ZL_EMA_10', 'Z_30', 'VIDYA_14'],\n",
              "      dtype='object', length=161)"
            ]
          },
          "metadata": {
            "tags": []
          },
          "execution_count": 23
        }
      ]
    },
    {
      "cell_type": "code",
      "metadata": {
        "id": "551j1oyWnXon"
      },
      "source": [
        "target = trainp.final_buy"
      ],
      "execution_count": null,
      "outputs": []
    },
    {
      "cell_type": "code",
      "metadata": {
        "id": "axWV0hoxne8j"
      },
      "source": [
        "trainp = trainp.drop(columns='final_buy')"
      ],
      "execution_count": null,
      "outputs": []
    },
    {
      "cell_type": "code",
      "metadata": {
        "id": "3DTa-z8dmZp-"
      },
      "source": [
        "target = target.astype(np.int32)"
      ],
      "execution_count": null,
      "outputs": []
    },
    {
      "cell_type": "code",
      "metadata": {
        "id": "krOb4tT3lwxM"
      },
      "source": [
        "import seaborn as sns\n",
        "import matplotlib.pyplot as plt"
      ],
      "execution_count": null,
      "outputs": []
    },
    {
      "cell_type": "code",
      "metadata": {
        "colab": {
          "base_uri": "https://localhost:8080/",
          "height": 935
        },
        "id": "Rw8urpd-ipVy",
        "outputId": "88072f53-68d0-4b45-dce9-9a21559839fd"
      },
      "source": [
        "plt.figure(figsize=(20,18))\n",
        "sns.heatmap(trainp.corr(),cmap=plt.cm.CMRmap_r)"
      ],
      "execution_count": null,
      "outputs": [
        {
          "output_type": "execute_result",
          "data": {
            "text/plain": [
              "<matplotlib.axes._subplots.AxesSubplot at 0x7f1d605d3d10>"
            ]
          },
          "metadata": {
            "tags": []
          },
          "execution_count": 28
        },
        {
          "output_type": "display_data",
          "data": {
            "image/png": "[encoded data removed]",
            "text/plain": [
              "<Figure size 1440x1296 with 2 Axes>"
            ]
          },
          "metadata": {
            "tags": [],
            "needs_background": "light"
          }
        }
      ]
    },
    {
      "cell_type": "code",
      "metadata": {
        "id": "vRWUMtkhipTY"
      },
      "source": [
        "# with the following function we can select highly correlated features\n",
        "# it will remove the first feature that is correlated with anything other feature\n",
        "\n",
        "def correlation(dataset, threshold):\n",
        "    col_corr = set()  # Set of all the names of correlated columns\n",
        "    corr_matrix = dataset.corr()\n",
        "    for i in range(len(corr_matrix.columns)):\n",
        "        for j in range(i):\n",
        "            if abs(corr_matrix.iloc[i, j]) > threshold: # we are interested in absolute coeff value\n",
        "                colname = corr_matrix.columns[i]  # getting the name of column\n",
        "                col_corr.add(colname)\n",
        "    return col_corr"
      ],
      "execution_count": null,
      "outputs": []
    },
    {
      "cell_type": "code",
      "metadata": {
        "colab": {
          "base_uri": "https://localhost:8080/"
        },
        "id": "S6jPAyo2ipQT",
        "outputId": "54b0cbd4-1b16-4480-dac1-1bdb2b4ab2a9"
      },
      "source": [
        "corr_features = correlation(trainp, 0.99)\n",
        "len(set(corr_features))"
      ],
      "execution_count": null,
      "outputs": [
        {
          "output_type": "execute_result",
          "data": {
            "text/plain": [
              "73"
            ]
          },
          "metadata": {
            "tags": []
          },
          "execution_count": 30
        }
      ]
    },
    {
      "cell_type": "code",
      "metadata": {
        "colab": {
          "base_uri": "https://localhost:8080/"
        },
        "id": "G3DhkT26mZ0i",
        "outputId": "f2034604-0dab-4db0-8dcc-46f080c31c20"
      },
      "source": [
        "corr_features"
      ],
      "execution_count": null,
      "outputs": [
        {
          "output_type": "execute_result",
          "data": {
            "text/plain": [
              "{'ABER_SG_5_15',\n",
              " 'ABER_XG_5_15',\n",
              " 'ABER_ZG_5_15',\n",
              " 'ACCBL_20',\n",
              " 'ACCBM_20',\n",
              " 'ACCBU_20',\n",
              " 'ALMA_10_6.0_0.85',\n",
              " 'AMATe_SR_2',\n",
              " 'AOBV_SR_2',\n",
              " 'ATRr_14',\n",
              " 'BBL_5_2.0',\n",
              " 'BBM_5_2.0',\n",
              " 'BBU_5_2.0',\n",
              " 'CKSPl_10_1_9',\n",
              " 'CKSPs_10_1_9',\n",
              " 'DCL_20_20',\n",
              " 'DCM_20_20',\n",
              " 'DCU_20_20',\n",
              " 'DEMA_10',\n",
              " 'EMA_10',\n",
              " 'FWMA_10',\n",
              " 'HA_close',\n",
              " 'HA_high',\n",
              " 'HA_low',\n",
              " 'HA_open',\n",
              " 'HILO_13_21',\n",
              " 'HL2',\n",
              " 'HLC3',\n",
              " 'HMA_10',\n",
              " 'HW-LOWER',\n",
              " 'HW-MID',\n",
              " 'HW-UPPER',\n",
              " 'HWMA_0.2_0.1_0.1',\n",
              " 'ICS_26',\n",
              " 'IKS_26',\n",
              " 'ISA_9',\n",
              " 'ISB_26',\n",
              " 'ITS_9',\n",
              " 'KAMA_10_2_30',\n",
              " 'KCBe_20_2',\n",
              " 'KCLe_20_2',\n",
              " 'KCUe_20_2',\n",
              " 'LDECAY_5',\n",
              " 'LR_14',\n",
              " 'MCGD_10',\n",
              " 'MEDIAN_30',\n",
              " 'MIDPOINT_2',\n",
              " 'MIDPRICE_2',\n",
              " 'OBV_max_2',\n",
              " 'OBV_min_2',\n",
              " 'OBVe_12',\n",
              " 'OBVe_4',\n",
              " 'OHLC4',\n",
              " 'PCTRET_1',\n",
              " 'PWMA_10',\n",
              " 'QTL_30_0.5',\n",
              " 'RMA_10',\n",
              " 'RSI_14',\n",
              " 'SINWMA_14',\n",
              " 'SMA_10',\n",
              " 'SQZ_OFF',\n",
              " 'SSF_10_2',\n",
              " 'SUPERT_7_3.0',\n",
              " 'SWMA_10',\n",
              " 'T3_10_0.7',\n",
              " 'TEMA_10',\n",
              " 'TRIMA_10',\n",
              " 'VIDYA_14',\n",
              " 'VWAP_D',\n",
              " 'VWMA_10',\n",
              " 'WCP',\n",
              " 'WMA_10',\n",
              " 'ZL_EMA_10'}"
            ]
          },
          "metadata": {
            "tags": []
          },
          "execution_count": 31
        }
      ]
    },
    {
      "cell_type": "code",
      "metadata": {
        "id": "uey6TS11mZx7"
      },
      "source": [
        "trainp_corr_crop = trainp.drop(corr_features,axis=1)"
      ],
      "execution_count": null,
      "outputs": []
    },
    {
      "cell_type": "markdown",
      "metadata": {
        "id": "0-DoSHZPnwWp"
      },
      "source": [
        "## mutual info"
      ]
    },
    {
      "cell_type": "code",
      "metadata": {
        "id": "BVaYZsFvmZvh"
      },
      "source": [
        "from sklearn.feature_selection import mutual_info_classif\n",
        "# determine the mutual information\n",
        "mutual_info = mutual_info_classif(trainp, target)\n",
        "# mutual_info"
      ],
      "execution_count": null,
      "outputs": []
    },
    {
      "cell_type": "code",
      "metadata": {
        "colab": {
          "base_uri": "https://localhost:8080/"
        },
        "id": "tainzHDRplCM",
        "outputId": "0fb03dba-fea3-4009-99af-0a62e31c021b"
      },
      "source": [
        "mutual_info = pd.Series(mutual_info)\n",
        "mutual_info.index = trainp.columns\n",
        "mutual_info.sort_values(ascending=False)"
      ],
      "execution_count": null,
      "outputs": [
        {
          "output_type": "execute_result",
          "data": {
            "text/plain": [
              "DPO_20             0.061064\n",
              "PCTRET_1           0.049625\n",
              "LOGRET_1           0.049428\n",
              "SLOPE_1            0.047591\n",
              "BULLP_13           0.036794\n",
              "                     ...   \n",
              "FISHERTs_9_1       0.000832\n",
              "VWAP_D             0.000680\n",
              "PSARaf_0.02_0.2    0.000016\n",
              "OBVe_12            0.000002\n",
              "PSARr_0.02_0.2     0.000000\n",
              "Length: 185, dtype: float64"
            ]
          },
          "metadata": {
            "tags": []
          },
          "execution_count": 102
        },
        {
          "output_type": "execute_result",
          "data": {
            "text/plain": [
              "DPO_20       0.061480\n",
              "PCTRET_1     0.049458\n",
              "LOGRET_1     0.049415\n",
              "SLOPE_1      0.049389\n",
              "BULLP_13     0.036794\n",
              "               ...   \n",
              "APO_12_26    0.000829\n",
              "VWAP_D       0.000657\n",
              "SQZ_ON       0.000456\n",
              "OBVe_12      0.000002\n",
              "SQZ_NO       0.000000\n",
              "Length: 185, dtype: float64"
            ]
          },
          "metadata": {
            "tags": []
          },
          "execution_count": 137
        }
      ]
    },
    {
      "cell_type": "code",
      "metadata": {
        "colab": {
          "base_uri": "https://localhost:8080/",
          "height": 1000
        },
        "id": "lv276s8gpk_P",
        "outputId": "c54983e7-879a-4cf4-8c5b-1f76649b384a"
      },
      "source": [
        "#let's plot the ordered mutual_info values per feature\n",
        "mutual_info.sort_values(ascending=False).plot.bar(figsize=(20, 8))"
      ],
      "execution_count": null,
      "outputs": [
        {
          "output_type": "execute_result",
          "data": {
            "text/plain": [
              "<matplotlib.axes._subplots.AxesSubplot at 0x7f0246886b10>"
            ]
          },
          "metadata": {
            "tags": []
          },
          "execution_count": 103
        },
        {
          "output_type": "display_data",
          "data": {
            "image/png": "[encoded data removed]",
            "text/plain": [
              "<Figure size 1440x576 with 1 Axes>"
            ]
          },
          "metadata": {
            "tags": [],
            "needs_background": "light"
          }
        },
        {
          "output_type": "execute_result",
          "data": {
            "text/plain": [
              "<matplotlib.axes._subplots.AxesSubplot at 0x7f02463f10d0>"
            ]
          },
          "metadata": {
            "tags": []
          },
          "execution_count": 138
        },
        {
          "output_type": "display_data",
          "data": {
            "image/png": "[encoded data removed]",
            "text/plain": [
              "<Figure size 1440x576 with 1 Axes>"
            ]
          },
          "metadata": {
            "tags": [],
            "needs_background": "light"
          }
        }
      ]
    },
    {
      "cell_type": "code",
      "metadata": {
        "id": "U9y0RhFtpk6R"
      },
      "source": [
        "# from sklearn.feature_selection import SelectKBest\n",
        "# #No we Will select the  top 5 important features\n",
        "# sel_five_cols = SelectKBest(mutual_info_classif, k=5)\n",
        "# sel_five_cols.fit(X_train, y_train)\n",
        "# X_train.columns[sel_five_cols.get_support()]"
      ],
      "execution_count": null,
      "outputs": []
    },
    {
      "cell_type": "code",
      "metadata": {
        "id": "gLS1EwARre2q"
      },
      "source": [
        "# #  checking columns\n",
        "# train_cols = train.columns\n",
        "# test_cols = test.columns\n",
        "\n",
        "# common_cols = train_cols.intersection(test_cols)\n",
        "# train_not_test = train_cols.difference(test_cols)"
      ],
      "execution_count": null,
      "outputs": []
    },
    {
      "cell_type": "code",
      "metadata": {
        "colab": {
          "base_uri": "https://localhost:8080/",
          "height": 413
        },
        "id": "l8bOQA3orrAX",
        "outputId": "8214c777-13a3-4f5d-a6db-cf0028859957"
      },
      "source": [
        "trainp_corr_crop.head(2)"
      ],
      "execution_count": null,
      "outputs": [
        {
          "output_type": "execute_result",
          "data": {
            "text/html": [
              "<div>\n",
              "<style scoped>\n",
              "    .dataframe tbody tr th:only-of-type {\n",
              "        vertical-align: middle;\n",
              "    }\n",
              "\n",
              "    .dataframe tbody tr th {\n",
              "        vertical-align: top;\n",
              "    }\n",
              "\n",
              "    .dataframe thead th {\n",
              "        text-align: right;\n",
              "    }\n",
              "</style>\n",
              "<table border=\"1\" class=\"dataframe\">\n",
              "  <thead>\n",
              "    <tr style=\"text-align: right;\">\n",
              "      <th></th>\n",
              "      <th>close</th>\n",
              "      <th>volume</th>\n",
              "      <th>AD</th>\n",
              "      <th>ADOSC_3_10</th>\n",
              "      <th>ABER_ATR_5_15</th>\n",
              "      <th>AMATe_LR_2</th>\n",
              "      <th>AO_5_34</th>\n",
              "      <th>OBV</th>\n",
              "      <th>AOBV_LR_2</th>\n",
              "      <th>APO_12_26</th>\n",
              "      <th>ADX_14</th>\n",
              "      <th>DMP_14</th>\n",
              "      <th>DMN_14</th>\n",
              "      <th>BBB_5_2.0</th>\n",
              "      <th>BIAS_SMA_26</th>\n",
              "      <th>BOP</th>\n",
              "      <th>AR_26</th>\n",
              "      <th>BR_26</th>\n",
              "      <th>CCI_14_0.015</th>\n",
              "      <th>CDL_DOJI_10_0.1</th>\n",
              "      <th>AROOND_14</th>\n",
              "      <th>AROONU_14</th>\n",
              "      <th>AROONOSC_14</th>\n",
              "      <th>CG_10</th>\n",
              "      <th>CHOP_14_1_100</th>\n",
              "      <th>CMF_20</th>\n",
              "      <th>CMO_14</th>\n",
              "      <th>COPC_11_14_10</th>\n",
              "      <th>DEC_1</th>\n",
              "      <th>DPO_20</th>\n",
              "      <th>EBSW_40_10</th>\n",
              "      <th>EFI_13</th>\n",
              "      <th>ENTP_10</th>\n",
              "      <th>EOM_14_100000000</th>\n",
              "      <th>ER_10</th>\n",
              "      <th>BULLP_13</th>\n",
              "      <th>BEARP_13</th>\n",
              "      <th>FISHERT_9_1</th>\n",
              "      <th>FISHERTs_9_1</th>\n",
              "      <th>CDL_INSIDE</th>\n",
              "      <th>...</th>\n",
              "      <th>PSARr_0.02_0.2</th>\n",
              "      <th>PSL_12</th>\n",
              "      <th>ROC_10</th>\n",
              "      <th>RSX_14</th>\n",
              "      <th>RVGI_14_4</th>\n",
              "      <th>RVGIs_14_4</th>\n",
              "      <th>RVI_14</th>\n",
              "      <th>SKEW_30</th>\n",
              "      <th>SLOPE_1</th>\n",
              "      <th>SMI_5_20_5</th>\n",
              "      <th>SMIs_5_20_5</th>\n",
              "      <th>SMIo_5_20_5</th>\n",
              "      <th>SQZ_20_2.0_20_1.5</th>\n",
              "      <th>SQZ_ON</th>\n",
              "      <th>SQZ_NO</th>\n",
              "      <th>STDEV_30</th>\n",
              "      <th>STOCHk_14_3_3</th>\n",
              "      <th>STOCHd_14_3_3</th>\n",
              "      <th>STOCHRSIk_14_14_3_3</th>\n",
              "      <th>STOCHRSId_14_14_3_3</th>\n",
              "      <th>SUPERTd_7_3.0</th>\n",
              "      <th>THERMO_20_2_0.5</th>\n",
              "      <th>THERMOma_20_2_0.5</th>\n",
              "      <th>THERMOl_20_2_0.5</th>\n",
              "      <th>THERMOs_20_2_0.5</th>\n",
              "      <th>TRIX_30_9</th>\n",
              "      <th>TRIXs_30_9</th>\n",
              "      <th>QQE_14_5_4.236</th>\n",
              "      <th>QQE_14_5_4.236_RSIMA</th>\n",
              "      <th>QS_10</th>\n",
              "      <th>TTM_TRND_6</th>\n",
              "      <th>UI_14</th>\n",
              "      <th>UO_7_14_28</th>\n",
              "      <th>VAR_30</th>\n",
              "      <th>TRUERANGE_1</th>\n",
              "      <th>TSI_13_25</th>\n",
              "      <th>WILLR_14</th>\n",
              "      <th>Z_30</th>\n",
              "      <th>VTXP_14</th>\n",
              "      <th>VTXM_14</th>\n",
              "    </tr>\n",
              "    <tr>\n",
              "      <th>timestamp</th>\n",
              "      <th></th>\n",
              "      <th></th>\n",
              "      <th></th>\n",
              "      <th></th>\n",
              "      <th></th>\n",
              "      <th></th>\n",
              "      <th></th>\n",
              "      <th></th>\n",
              "      <th></th>\n",
              "      <th></th>\n",
              "      <th></th>\n",
              "      <th></th>\n",
              "      <th></th>\n",
              "      <th></th>\n",
              "      <th></th>\n",
              "      <th></th>\n",
              "      <th></th>\n",
              "      <th></th>\n",
              "      <th></th>\n",
              "      <th></th>\n",
              "      <th></th>\n",
              "      <th></th>\n",
              "      <th></th>\n",
              "      <th></th>\n",
              "      <th></th>\n",
              "      <th></th>\n",
              "      <th></th>\n",
              "      <th></th>\n",
              "      <th></th>\n",
              "      <th></th>\n",
              "      <th></th>\n",
              "      <th></th>\n",
              "      <th></th>\n",
              "      <th></th>\n",
              "      <th></th>\n",
              "      <th></th>\n",
              "      <th></th>\n",
              "      <th></th>\n",
              "      <th></th>\n",
              "      <th></th>\n",
              "      <th></th>\n",
              "      <th></th>\n",
              "      <th></th>\n",
              "      <th></th>\n",
              "      <th></th>\n",
              "      <th></th>\n",
              "      <th></th>\n",
              "      <th></th>\n",
              "      <th></th>\n",
              "      <th></th>\n",
              "      <th></th>\n",
              "      <th></th>\n",
              "      <th></th>\n",
              "      <th></th>\n",
              "      <th></th>\n",
              "      <th></th>\n",
              "      <th></th>\n",
              "      <th></th>\n",
              "      <th></th>\n",
              "      <th></th>\n",
              "      <th></th>\n",
              "      <th></th>\n",
              "      <th></th>\n",
              "      <th></th>\n",
              "      <th></th>\n",
              "      <th></th>\n",
              "      <th></th>\n",
              "      <th></th>\n",
              "      <th></th>\n",
              "      <th></th>\n",
              "      <th></th>\n",
              "      <th></th>\n",
              "      <th></th>\n",
              "      <th></th>\n",
              "      <th></th>\n",
              "      <th></th>\n",
              "      <th></th>\n",
              "      <th></th>\n",
              "      <th></th>\n",
              "      <th></th>\n",
              "      <th></th>\n",
              "    </tr>\n",
              "  </thead>\n",
              "  <tbody>\n",
              "    <tr>\n",
              "      <th>2017-01-02 09:15:00+05:30</th>\n",
              "      <td>448.950012</td>\n",
              "      <td>211638.0</td>\n",
              "      <td>-211638.0</td>\n",
              "      <td>96378.03125</td>\n",
              "      <td>1.272061</td>\n",
              "      <td>0</td>\n",
              "      <td>7.691176</td>\n",
              "      <td>211638.0</td>\n",
              "      <td>0</td>\n",
              "      <td>0.439744</td>\n",
              "      <td>14.739909</td>\n",
              "      <td>21.217875</td>\n",
              "      <td>34.466522</td>\n",
              "      <td>0.942091</td>\n",
              "      <td>-0.001294</td>\n",
              "      <td>-0.833333</td>\n",
              "      <td>77.560974</td>\n",
              "      <td>72.517319</td>\n",
              "      <td>-25.858356</td>\n",
              "      <td>0</td>\n",
              "      <td>57.142857</td>\n",
              "      <td>0.0</td>\n",
              "      <td>-57.142857</td>\n",
              "      <td>-5.511345</td>\n",
              "      <td>28.826862</td>\n",
              "      <td>-0.009679</td>\n",
              "      <td>-32.414116</td>\n",
              "      <td>0.908976</td>\n",
              "      <td>0</td>\n",
              "      <td>-2.2125</td>\n",
              "      <td>0.0</td>\n",
              "      <td>-55513.4375</td>\n",
              "      <td>3.322992</td>\n",
              "      <td>-357.879089</td>\n",
              "      <td>0.537415</td>\n",
              "      <td>-0.292308</td>\n",
              "      <td>-0.692308</td>\n",
              "      <td>0.0</td>\n",
              "      <td>0.0</td>\n",
              "      <td>0</td>\n",
              "      <td>...</td>\n",
              "      <td>False</td>\n",
              "      <td>25.0</td>\n",
              "      <td>-0.879831</td>\n",
              "      <td>0.0</td>\n",
              "      <td>-0.018987</td>\n",
              "      <td>-0.00166</td>\n",
              "      <td>0.0</td>\n",
              "      <td>1.821935</td>\n",
              "      <td>-1.45</td>\n",
              "      <td>-0.128405</td>\n",
              "      <td>-0.128405</td>\n",
              "      <td>0.0</td>\n",
              "      <td>-1.558333</td>\n",
              "      <td>0</td>\n",
              "      <td>1</td>\n",
              "      <td>2.300859</td>\n",
              "      <td>47.665321</td>\n",
              "      <td>60.328251</td>\n",
              "      <td>100.0</td>\n",
              "      <td>97.863304</td>\n",
              "      <td>1</td>\n",
              "      <td>2.6</td>\n",
              "      <td>1.021053</td>\n",
              "      <td>0</td>\n",
              "      <td>0</td>\n",
              "      <td>0.000605</td>\n",
              "      <td>0.006863</td>\n",
              "      <td>38.290493</td>\n",
              "      <td>33.792942</td>\n",
              "      <td>-0.33</td>\n",
              "      <td>-1</td>\n",
              "      <td>0.360363</td>\n",
              "      <td>54.648167</td>\n",
              "      <td>5.117489</td>\n",
              "      <td>2.70</td>\n",
              "      <td>-15.753425</td>\n",
              "      <td>-70.466324</td>\n",
              "      <td>3.656605</td>\n",
              "      <td>0.756098</td>\n",
              "      <td>1.287263</td>\n",
              "    </tr>\n",
              "    <tr>\n",
              "      <th>2017-01-02 09:30:00+05:30</th>\n",
              "      <td>447.500000</td>\n",
              "      <td>117877.0</td>\n",
              "      <td>-329515.0</td>\n",
              "      <td>96378.03125</td>\n",
              "      <td>1.272061</td>\n",
              "      <td>0</td>\n",
              "      <td>7.691176</td>\n",
              "      <td>93761.0</td>\n",
              "      <td>0</td>\n",
              "      <td>0.439744</td>\n",
              "      <td>14.739909</td>\n",
              "      <td>21.217875</td>\n",
              "      <td>34.466522</td>\n",
              "      <td>0.942091</td>\n",
              "      <td>-0.001294</td>\n",
              "      <td>-0.354839</td>\n",
              "      <td>77.560974</td>\n",
              "      <td>72.517319</td>\n",
              "      <td>-25.858356</td>\n",
              "      <td>0</td>\n",
              "      <td>57.142857</td>\n",
              "      <td>0.0</td>\n",
              "      <td>-57.142857</td>\n",
              "      <td>-5.511345</td>\n",
              "      <td>28.826862</td>\n",
              "      <td>-0.009679</td>\n",
              "      <td>-32.414116</td>\n",
              "      <td>0.908976</td>\n",
              "      <td>1</td>\n",
              "      <td>-2.2125</td>\n",
              "      <td>0.0</td>\n",
              "      <td>-55513.4375</td>\n",
              "      <td>3.322992</td>\n",
              "      <td>-357.879089</td>\n",
              "      <td>0.537415</td>\n",
              "      <td>-0.292308</td>\n",
              "      <td>-0.692308</td>\n",
              "      <td>0.0</td>\n",
              "      <td>0.0</td>\n",
              "      <td>0</td>\n",
              "      <td>...</td>\n",
              "      <td>False</td>\n",
              "      <td>25.0</td>\n",
              "      <td>-0.879831</td>\n",
              "      <td>0.0</td>\n",
              "      <td>-0.018987</td>\n",
              "      <td>-0.00166</td>\n",
              "      <td>0.0</td>\n",
              "      <td>1.821935</td>\n",
              "      <td>-1.45</td>\n",
              "      <td>-0.128405</td>\n",
              "      <td>-0.128405</td>\n",
              "      <td>0.0</td>\n",
              "      <td>-1.558333</td>\n",
              "      <td>0</td>\n",
              "      <td>1</td>\n",
              "      <td>2.300859</td>\n",
              "      <td>47.665321</td>\n",
              "      <td>60.328251</td>\n",
              "      <td>100.0</td>\n",
              "      <td>97.863304</td>\n",
              "      <td>1</td>\n",
              "      <td>2.6</td>\n",
              "      <td>1.021053</td>\n",
              "      <td>0</td>\n",
              "      <td>0</td>\n",
              "      <td>0.000605</td>\n",
              "      <td>0.006863</td>\n",
              "      <td>38.290493</td>\n",
              "      <td>33.792942</td>\n",
              "      <td>-0.33</td>\n",
              "      <td>-1</td>\n",
              "      <td>0.360363</td>\n",
              "      <td>54.648167</td>\n",
              "      <td>5.117489</td>\n",
              "      <td>1.55</td>\n",
              "      <td>-15.753425</td>\n",
              "      <td>-70.466324</td>\n",
              "      <td>3.656605</td>\n",
              "      <td>0.756098</td>\n",
              "      <td>1.287263</td>\n",
              "    </tr>\n",
              "  </tbody>\n",
              "</table>\n",
              "<p>2 rows × 112 columns</p>\n",
              "</div>"
            ],
            "text/plain": [
              "                                close    volume  ...   VTXP_14   VTXM_14\n",
              "timestamp                                        ...                    \n",
              "2017-01-02 09:15:00+05:30  448.950012  211638.0  ...  0.756098  1.287263\n",
              "2017-01-02 09:30:00+05:30  447.500000  117877.0  ...  0.756098  1.287263\n",
              "\n",
              "[2 rows x 112 columns]"
            ]
          },
          "metadata": {
            "tags": []
          },
          "execution_count": 106
        },
        {
          "output_type": "execute_result",
          "data": {
            "text/html": [
              "<div>\n",
              "<style scoped>\n",
              "    .dataframe tbody tr th:only-of-type {\n",
              "        vertical-align: middle;\n",
              "    }\n",
              "\n",
              "    .dataframe tbody tr th {\n",
              "        vertical-align: top;\n",
              "    }\n",
              "\n",
              "    .dataframe thead th {\n",
              "        text-align: right;\n",
              "    }\n",
              "</style>\n",
              "<table border=\"1\" class=\"dataframe\">\n",
              "  <thead>\n",
              "    <tr style=\"text-align: right;\">\n",
              "      <th></th>\n",
              "      <th>close</th>\n",
              "      <th>volume</th>\n",
              "      <th>AD</th>\n",
              "      <th>ADOSC_3_10</th>\n",
              "      <th>ABER_ATR_5_15</th>\n",
              "      <th>AMATe_LR_2</th>\n",
              "      <th>AO_5_34</th>\n",
              "      <th>OBV</th>\n",
              "      <th>AOBV_LR_2</th>\n",
              "      <th>APO_12_26</th>\n",
              "      <th>ADX_14</th>\n",
              "      <th>DMP_14</th>\n",
              "      <th>DMN_14</th>\n",
              "      <th>BBB_5_2.0</th>\n",
              "      <th>BIAS_SMA_26</th>\n",
              "      <th>BOP</th>\n",
              "      <th>AR_26</th>\n",
              "      <th>BR_26</th>\n",
              "      <th>CCI_14_0.015</th>\n",
              "      <th>CDL_DOJI_10_0.1</th>\n",
              "      <th>AROOND_14</th>\n",
              "      <th>AROONU_14</th>\n",
              "      <th>AROONOSC_14</th>\n",
              "      <th>CG_10</th>\n",
              "      <th>CHOP_14_1_100</th>\n",
              "      <th>CMF_20</th>\n",
              "      <th>CMO_14</th>\n",
              "      <th>COPC_11_14_10</th>\n",
              "      <th>DEC_1</th>\n",
              "      <th>DPO_20</th>\n",
              "      <th>EBSW_40_10</th>\n",
              "      <th>EFI_13</th>\n",
              "      <th>ENTP_10</th>\n",
              "      <th>EOM_14_100000000</th>\n",
              "      <th>ER_10</th>\n",
              "      <th>BULLP_13</th>\n",
              "      <th>BEARP_13</th>\n",
              "      <th>FISHERT_9_1</th>\n",
              "      <th>FISHERTs_9_1</th>\n",
              "      <th>CDL_INSIDE</th>\n",
              "      <th>...</th>\n",
              "      <th>PSARr_0.02_0.2</th>\n",
              "      <th>PSL_12</th>\n",
              "      <th>ROC_10</th>\n",
              "      <th>RSX_14</th>\n",
              "      <th>RVGI_14_4</th>\n",
              "      <th>RVGIs_14_4</th>\n",
              "      <th>RVI_14</th>\n",
              "      <th>SKEW_30</th>\n",
              "      <th>SLOPE_1</th>\n",
              "      <th>SMI_5_20_5</th>\n",
              "      <th>SMIs_5_20_5</th>\n",
              "      <th>SMIo_5_20_5</th>\n",
              "      <th>SQZ_20_2.0_20_1.5</th>\n",
              "      <th>SQZ_ON</th>\n",
              "      <th>SQZ_NO</th>\n",
              "      <th>STDEV_30</th>\n",
              "      <th>STOCHk_14_3_3</th>\n",
              "      <th>STOCHd_14_3_3</th>\n",
              "      <th>STOCHRSIk_14_14_3_3</th>\n",
              "      <th>STOCHRSId_14_14_3_3</th>\n",
              "      <th>SUPERTd_7_3.0</th>\n",
              "      <th>THERMO_20_2_0.5</th>\n",
              "      <th>THERMOma_20_2_0.5</th>\n",
              "      <th>THERMOl_20_2_0.5</th>\n",
              "      <th>THERMOs_20_2_0.5</th>\n",
              "      <th>TRIX_30_9</th>\n",
              "      <th>TRIXs_30_9</th>\n",
              "      <th>QQE_14_5_4.236</th>\n",
              "      <th>QQE_14_5_4.236_RSIMA</th>\n",
              "      <th>QS_10</th>\n",
              "      <th>TTM_TRND_6</th>\n",
              "      <th>UI_14</th>\n",
              "      <th>UO_7_14_28</th>\n",
              "      <th>VAR_30</th>\n",
              "      <th>TRUERANGE_1</th>\n",
              "      <th>TSI_13_25</th>\n",
              "      <th>WILLR_14</th>\n",
              "      <th>Z_30</th>\n",
              "      <th>VTXP_14</th>\n",
              "      <th>VTXM_14</th>\n",
              "    </tr>\n",
              "    <tr>\n",
              "      <th>timestamp</th>\n",
              "      <th></th>\n",
              "      <th></th>\n",
              "      <th></th>\n",
              "      <th></th>\n",
              "      <th></th>\n",
              "      <th></th>\n",
              "      <th></th>\n",
              "      <th></th>\n",
              "      <th></th>\n",
              "      <th></th>\n",
              "      <th></th>\n",
              "      <th></th>\n",
              "      <th></th>\n",
              "      <th></th>\n",
              "      <th></th>\n",
              "      <th></th>\n",
              "      <th></th>\n",
              "      <th></th>\n",
              "      <th></th>\n",
              "      <th></th>\n",
              "      <th></th>\n",
              "      <th></th>\n",
              "      <th></th>\n",
              "      <th></th>\n",
              "      <th></th>\n",
              "      <th></th>\n",
              "      <th></th>\n",
              "      <th></th>\n",
              "      <th></th>\n",
              "      <th></th>\n",
              "      <th></th>\n",
              "      <th></th>\n",
              "      <th></th>\n",
              "      <th></th>\n",
              "      <th></th>\n",
              "      <th></th>\n",
              "      <th></th>\n",
              "      <th></th>\n",
              "      <th></th>\n",
              "      <th></th>\n",
              "      <th></th>\n",
              "      <th></th>\n",
              "      <th></th>\n",
              "      <th></th>\n",
              "      <th></th>\n",
              "      <th></th>\n",
              "      <th></th>\n",
              "      <th></th>\n",
              "      <th></th>\n",
              "      <th></th>\n",
              "      <th></th>\n",
              "      <th></th>\n",
              "      <th></th>\n",
              "      <th></th>\n",
              "      <th></th>\n",
              "      <th></th>\n",
              "      <th></th>\n",
              "      <th></th>\n",
              "      <th></th>\n",
              "      <th></th>\n",
              "      <th></th>\n",
              "      <th></th>\n",
              "      <th></th>\n",
              "      <th></th>\n",
              "      <th></th>\n",
              "      <th></th>\n",
              "      <th></th>\n",
              "      <th></th>\n",
              "      <th></th>\n",
              "      <th></th>\n",
              "      <th></th>\n",
              "      <th></th>\n",
              "      <th></th>\n",
              "      <th></th>\n",
              "      <th></th>\n",
              "      <th></th>\n",
              "      <th></th>\n",
              "      <th></th>\n",
              "      <th></th>\n",
              "      <th></th>\n",
              "      <th></th>\n",
              "    </tr>\n",
              "  </thead>\n",
              "  <tbody>\n",
              "    <tr>\n",
              "      <th>2017-01-02 09:15:00+05:30</th>\n",
              "      <td>448.950012</td>\n",
              "      <td>211638.0</td>\n",
              "      <td>-211638.0</td>\n",
              "      <td>96378.03125</td>\n",
              "      <td>1.272061</td>\n",
              "      <td>0</td>\n",
              "      <td>7.691176</td>\n",
              "      <td>211638.0</td>\n",
              "      <td>0</td>\n",
              "      <td>0.439744</td>\n",
              "      <td>14.739909</td>\n",
              "      <td>21.217875</td>\n",
              "      <td>34.466522</td>\n",
              "      <td>0.942091</td>\n",
              "      <td>-0.001294</td>\n",
              "      <td>-0.833333</td>\n",
              "      <td>77.560974</td>\n",
              "      <td>72.517319</td>\n",
              "      <td>-25.858356</td>\n",
              "      <td>0</td>\n",
              "      <td>57.142857</td>\n",
              "      <td>0.0</td>\n",
              "      <td>-57.142857</td>\n",
              "      <td>-5.511345</td>\n",
              "      <td>28.826862</td>\n",
              "      <td>-0.009679</td>\n",
              "      <td>-32.414116</td>\n",
              "      <td>0.908976</td>\n",
              "      <td>0</td>\n",
              "      <td>-2.2125</td>\n",
              "      <td>0.0</td>\n",
              "      <td>-55513.4375</td>\n",
              "      <td>3.322992</td>\n",
              "      <td>-357.879089</td>\n",
              "      <td>0.537415</td>\n",
              "      <td>-0.292308</td>\n",
              "      <td>-0.692308</td>\n",
              "      <td>0.0</td>\n",
              "      <td>0.0</td>\n",
              "      <td>0</td>\n",
              "      <td>...</td>\n",
              "      <td>False</td>\n",
              "      <td>25.0</td>\n",
              "      <td>-0.879831</td>\n",
              "      <td>0.0</td>\n",
              "      <td>-0.018987</td>\n",
              "      <td>-0.00166</td>\n",
              "      <td>0.0</td>\n",
              "      <td>1.821935</td>\n",
              "      <td>-1.45</td>\n",
              "      <td>-0.128405</td>\n",
              "      <td>-0.128405</td>\n",
              "      <td>0.0</td>\n",
              "      <td>-1.558333</td>\n",
              "      <td>0</td>\n",
              "      <td>1</td>\n",
              "      <td>2.300859</td>\n",
              "      <td>47.665321</td>\n",
              "      <td>60.328251</td>\n",
              "      <td>100.0</td>\n",
              "      <td>97.863304</td>\n",
              "      <td>1</td>\n",
              "      <td>2.6</td>\n",
              "      <td>1.021053</td>\n",
              "      <td>0</td>\n",
              "      <td>0</td>\n",
              "      <td>0.000605</td>\n",
              "      <td>0.006863</td>\n",
              "      <td>38.290493</td>\n",
              "      <td>33.792942</td>\n",
              "      <td>-0.33</td>\n",
              "      <td>-1</td>\n",
              "      <td>0.360363</td>\n",
              "      <td>54.648167</td>\n",
              "      <td>5.117489</td>\n",
              "      <td>2.70</td>\n",
              "      <td>-15.753425</td>\n",
              "      <td>-70.466324</td>\n",
              "      <td>3.656605</td>\n",
              "      <td>0.756098</td>\n",
              "      <td>1.287263</td>\n",
              "    </tr>\n",
              "    <tr>\n",
              "      <th>2017-01-02 09:30:00+05:30</th>\n",
              "      <td>447.500000</td>\n",
              "      <td>117877.0</td>\n",
              "      <td>-329515.0</td>\n",
              "      <td>96378.03125</td>\n",
              "      <td>1.272061</td>\n",
              "      <td>0</td>\n",
              "      <td>7.691176</td>\n",
              "      <td>93761.0</td>\n",
              "      <td>0</td>\n",
              "      <td>0.439744</td>\n",
              "      <td>14.739909</td>\n",
              "      <td>21.217875</td>\n",
              "      <td>34.466522</td>\n",
              "      <td>0.942091</td>\n",
              "      <td>-0.001294</td>\n",
              "      <td>-0.354839</td>\n",
              "      <td>77.560974</td>\n",
              "      <td>72.517319</td>\n",
              "      <td>-25.858356</td>\n",
              "      <td>0</td>\n",
              "      <td>57.142857</td>\n",
              "      <td>0.0</td>\n",
              "      <td>-57.142857</td>\n",
              "      <td>-5.511345</td>\n",
              "      <td>28.826862</td>\n",
              "      <td>-0.009679</td>\n",
              "      <td>-32.414116</td>\n",
              "      <td>0.908976</td>\n",
              "      <td>1</td>\n",
              "      <td>-2.2125</td>\n",
              "      <td>0.0</td>\n",
              "      <td>-55513.4375</td>\n",
              "      <td>3.322992</td>\n",
              "      <td>-357.879089</td>\n",
              "      <td>0.537415</td>\n",
              "      <td>-0.292308</td>\n",
              "      <td>-0.692308</td>\n",
              "      <td>0.0</td>\n",
              "      <td>0.0</td>\n",
              "      <td>0</td>\n",
              "      <td>...</td>\n",
              "      <td>False</td>\n",
              "      <td>25.0</td>\n",
              "      <td>-0.879831</td>\n",
              "      <td>0.0</td>\n",
              "      <td>-0.018987</td>\n",
              "      <td>-0.00166</td>\n",
              "      <td>0.0</td>\n",
              "      <td>1.821935</td>\n",
              "      <td>-1.45</td>\n",
              "      <td>-0.128405</td>\n",
              "      <td>-0.128405</td>\n",
              "      <td>0.0</td>\n",
              "      <td>-1.558333</td>\n",
              "      <td>0</td>\n",
              "      <td>1</td>\n",
              "      <td>2.300859</td>\n",
              "      <td>47.665321</td>\n",
              "      <td>60.328251</td>\n",
              "      <td>100.0</td>\n",
              "      <td>97.863304</td>\n",
              "      <td>1</td>\n",
              "      <td>2.6</td>\n",
              "      <td>1.021053</td>\n",
              "      <td>0</td>\n",
              "      <td>0</td>\n",
              "      <td>0.000605</td>\n",
              "      <td>0.006863</td>\n",
              "      <td>38.290493</td>\n",
              "      <td>33.792942</td>\n",
              "      <td>-0.33</td>\n",
              "      <td>-1</td>\n",
              "      <td>0.360363</td>\n",
              "      <td>54.648167</td>\n",
              "      <td>5.117489</td>\n",
              "      <td>1.55</td>\n",
              "      <td>-15.753425</td>\n",
              "      <td>-70.466324</td>\n",
              "      <td>3.656605</td>\n",
              "      <td>0.756098</td>\n",
              "      <td>1.287263</td>\n",
              "    </tr>\n",
              "  </tbody>\n",
              "</table>\n",
              "<p>2 rows × 112 columns</p>\n",
              "</div>"
            ],
            "text/plain": [
              "                                close    volume  ...   VTXP_14   VTXM_14\n",
              "timestamp                                        ...                    \n",
              "2017-01-02 09:15:00+05:30  448.950012  211638.0  ...  0.756098  1.287263\n",
              "2017-01-02 09:30:00+05:30  447.500000  117877.0  ...  0.756098  1.287263\n",
              "\n",
              "[2 rows x 112 columns]"
            ]
          },
          "metadata": {
            "tags": []
          },
          "execution_count": 141
        }
      ]
    },
    {
      "cell_type": "markdown",
      "metadata": {
        "id": "BWLYy8Y2sdXe"
      },
      "source": [
        "# corr remove"
      ]
    },
    {
      "cell_type": "code",
      "metadata": {
        "id": "Fk6gTq_trA3X"
      },
      "source": [
        "from sklearn.model_selection import train_test_split\n",
        "X_trainXG, X_testXG, y_trainXG, y_testXG = train_test_split(trainp_corr_crop,target, test_size = 0.2, random_state = 0)"
      ],
      "execution_count": null,
      "outputs": []
    },
    {
      "cell_type": "code",
      "metadata": {
        "colab": {
          "base_uri": "https://localhost:8080/"
        },
        "id": "WYCEez01pkzb",
        "outputId": "44242717-8db5-4fef-b360-5d8c601bbd48"
      },
      "source": [
        "import xgboost as xgb\n",
        "from sklearn.metrics import classification_report\n",
        "\n",
        "my_model = xgb.XGBClassifier()\n",
        "my_model.fit(X_trainXG, y_trainXG)\n",
        "y_pred = my_model.predict(X_testXG)\n",
        "target_names = ['class 0', 'class 1', 'class 2']\n",
        "print(classification_report(y_testXG, y_pred, target_names=target_names))"
      ],
      "execution_count": null,
      "outputs": [
        {
          "output_type": "stream",
          "text": [
            "              precision    recall  f1-score   support\n",
            "\n",
            "     class 0       0.54      0.41      0.47       105\n",
            "     class 1       0.97      0.99      0.98      4738\n",
            "     class 2       0.42      0.20      0.27        92\n",
            "\n",
            "    accuracy                           0.96      4935\n",
            "   macro avg       0.64      0.53      0.57      4935\n",
            "weighted avg       0.95      0.96      0.96      4935\n",
            "\n",
            "              precision    recall  f1-score   support\n",
            "\n",
            "     class 0       0.54      0.41      0.47       105\n",
            "     class 1       0.97      0.99      0.98      4738\n",
            "     class 2       0.42      0.20      0.27        92\n",
            "\n",
            "    accuracy                           0.96      4935\n",
            "   macro avg       0.64      0.53      0.57      4935\n",
            "weighted avg       0.95      0.96      0.96      4935\n",
            "\n"
          ],
          "name": "stdout"
        }
      ]
    },
    {
      "cell_type": "code",
      "metadata": {
        "colab": {
          "base_uri": "https://localhost:8080/"
        },
        "id": "2GkIEI3vtJlp",
        "outputId": "8e0ec810-95b1-44a6-a37a-e3d2614792a0"
      },
      "source": [
        "from sklearn.ensemble import RandomForestClassifier\n",
        "\n",
        "rf_model = RandomForestClassifier()\n",
        "rf_model.fit(X_trainXG, y_trainXG)\n",
        "y_pred = rf_model.predict(X_testXG)\n",
        "target_names = ['class 0', 'class 1', 'class 2']\n",
        "print(classification_report(y_testXG, y_pred, target_names=target_names))"
      ],
      "execution_count": null,
      "outputs": [
        {
          "output_type": "stream",
          "text": [
            "              precision    recall  f1-score   support\n",
            "\n",
            "     class 0       0.43      0.15      0.23       105\n",
            "     class 1       0.96      1.00      0.98      4738\n",
            "     class 2       0.33      0.01      0.02        92\n",
            "\n",
            "    accuracy                           0.96      4935\n",
            "   macro avg       0.58      0.39      0.41      4935\n",
            "weighted avg       0.94      0.96      0.95      4935\n",
            "\n"
          ],
          "name": "stdout"
        }
      ]
    },
    {
      "cell_type": "code",
      "metadata": {
        "colab": {
          "base_uri": "https://localhost:8080/"
        },
        "id": "9QS1i8UrtboG",
        "outputId": "17e05989-173f-4c76-cbbe-0d848c4bec85"
      },
      "source": [
        "import lightgbm as lgb\n",
        "gbm = lgb.LGBMClassifier()\n",
        "gbm.fit(X_trainXG, y_trainXG)\n",
        "y_pred = gbm.predict(X_testXG)\n",
        "target_names = ['class 0', 'class 1', 'class 2']\n",
        "print(classification_report(y_testXG, y_pred, target_names=target_names))"
      ],
      "execution_count": null,
      "outputs": [
        {
          "output_type": "stream",
          "text": [
            "              precision    recall  f1-score   support\n",
            "\n",
            "     class 0       0.56      0.38      0.45       105\n",
            "     class 1       0.97      0.99      0.98      4738\n",
            "     class 2       0.42      0.20      0.27        92\n",
            "\n",
            "    accuracy                           0.96      4935\n",
            "   macro avg       0.65      0.52      0.57      4935\n",
            "weighted avg       0.95      0.96      0.96      4935\n",
            "\n"
          ],
          "name": "stdout"
        }
      ]
    },
    {
      "cell_type": "code",
      "metadata": {
        "id": "Oel5iO57pkwh"
      },
      "source": [
        "# fig, ax = plt.subplots(1,1,figsize=(10,10))\n",
        "# xgb.plot_importance(my_model, ax=ax)"
      ],
      "execution_count": null,
      "outputs": []
    },
    {
      "cell_type": "markdown",
      "metadata": {
        "id": "YXdvt2jSsjmT"
      },
      "source": [
        "# Normal"
      ]
    },
    {
      "cell_type": "code",
      "metadata": {
        "id": "MrQT1yyOpktz"
      },
      "source": [
        ""
      ],
      "execution_count": null,
      "outputs": []
    },
    {
      "cell_type": "code",
      "metadata": {
        "id": "5yr-Wgchsk6P"
      },
      "source": [
        "from sklearn.model_selection import train_test_split\n",
        "X_trainXG, X_testXG, y_trainXG, y_testXG = train_test_split(trainp,target, test_size = 0.2, random_state = 0)"
      ],
      "execution_count": null,
      "outputs": []
    },
    {
      "cell_type": "code",
      "metadata": {
        "colab": {
          "base_uri": "https://localhost:8080/"
        },
        "id": "gFSXXzzUsk6P",
        "outputId": "7b9dea3f-8212-4ec3-9048-566bcdbbbc99"
      },
      "source": [
        "import xgboost as xgb\n",
        "from sklearn.metrics import classification_report\n",
        "\n",
        "my_model = xgb.XGBClassifier()\n",
        "my_model.fit(X_trainXG, y_trainXG)\n",
        "y_pred = my_model.predict(X_testXG)\n",
        "target_names = ['class 0', 'class 1', 'class 2']\n",
        "print(classification_report(y_testXG, y_pred, target_names=target_names))"
      ],
      "execution_count": null,
      "outputs": [
        {
          "output_type": "stream",
          "text": [
            "              precision    recall  f1-score   support\n",
            "\n",
            "     class 0       0.56      0.42      0.48       105\n",
            "     class 1       0.97      0.99      0.98      4738\n",
            "     class 2       0.38      0.18      0.25        92\n",
            "\n",
            "    accuracy                           0.96      4935\n",
            "   macro avg       0.64      0.53      0.57      4935\n",
            "weighted avg       0.95      0.96      0.96      4935\n",
            "\n"
          ],
          "name": "stdout"
        }
      ]
    },
    {
      "cell_type": "code",
      "metadata": {
        "colab": {
          "base_uri": "https://localhost:8080/",
          "height": 638
        },
        "id": "Zh_SuEdqsk6Q",
        "outputId": "40662985-5801-40a1-c6cf-1f79fbb90d74"
      },
      "source": [
        "fig, ax = plt.subplots(1,1,figsize=(10,10))\n",
        "xgb.plot_importance(my_model, ax=ax)"
      ],
      "execution_count": null,
      "outputs": [
        {
          "output_type": "execute_result",
          "data": {
            "text/plain": [
              "<matplotlib.axes._subplots.AxesSubplot at 0x7f0245eecbd0>"
            ]
          },
          "metadata": {
            "tags": []
          },
          "execution_count": 149
        },
        {
          "output_type": "display_data",
          "data": {
            "image/png": "[encoded data removed]",
            "text/plain": [
              "<Figure size 720x720 with 1 Axes>"
            ]
          },
          "metadata": {
            "tags": [],
            "needs_background": "light"
          }
        }
      ]
    },
    {
      "cell_type": "markdown",
      "metadata": {
        "id": "FFXfp1HjuhyN"
      },
      "source": [
        "# SMOTE"
      ]
    },
    {
      "cell_type": "code",
      "metadata": {
        "colab": {
          "base_uri": "https://localhost:8080/"
        },
        "id": "hHnlVwSFz-l8",
        "outputId": "25d838db-6b4a-4771-883e-520cbffa6ad2"
      },
      "source": [
        "from imblearn.combine import SMOTETomek\n",
        "from imblearn.under_sampling import NearMiss"
      ],
      "execution_count": null,
      "outputs": [
        {
          "output_type": "stream",
          "text": [
            "/usr/local/lib/python3.7/dist-packages/sklearn/externals/six.py:31: FutureWarning: The module is deprecated in version 0.21 and will be removed in version 0.23 since we've dropped support for Python 2.7. Please rely on the official version of six (https://pypi.org/project/six/).\n",
            "  \"(https://pypi.org/project/six/).\", FutureWarning)\n",
            "/usr/local/lib/python3.7/dist-packages/sklearn/utils/deprecation.py:144: FutureWarning: The sklearn.neighbors.base module is  deprecated in version 0.22 and will be removed in version 0.24. The corresponding classes / functions should instead be imported from sklearn.neighbors. Anything that cannot be imported from sklearn.neighbors is now part of the private API.\n",
            "  warnings.warn(message, FutureWarning)\n"
          ],
          "name": "stderr"
        }
      ]
    },
    {
      "cell_type": "code",
      "metadata": {
        "id": "kTFQHnfWvWTL"
      },
      "source": [
        "# Implementing Oversampling for Handling Imbalanced \n",
        "smk = SMOTETomek(random_state=42)\n",
        "X_res,y_res=smk.fit_sample(trainp,target)"
      ],
      "execution_count": null,
      "outputs": []
    },
    {
      "cell_type": "code",
      "metadata": {
        "id": "jd-gHpIDy_QD"
      },
      "source": [
        "from sklearn.model_selection import train_test_split\n",
        "X_trainXG, X_testXG, y_trainXG, y_testXG = train_test_split(X_res,y_res, test_size = 0.3, random_state = 0)"
      ],
      "execution_count": null,
      "outputs": []
    },
    {
      "cell_type": "code",
      "metadata": {
        "colab": {
          "base_uri": "https://localhost:8080/"
        },
        "id": "ATT0z2Hx0iPk",
        "outputId": "7ebde99b-38fa-49e8-ae19-8cfbcf03f717"
      },
      "source": [
        "X_trainXG.shape, X_testXG.shape, y_trainXG.shape, y_testXG.shape"
      ],
      "execution_count": null,
      "outputs": [
        {
          "output_type": "execute_result",
          "data": {
            "text/plain": [
              "((48755, 185), (20895, 185), (48755,), (20895,))"
            ]
          },
          "metadata": {
            "tags": []
          },
          "execution_count": 153
        }
      ]
    },
    {
      "cell_type": "code",
      "metadata": {
        "colab": {
          "base_uri": "https://localhost:8080/"
        },
        "id": "SBOPKn_-pkoq",
        "outputId": "4c134f83-0ecf-45d9-d0be-e4ba7f4ad61c"
      },
      "source": [
        "my_model = xgb.XGBClassifier()\n",
        "my_model.fit(X_trainXG, y_trainXG)\n",
        "y_pred = my_model.predict(X_testXG)\n",
        "target_names = ['class 0', 'class 1', 'class 2']\n",
        "print(classification_report(y_testXG, y_pred, target_names=target_names))"
      ],
      "execution_count": null,
      "outputs": [
        {
          "output_type": "stream",
          "text": [
            "              precision    recall  f1-score   support\n",
            "\n",
            "     class 0       0.97      1.00      0.98      7039\n",
            "     class 1       0.98      0.95      0.96      6767\n",
            "     class 2       0.98      0.99      0.98      7089\n",
            "\n",
            "    accuracy                           0.98     20895\n",
            "   macro avg       0.98      0.98      0.98     20895\n",
            "weighted avg       0.98      0.98      0.98     20895\n",
            "\n"
          ],
          "name": "stdout"
        }
      ]
    },
    {
      "cell_type": "markdown",
      "metadata": {
        "id": "3zDuhG4U0rp5"
      },
      "source": [
        "# Testing "
      ]
    },
    {
      "cell_type": "code",
      "metadata": {
        "colab": {
          "base_uri": "https://localhost:8080/"
        },
        "id": "rBXmjpyE0uaE",
        "outputId": "2025ae78-c170-4392-88e0-e373455822cf"
      },
      "source": [
        "!pip install yfinance"
      ],
      "execution_count": null,
      "outputs": [
        {
          "output_type": "stream",
          "text": [
            "Requirement already satisfied: yfinance in /usr/local/lib/python3.7/dist-packages (0.1.59)\n",
            "Requirement already satisfied: numpy>=1.15 in /usr/local/lib/python3.7/dist-packages (from yfinance) (1.19.5)\n",
            "Requirement already satisfied: requests>=2.20 in /usr/local/lib/python3.7/dist-packages (from yfinance) (2.23.0)\n",
            "Requirement already satisfied: lxml>=4.5.1 in /usr/local/lib/python3.7/dist-packages (from yfinance) (4.6.3)\n",
            "Requirement already satisfied: pandas>=0.24 in /usr/local/lib/python3.7/dist-packages (from yfinance) (1.1.5)\n",
            "Requirement already satisfied: multitasking>=0.0.7 in /usr/local/lib/python3.7/dist-packages (from yfinance) (0.0.9)\n",
            "Requirement already satisfied: chardet<4,>=3.0.2 in /usr/local/lib/python3.7/dist-packages (from requests>=2.20->yfinance) (3.0.4)\n",
            "Requirement already satisfied: idna<3,>=2.5 in /usr/local/lib/python3.7/dist-packages (from requests>=2.20->yfinance) (2.10)\n",
            "Requirement already satisfied: urllib3!=1.25.0,!=1.25.1,<1.26,>=1.21.1 in /usr/local/lib/python3.7/dist-packages (from requests>=2.20->yfinance) (1.24.3)\n",
            "Requirement already satisfied: certifi>=2017.4.17 in /usr/local/lib/python3.7/dist-packages (from requests>=2.20->yfinance) (2021.5.30)\n",
            "Requirement already satisfied: python-dateutil>=2.7.3 in /usr/local/lib/python3.7/dist-packages (from pandas>=0.24->yfinance) (2.8.1)\n",
            "Requirement already satisfied: pytz>=2017.2 in /usr/local/lib/python3.7/dist-packages (from pandas>=0.24->yfinance) (2018.9)\n",
            "Requirement already satisfied: six>=1.5 in /usr/local/lib/python3.7/dist-packages (from python-dateutil>=2.7.3->pandas>=0.24->yfinance) (1.15.0)\n"
          ],
          "name": "stdout"
        }
      ]
    },
    {
      "cell_type": "code",
      "metadata": {
        "colab": {
          "base_uri": "https://localhost:8080/"
        },
        "id": "xFyEaOzLsjQ6",
        "outputId": "c70076c6-923f-4fbd-d9a9-0bc8f6ea7bf7"
      },
      "source": [
        "import yfinance as yf\n",
        "start = dt.datetime.today()-dt.timedelta(59)\n",
        "end = dt.datetime.today()\n",
        "fdf = yf.download('AXISBANK.NS',start=start, end=end,interval='15m')\n",
        "fdf.ta.strategy(ta.AllStrategy)"
      ],
      "execution_count": null,
      "outputs": [
        {
          "output_type": "stream",
          "text": [
            "\r[*********************100%***********************]  1 of 1 completed\n"
          ],
          "name": "stdout"
        },
        {
          "output_type": "stream",
          "text": [
            "/usr/local/lib/python3.7/dist-packages/pandas/core/arrays/datetimes.py:1092: UserWarning: Converting to PeriodArray/Index representation will drop timezone information.\n",
            "  UserWarning,\n",
            "/usr/local/lib/python3.7/dist-packages/pandas/core/arrays/datetimes.py:1092: UserWarning: Converting to PeriodArray/Index representation will drop timezone information.\n",
            "  UserWarning,\n"
          ],
          "name": "stderr"
        }
      ]
    },
    {
      "cell_type": "code",
      "metadata": {
        "colab": {
          "base_uri": "https://localhost:8080/"
        },
        "id": "d17kSWjksjNt",
        "outputId": "2d89cb11-8fcd-4273-f2d0-392aa934f43c"
      },
      "source": [
        "axis = stockBuySell(fdf)"
      ],
      "execution_count": null,
      "outputs": [
        {
          "output_type": "stream",
          "text": [
            "Buy on day:  24 \t Sell on day:  31 \t Profit:  12.10003662109375\n",
            "Buy on day:  72 \t Sell on day:  75 \t Profit:  11.550048828125\n",
            "Buy on day:  199 \t Sell on day:  201 \t Profit:  8.70001220703125\n",
            "Buy on day:  224 \t Sell on day:  225 \t Profit:  16.75\n",
            "Buy on day:  297 \t Sell on day:  302 \t Profit:  11.75\n",
            "Buy on day:  319 \t Sell on day:  325 \t Profit:  21.60003662109375\n",
            "Buy on day:  339 \t Sell on day:  343 \t Profit:  7.949951171875\n",
            "Buy on day:  405 \t Sell on day:  411 \t Profit:  8.550048828125\n",
            "Buy on day:  450 \t Sell on day:  455 \t Profit:  8.4000244140625\n",
            "Buy on day:  663 \t Sell on day:  666 \t Profit:  7.550048828125\n",
            "Buy on day:  724 \t Sell on day:  728 \t Profit:  9.0\n",
            "Buy on day:  749 \t Sell on day:  751 \t Profit:  7.04998779296875\n",
            "Buy on day:  833 \t Sell on day:  842 \t Profit:  8.199951171875\n",
            "Buy on day:  849 \t Sell on day:  851 \t Profit:  7.25\n",
            "Buy on day:  898 \t Sell on day:  902 \t Profit:  7.699951171875\n",
            "Buy on day:  924 \t Sell on day:  926 \t Profit:  8.3499755859375\n",
            "Buy on day:  930 \t Sell on day:  935 \t Profit:  10.5\n",
            "Buy on day:  939 \t Sell on day:  945 \t Profit:  8.1500244140625\n"
          ],
          "name": "stdout"
        },
        {
          "output_type": "stream",
          "text": [
            "/usr/local/lib/python3.7/dist-packages/ipykernel_launcher.py:64: SettingWithCopyWarning: \n",
            "A value is trying to be set on a copy of a slice from a DataFrame\n",
            "\n",
            "See the caveats in the documentation: https://pandas.pydata.org/pandas-docs/stable/user_guide/indexing.html#returning-a-view-versus-a-copy\n",
            "/usr/local/lib/python3.7/dist-packages/ipykernel_launcher.py:65: SettingWithCopyWarning: \n",
            "A value is trying to be set on a copy of a slice from a DataFrame\n",
            "\n",
            "See the caveats in the documentation: https://pandas.pydata.org/pandas-docs/stable/user_guide/indexing.html#returning-a-view-versus-a-copy\n"
          ],
          "name": "stderr"
        }
      ]
    },
    {
      "cell_type": "code",
      "metadata": {
        "id": "faF3ZsP526QB"
      },
      "source": [
        "#  checking columns\n",
        "train_cols = axis.columns\n",
        "test_cols = trainp.columns\n",
        "\n",
        "common_cols = train_cols.intersection(test_cols)\n",
        "train_not_test = train_cols.difference(test_cols)"
      ],
      "execution_count": null,
      "outputs": []
    },
    {
      "cell_type": "code",
      "metadata": {
        "colab": {
          "base_uri": "https://localhost:8080/"
        },
        "id": "IUwhQXRC26KK",
        "outputId": "e0810380-3b85-491b-9d51-77b71e772784"
      },
      "source": [
        "train_not_test"
      ],
      "execution_count": null,
      "outputs": [
        {
          "output_type": "execute_result",
          "data": {
            "text/plain": [
              "Index(['HILOl_13_21', 'HILOs_13_21', 'PSARl_0.02_0.2', 'PSARs_0.02_0.2',\n",
              "       'QQEl_14_5_4.236', 'QQEs_14_5_4.236', 'SUPERTl_7_3.0', 'SUPERTs_7_3.0',\n",
              "       'adj_close', 'final_buy', 'high', 'low', 'open'],\n",
              "      dtype='object')"
            ]
          },
          "metadata": {
            "tags": []
          },
          "execution_count": 134
        }
      ]
    },
    {
      "cell_type": "code",
      "metadata": {
        "id": "d8Lb_Mpb2LjQ"
      },
      "source": [
        "# axis['final_buy'] = axis['final_buy'].map(mapping)\n",
        "axis = axis.drop(columns=['SUPERTs_7_3.0', 'QQEl_14_5_4.236', 'PSARl_0.02_0.2', 'PSARs_0.02_0.2',\n",
        "       'QQEs_14_5_4.236', 'SUPERTl_7_3.0', 'HILOl_13_21', 'HILOs_13_21','open', 'high', 'low','adj_close'])"
      ],
      "execution_count": null,
      "outputs": []
    },
    {
      "cell_type": "code",
      "metadata": {
        "colab": {
          "base_uri": "https://localhost:8080/"
        },
        "id": "krrNEMap3Txa",
        "outputId": "dbf09565-4e00-48ae-ad1b-cbdde96fe185"
      },
      "source": [
        "axis.isna().sum()"
      ],
      "execution_count": null,
      "outputs": [
        {
          "output_type": "execute_result",
          "data": {
            "text/plain": [
              "close            0\n",
              "volume           0\n",
              "AD               0\n",
              "ADOSC_3_10       9\n",
              "ABER_ZG_5_15     4\n",
              "                ..\n",
              "Z_30            29\n",
              "VIDYA_14        14\n",
              "VTXP_14         14\n",
              "VTXM_14         14\n",
              "final_buy        0\n",
              "Length: 186, dtype: int64"
            ]
          },
          "metadata": {
            "tags": []
          },
          "execution_count": 136
        }
      ]
    },
    {
      "cell_type": "code",
      "metadata": {
        "id": "a00nzf9t0_wL"
      },
      "source": [
        "axis = axis.dropna()\n",
        "# axis = axis.drop(corr_features,axis=1)"
      ],
      "execution_count": null,
      "outputs": []
    },
    {
      "cell_type": "code",
      "metadata": {
        "id": "a-PNsADssjLC"
      },
      "source": [
        "ax = axis.drop(['final_buy'],axis=1)\n",
        "ay = axis.final_buy"
      ],
      "execution_count": null,
      "outputs": []
    },
    {
      "cell_type": "code",
      "metadata": {
        "colab": {
          "base_uri": "https://localhost:8080/"
        },
        "id": "BCdUR70e1n88",
        "outputId": "8985f873-e5fc-405d-e7e4-6a6eef78a0d7"
      },
      "source": [
        "X_trainXG.shape"
      ],
      "execution_count": null,
      "outputs": [
        {
          "output_type": "execute_result",
          "data": {
            "text/plain": [
              "(48755, 185)"
            ]
          },
          "metadata": {
            "tags": []
          },
          "execution_count": 164
        }
      ]
    },
    {
      "cell_type": "code",
      "metadata": {
        "colab": {
          "base_uri": "https://localhost:8080/"
        },
        "id": "0vdpXq_31t2a",
        "outputId": "9c32b947-7fdf-4d3a-bf0b-ad537e4c4e58"
      },
      "source": [
        "len(ax.columns)"
      ],
      "execution_count": null,
      "outputs": [
        {
          "output_type": "execute_result",
          "data": {
            "text/plain": [
              "185"
            ]
          },
          "metadata": {
            "tags": []
          },
          "execution_count": 165
        }
      ]
    },
    {
      "cell_type": "code",
      "metadata": {
        "colab": {
          "base_uri": "https://localhost:8080/",
          "height": 640
        },
        "id": "eIM1Te764qoM",
        "outputId": "34759e89-fe97-4754-9a30-408c901fb947"
      },
      "source": [
        "ax"
      ],
      "execution_count": null,
      "outputs": [
        {
          "output_type": "execute_result",
          "data": {
            "text/html": [
              "<div>\n",
              "<style scoped>\n",
              "    .dataframe tbody tr th:only-of-type {\n",
              "        vertical-align: middle;\n",
              "    }\n",
              "\n",
              "    .dataframe tbody tr th {\n",
              "        vertical-align: top;\n",
              "    }\n",
              "\n",
              "    .dataframe thead th {\n",
              "        text-align: right;\n",
              "    }\n",
              "</style>\n",
              "<table border=\"1\" class=\"dataframe\">\n",
              "  <thead>\n",
              "    <tr style=\"text-align: right;\">\n",
              "      <th></th>\n",
              "      <th>close</th>\n",
              "      <th>volume</th>\n",
              "      <th>AD</th>\n",
              "      <th>ADOSC_3_10</th>\n",
              "      <th>ABER_ZG_5_15</th>\n",
              "      <th>ABER_SG_5_15</th>\n",
              "      <th>ABER_XG_5_15</th>\n",
              "      <th>ABER_ATR_5_15</th>\n",
              "      <th>ACCBL_20</th>\n",
              "      <th>ACCBM_20</th>\n",
              "      <th>ACCBU_20</th>\n",
              "      <th>AMATe_LR_2</th>\n",
              "      <th>AMATe_SR_2</th>\n",
              "      <th>AO_5_34</th>\n",
              "      <th>OBV</th>\n",
              "      <th>OBV_min_2</th>\n",
              "      <th>OBV_max_2</th>\n",
              "      <th>OBVe_4</th>\n",
              "      <th>OBVe_12</th>\n",
              "      <th>AOBV_LR_2</th>\n",
              "      <th>AOBV_SR_2</th>\n",
              "      <th>APO_12_26</th>\n",
              "      <th>ADX_14</th>\n",
              "      <th>DMP_14</th>\n",
              "      <th>DMN_14</th>\n",
              "      <th>ALMA_10_6.0_0.85</th>\n",
              "      <th>BBL_5_2.0</th>\n",
              "      <th>BBM_5_2.0</th>\n",
              "      <th>BBU_5_2.0</th>\n",
              "      <th>BBB_5_2.0</th>\n",
              "      <th>BIAS_SMA_26</th>\n",
              "      <th>BOP</th>\n",
              "      <th>AR_26</th>\n",
              "      <th>BR_26</th>\n",
              "      <th>CCI_14_0.015</th>\n",
              "      <th>CDL_DOJI_10_0.1</th>\n",
              "      <th>AROOND_14</th>\n",
              "      <th>AROONU_14</th>\n",
              "      <th>AROONOSC_14</th>\n",
              "      <th>ATRr_14</th>\n",
              "      <th>...</th>\n",
              "      <th>SQZ_ON</th>\n",
              "      <th>SQZ_OFF</th>\n",
              "      <th>SQZ_NO</th>\n",
              "      <th>SSF_10_2</th>\n",
              "      <th>STDEV_30</th>\n",
              "      <th>STOCHk_14_3_3</th>\n",
              "      <th>STOCHd_14_3_3</th>\n",
              "      <th>QQE_14_5_4.236</th>\n",
              "      <th>QQE_14_5_4.236_RSIMA</th>\n",
              "      <th>QS_10</th>\n",
              "      <th>SWMA_10</th>\n",
              "      <th>T3_10_0.7</th>\n",
              "      <th>STOCHRSIk_14_14_3_3</th>\n",
              "      <th>STOCHRSId_14_14_3_3</th>\n",
              "      <th>SUPERT_7_3.0</th>\n",
              "      <th>SUPERTd_7_3.0</th>\n",
              "      <th>TEMA_10</th>\n",
              "      <th>THERMO_20_2_0.5</th>\n",
              "      <th>THERMOma_20_2_0.5</th>\n",
              "      <th>THERMOl_20_2_0.5</th>\n",
              "      <th>THERMOs_20_2_0.5</th>\n",
              "      <th>TRIMA_10</th>\n",
              "      <th>TRIX_30_9</th>\n",
              "      <th>TRIXs_30_9</th>\n",
              "      <th>TTM_TRND_6</th>\n",
              "      <th>UI_14</th>\n",
              "      <th>UO_7_14_28</th>\n",
              "      <th>VAR_30</th>\n",
              "      <th>TRUERANGE_1</th>\n",
              "      <th>TSI_13_25</th>\n",
              "      <th>VWAP_D</th>\n",
              "      <th>VWMA_10</th>\n",
              "      <th>WCP</th>\n",
              "      <th>WILLR_14</th>\n",
              "      <th>WMA_10</th>\n",
              "      <th>ZL_EMA_10</th>\n",
              "      <th>Z_30</th>\n",
              "      <th>VIDYA_14</th>\n",
              "      <th>VTXP_14</th>\n",
              "      <th>VTXM_14</th>\n",
              "    </tr>\n",
              "    <tr>\n",
              "      <th>datetime</th>\n",
              "      <th></th>\n",
              "      <th></th>\n",
              "      <th></th>\n",
              "      <th></th>\n",
              "      <th></th>\n",
              "      <th></th>\n",
              "      <th></th>\n",
              "      <th></th>\n",
              "      <th></th>\n",
              "      <th></th>\n",
              "      <th></th>\n",
              "      <th></th>\n",
              "      <th></th>\n",
              "      <th></th>\n",
              "      <th></th>\n",
              "      <th></th>\n",
              "      <th></th>\n",
              "      <th></th>\n",
              "      <th></th>\n",
              "      <th></th>\n",
              "      <th></th>\n",
              "      <th></th>\n",
              "      <th></th>\n",
              "      <th></th>\n",
              "      <th></th>\n",
              "      <th></th>\n",
              "      <th></th>\n",
              "      <th></th>\n",
              "      <th></th>\n",
              "      <th></th>\n",
              "      <th></th>\n",
              "      <th></th>\n",
              "      <th></th>\n",
              "      <th></th>\n",
              "      <th></th>\n",
              "      <th></th>\n",
              "      <th></th>\n",
              "      <th></th>\n",
              "      <th></th>\n",
              "      <th></th>\n",
              "      <th></th>\n",
              "      <th></th>\n",
              "      <th></th>\n",
              "      <th></th>\n",
              "      <th></th>\n",
              "      <th></th>\n",
              "      <th></th>\n",
              "      <th></th>\n",
              "      <th></th>\n",
              "      <th></th>\n",
              "      <th></th>\n",
              "      <th></th>\n",
              "      <th></th>\n",
              "      <th></th>\n",
              "      <th></th>\n",
              "      <th></th>\n",
              "      <th></th>\n",
              "      <th></th>\n",
              "      <th></th>\n",
              "      <th></th>\n",
              "      <th></th>\n",
              "      <th></th>\n",
              "      <th></th>\n",
              "      <th></th>\n",
              "      <th></th>\n",
              "      <th></th>\n",
              "      <th></th>\n",
              "      <th></th>\n",
              "      <th></th>\n",
              "      <th></th>\n",
              "      <th></th>\n",
              "      <th></th>\n",
              "      <th></th>\n",
              "      <th></th>\n",
              "      <th></th>\n",
              "      <th></th>\n",
              "      <th></th>\n",
              "      <th></th>\n",
              "      <th></th>\n",
              "      <th></th>\n",
              "      <th></th>\n",
              "    </tr>\n",
              "  </thead>\n",
              "  <tbody>\n",
              "    <tr>\n",
              "      <th>2021-05-07 09:45:00+05:30</th>\n",
              "      <td>722.650024</td>\n",
              "      <td>248959</td>\n",
              "      <td>1.419363e+06</td>\n",
              "      <td>140859.579960</td>\n",
              "      <td>720.473336</td>\n",
              "      <td>723.984775</td>\n",
              "      <td>716.961897</td>\n",
              "      <td>3.511439</td>\n",
              "      <td>708.812955</td>\n",
              "      <td>716.042502</td>\n",
              "      <td>723.087949</td>\n",
              "      <td>1</td>\n",
              "      <td>0</td>\n",
              "      <td>4.815587</td>\n",
              "      <td>3748223.0</td>\n",
              "      <td>3748223.0</td>\n",
              "      <td>3997182.0</td>\n",
              "      <td>3.814248e+06</td>\n",
              "      <td>3.381485e+06</td>\n",
              "      <td>1</td>\n",
              "      <td>0</td>\n",
              "      <td>1.877570</td>\n",
              "      <td>17.069464</td>\n",
              "      <td>27.957319</td>\n",
              "      <td>10.203975</td>\n",
              "      <td>715.180390</td>\n",
              "      <td>711.827582</td>\n",
              "      <td>720.730017</td>\n",
              "      <td>729.632452</td>\n",
              "      <td>2.470394</td>\n",
              "      <td>0.009738</td>\n",
              "      <td>-0.403845</td>\n",
              "      <td>110.539816</td>\n",
              "      <td>126.086346</td>\n",
              "      <td>143.010770</td>\n",
              "      <td>0</td>\n",
              "      <td>71.428571</td>\n",
              "      <td>85.714286</td>\n",
              "      <td>14.285714</td>\n",
              "      <td>3.514255</td>\n",
              "      <td>...</td>\n",
              "      <td>0</td>\n",
              "      <td>1</td>\n",
              "      <td>0</td>\n",
              "      <td>722.088838</td>\n",
              "      <td>3.172356</td>\n",
              "      <td>79.655509</td>\n",
              "      <td>78.767483</td>\n",
              "      <td>57.273948</td>\n",
              "      <td>62.847699</td>\n",
              "      <td>0.050000</td>\n",
              "      <td>717.023336</td>\n",
              "      <td>716.828961</td>\n",
              "      <td>8.140357e+01</td>\n",
              "      <td>78.181491</td>\n",
              "      <td>712.330493</td>\n",
              "      <td>1</td>\n",
              "      <td>723.136271</td>\n",
              "      <td>1.200012</td>\n",
              "      <td>2.056727</td>\n",
              "      <td>1</td>\n",
              "      <td>1</td>\n",
              "      <td>716.738890</td>\n",
              "      <td>0.011673</td>\n",
              "      <td>0.009914</td>\n",
              "      <td>1</td>\n",
              "      <td>0.242642</td>\n",
              "      <td>57.723484</td>\n",
              "      <td>9.728384</td>\n",
              "      <td>2.599976</td>\n",
              "      <td>20.354765</td>\n",
              "      <td>723.901558</td>\n",
              "      <td>717.877825</td>\n",
              "      <td>723.075012</td>\n",
              "      <td>-28.965180</td>\n",
              "      <td>719.475465</td>\n",
              "      <td>723.091259</td>\n",
              "      <td>2.177674</td>\n",
              "      <td>595.599769</td>\n",
              "      <td>1.088795</td>\n",
              "      <td>0.839323</td>\n",
              "    </tr>\n",
              "    <tr>\n",
              "      <th>2021-05-07 10:00:00+05:30</th>\n",
              "      <td>723.650024</td>\n",
              "      <td>249005</td>\n",
              "      <td>1.552174e+06</td>\n",
              "      <td>145350.160938</td>\n",
              "      <td>722.180005</td>\n",
              "      <td>725.556769</td>\n",
              "      <td>718.803240</td>\n",
              "      <td>3.376765</td>\n",
              "      <td>709.337923</td>\n",
              "      <td>716.562503</td>\n",
              "      <td>723.575411</td>\n",
              "      <td>1</td>\n",
              "      <td>0</td>\n",
              "      <td>6.277061</td>\n",
              "      <td>3997228.0</td>\n",
              "      <td>3748223.0</td>\n",
              "      <td>3997228.0</td>\n",
              "      <td>3.887440e+06</td>\n",
              "      <td>3.476215e+06</td>\n",
              "      <td>1</td>\n",
              "      <td>0</td>\n",
              "      <td>2.283979</td>\n",
              "      <td>19.190367</td>\n",
              "      <td>27.065442</td>\n",
              "      <td>9.878454</td>\n",
              "      <td>715.056930</td>\n",
              "      <td>715.038577</td>\n",
              "      <td>722.280017</td>\n",
              "      <td>729.521457</td>\n",
              "      <td>2.005161</td>\n",
              "      <td>0.010709</td>\n",
              "      <td>0.666667</td>\n",
              "      <td>111.981813</td>\n",
              "      <td>127.993666</td>\n",
              "      <td>111.212721</td>\n",
              "      <td>0</td>\n",
              "      <td>64.285714</td>\n",
              "      <td>78.571429</td>\n",
              "      <td>14.285714</td>\n",
              "      <td>3.369966</td>\n",
              "      <td>...</td>\n",
              "      <td>0</td>\n",
              "      <td>1</td>\n",
              "      <td>0</td>\n",
              "      <td>723.140590</td>\n",
              "      <td>3.468217</td>\n",
              "      <td>75.632521</td>\n",
              "      <td>78.231741</td>\n",
              "      <td>58.226662</td>\n",
              "      <td>63.811082</td>\n",
              "      <td>0.315002</td>\n",
              "      <td>718.240007</td>\n",
              "      <td>717.690279</td>\n",
              "      <td>7.230832e+01</td>\n",
              "      <td>77.889801</td>\n",
              "      <td>712.980895</td>\n",
              "      <td>1</td>\n",
              "      <td>724.071345</td>\n",
              "      <td>0.799988</td>\n",
              "      <td>1.937038</td>\n",
              "      <td>1</td>\n",
              "      <td>0</td>\n",
              "      <td>717.722227</td>\n",
              "      <td>0.012626</td>\n",
              "      <td>0.010307</td>\n",
              "      <td>1</td>\n",
              "      <td>0.237257</td>\n",
              "      <td>61.324625</td>\n",
              "      <td>11.627577</td>\n",
              "      <td>1.500000</td>\n",
              "      <td>22.332263</td>\n",
              "      <td>723.830429</td>\n",
              "      <td>718.685868</td>\n",
              "      <td>723.450012</td>\n",
              "      <td>-22.068629</td>\n",
              "      <td>720.529105</td>\n",
              "      <td>724.574677</td>\n",
              "      <td>2.224493</td>\n",
              "      <td>602.192487</td>\n",
              "      <td>1.098501</td>\n",
              "      <td>0.854389</td>\n",
              "    </tr>\n",
              "    <tr>\n",
              "      <th>2021-05-07 10:15:00+05:30</th>\n",
              "      <td>721.849976</td>\n",
              "      <td>184794</td>\n",
              "      <td>1.414559e+06</td>\n",
              "      <td>90186.908639</td>\n",
              "      <td>723.410006</td>\n",
              "      <td>726.718046</td>\n",
              "      <td>720.101965</td>\n",
              "      <td>3.308041</td>\n",
              "      <td>709.865363</td>\n",
              "      <td>717.077502</td>\n",
              "      <td>724.065360</td>\n",
              "      <td>1</td>\n",
              "      <td>0</td>\n",
              "      <td>7.263387</td>\n",
              "      <td>3812434.0</td>\n",
              "      <td>3812434.0</td>\n",
              "      <td>3997228.0</td>\n",
              "      <td>3.857438e+06</td>\n",
              "      <td>3.527941e+06</td>\n",
              "      <td>1</td>\n",
              "      <td>0</td>\n",
              "      <td>2.466989</td>\n",
              "      <td>20.571035</td>\n",
              "      <td>25.683344</td>\n",
              "      <td>11.438153</td>\n",
              "      <td>715.263365</td>\n",
              "      <td>720.778783</td>\n",
              "      <td>723.440015</td>\n",
              "      <td>726.101247</td>\n",
              "      <td>0.735716</td>\n",
              "      <td>0.007883</td>\n",
              "      <td>-0.744669</td>\n",
              "      <td>102.804353</td>\n",
              "      <td>119.060427</td>\n",
              "      <td>75.368962</td>\n",
              "      <td>0</td>\n",
              "      <td>57.142857</td>\n",
              "      <td>71.428571</td>\n",
              "      <td>14.285714</td>\n",
              "      <td>3.296919</td>\n",
              "      <td>...</td>\n",
              "      <td>0</td>\n",
              "      <td>1</td>\n",
              "      <td>0</td>\n",
              "      <td>723.246336</td>\n",
              "      <td>3.614433</td>\n",
              "      <td>71.494477</td>\n",
              "      <td>75.594169</td>\n",
              "      <td>58.226662</td>\n",
              "      <td>62.765522</td>\n",
              "      <td>0.179999</td>\n",
              "      <td>719.640009</td>\n",
              "      <td>718.578490</td>\n",
              "      <td>6.327647e+01</td>\n",
              "      <td>72.329457</td>\n",
              "      <td>712.980895</td>\n",
              "      <td>1</td>\n",
              "      <td>723.767858</td>\n",
              "      <td>0.950012</td>\n",
              "      <td>1.843035</td>\n",
              "      <td>1</td>\n",
              "      <td>1</td>\n",
              "      <td>718.901396</td>\n",
              "      <td>0.013605</td>\n",
              "      <td>0.010790</td>\n",
              "      <td>-1</td>\n",
              "      <td>0.270921</td>\n",
              "      <td>59.111769</td>\n",
              "      <td>12.628658</td>\n",
              "      <td>2.350037</td>\n",
              "      <td>22.260933</td>\n",
              "      <td>723.701273</td>\n",
              "      <td>719.325254</td>\n",
              "      <td>722.287491</td>\n",
              "      <td>-34.482759</td>\n",
              "      <td>721.109099</td>\n",
              "      <td>723.433813</td>\n",
              "      <td>1.601443</td>\n",
              "      <td>605.528690</td>\n",
              "      <td>1.077434</td>\n",
              "      <td>0.893804</td>\n",
              "    </tr>\n",
              "    <tr>\n",
              "      <th>2021-05-07 10:30:00+05:30</th>\n",
              "      <td>720.200012</td>\n",
              "      <td>326482</td>\n",
              "      <td>1.140317e+06</td>\n",
              "      <td>-27837.406355</td>\n",
              "      <td>722.723340</td>\n",
              "      <td>725.977309</td>\n",
              "      <td>719.469371</td>\n",
              "      <td>3.253969</td>\n",
              "      <td>710.444935</td>\n",
              "      <td>717.425003</td>\n",
              "      <td>724.394932</td>\n",
              "      <td>1</td>\n",
              "      <td>0</td>\n",
              "      <td>6.549712</td>\n",
              "      <td>3485952.0</td>\n",
              "      <td>3485952.0</td>\n",
              "      <td>3812434.0</td>\n",
              "      <td>3.708843e+06</td>\n",
              "      <td>3.521481e+06</td>\n",
              "      <td>0</td>\n",
              "      <td>1</td>\n",
              "      <td>2.602248</td>\n",
              "      <td>20.965750</td>\n",
              "      <td>24.263888</td>\n",
              "      <td>14.232348</td>\n",
              "      <td>716.192484</td>\n",
              "      <td>719.513820</td>\n",
              "      <td>722.400012</td>\n",
              "      <td>725.286205</td>\n",
              "      <td>0.799057</td>\n",
              "      <td>0.005231</td>\n",
              "      <td>-0.519995</td>\n",
              "      <td>109.424905</td>\n",
              "      <td>124.925065</td>\n",
              "      <td>39.701591</td>\n",
              "      <td>0</td>\n",
              "      <td>50.000000</td>\n",
              "      <td>64.285714</td>\n",
              "      <td>14.285714</td>\n",
              "      <td>3.239855</td>\n",
              "      <td>...</td>\n",
              "      <td>0</td>\n",
              "      <td>1</td>\n",
              "      <td>0</td>\n",
              "      <td>722.518510</td>\n",
              "      <td>3.643056</td>\n",
              "      <td>65.862265</td>\n",
              "      <td>70.996421</td>\n",
              "      <td>58.226662</td>\n",
              "      <td>60.639378</td>\n",
              "      <td>0.104999</td>\n",
              "      <td>720.846678</td>\n",
              "      <td>719.388626</td>\n",
              "      <td>5.211737e+01</td>\n",
              "      <td>62.567387</td>\n",
              "      <td>712.980895</td>\n",
              "      <td>1</td>\n",
              "      <td>722.711924</td>\n",
              "      <td>1.549988</td>\n",
              "      <td>1.815126</td>\n",
              "      <td>1</td>\n",
              "      <td>1</td>\n",
              "      <td>720.183343</td>\n",
              "      <td>0.014527</td>\n",
              "      <td>0.011358</td>\n",
              "      <td>-1</td>\n",
              "      <td>0.326065</td>\n",
              "      <td>53.440174</td>\n",
              "      <td>12.829461</td>\n",
              "      <td>2.500000</td>\n",
              "      <td>20.778742</td>\n",
              "      <td>723.307984</td>\n",
              "      <td>719.852267</td>\n",
              "      <td>720.725006</td>\n",
              "      <td>-45.861816</td>\n",
              "      <td>721.272736</td>\n",
              "      <td>722.218575</td>\n",
              "      <td>1.070075</td>\n",
              "      <td>608.725873</td>\n",
              "      <td>1.023463</td>\n",
              "      <td>0.924022</td>\n",
              "    </tr>\n",
              "    <tr>\n",
              "      <th>2021-05-07 10:45:00+05:30</th>\n",
              "      <td>721.250000</td>\n",
              "      <td>317153</td>\n",
              "      <td>1.428645e+06</td>\n",
              "      <td>18151.099852</td>\n",
              "      <td>722.103337</td>\n",
              "      <td>725.286791</td>\n",
              "      <td>718.919882</td>\n",
              "      <td>3.183455</td>\n",
              "      <td>710.877319</td>\n",
              "      <td>717.845004</td>\n",
              "      <td>724.739807</td>\n",
              "      <td>0</td>\n",
              "      <td>1</td>\n",
              "      <td>5.681768</td>\n",
              "      <td>3803105.0</td>\n",
              "      <td>3485952.0</td>\n",
              "      <td>3803105.0</td>\n",
              "      <td>3.746548e+06</td>\n",
              "      <td>3.564808e+06</td>\n",
              "      <td>0</td>\n",
              "      <td>1</td>\n",
              "      <td>2.785581</td>\n",
              "      <td>20.879309</td>\n",
              "      <td>23.056276</td>\n",
              "      <td>15.446760</td>\n",
              "      <td>717.953163</td>\n",
              "      <td>719.285983</td>\n",
              "      <td>721.920007</td>\n",
              "      <td>724.554031</td>\n",
              "      <td>0.729727</td>\n",
              "      <td>0.006276</td>\n",
              "      <td>0.500000</td>\n",
              "      <td>112.704567</td>\n",
              "      <td>128.119390</td>\n",
              "      <td>28.690298</td>\n",
              "      <td>0</td>\n",
              "      <td>42.857143</td>\n",
              "      <td>57.142857</td>\n",
              "      <td>14.285714</td>\n",
              "      <td>3.165406</td>\n",
              "      <td>...</td>\n",
              "      <td>0</td>\n",
              "      <td>1</td>\n",
              "      <td>0</td>\n",
              "      <td>721.898018</td>\n",
              "      <td>3.750402</td>\n",
              "      <td>60.344968</td>\n",
              "      <td>65.900570</td>\n",
              "      <td>58.226662</td>\n",
              "      <td>59.893424</td>\n",
              "      <td>0.195001</td>\n",
              "      <td>721.623346</td>\n",
              "      <td>720.094994</td>\n",
              "      <td>4.163427e+01</td>\n",
              "      <td>52.342704</td>\n",
              "      <td>712.980895</td>\n",
              "      <td>1</td>\n",
              "      <td>722.398166</td>\n",
              "      <td>1.150024</td>\n",
              "      <td>1.751783</td>\n",
              "      <td>1</td>\n",
              "      <td>1</td>\n",
              "      <td>721.073622</td>\n",
              "      <td>0.015427</td>\n",
              "      <td>0.012017</td>\n",
              "      <td>-1</td>\n",
              "      <td>0.360135</td>\n",
              "      <td>56.553556</td>\n",
              "      <td>13.596661</td>\n",
              "      <td>2.199951</td>\n",
              "      <td>20.215297</td>\n",
              "      <td>722.980981</td>\n",
              "      <td>720.463900</td>\n",
              "      <td>720.750000</td>\n",
              "      <td>-38.620521</td>\n",
              "      <td>721.530917</td>\n",
              "      <td>721.787920</td>\n",
              "      <td>1.269642</td>\n",
              "      <td>611.456654</td>\n",
              "      <td>0.994369</td>\n",
              "      <td>0.950450</td>\n",
              "    </tr>\n",
              "    <tr>\n",
              "      <th>...</th>\n",
              "      <td>...</td>\n",
              "      <td>...</td>\n",
              "      <td>...</td>\n",
              "      <td>...</td>\n",
              "      <td>...</td>\n",
              "      <td>...</td>\n",
              "      <td>...</td>\n",
              "      <td>...</td>\n",
              "      <td>...</td>\n",
              "      <td>...</td>\n",
              "      <td>...</td>\n",
              "      <td>...</td>\n",
              "      <td>...</td>\n",
              "      <td>...</td>\n",
              "      <td>...</td>\n",
              "      <td>...</td>\n",
              "      <td>...</td>\n",
              "      <td>...</td>\n",
              "      <td>...</td>\n",
              "      <td>...</td>\n",
              "      <td>...</td>\n",
              "      <td>...</td>\n",
              "      <td>...</td>\n",
              "      <td>...</td>\n",
              "      <td>...</td>\n",
              "      <td>...</td>\n",
              "      <td>...</td>\n",
              "      <td>...</td>\n",
              "      <td>...</td>\n",
              "      <td>...</td>\n",
              "      <td>...</td>\n",
              "      <td>...</td>\n",
              "      <td>...</td>\n",
              "      <td>...</td>\n",
              "      <td>...</td>\n",
              "      <td>...</td>\n",
              "      <td>...</td>\n",
              "      <td>...</td>\n",
              "      <td>...</td>\n",
              "      <td>...</td>\n",
              "      <td>...</td>\n",
              "      <td>...</td>\n",
              "      <td>...</td>\n",
              "      <td>...</td>\n",
              "      <td>...</td>\n",
              "      <td>...</td>\n",
              "      <td>...</td>\n",
              "      <td>...</td>\n",
              "      <td>...</td>\n",
              "      <td>...</td>\n",
              "      <td>...</td>\n",
              "      <td>...</td>\n",
              "      <td>...</td>\n",
              "      <td>...</td>\n",
              "      <td>...</td>\n",
              "      <td>...</td>\n",
              "      <td>...</td>\n",
              "      <td>...</td>\n",
              "      <td>...</td>\n",
              "      <td>...</td>\n",
              "      <td>...</td>\n",
              "      <td>...</td>\n",
              "      <td>...</td>\n",
              "      <td>...</td>\n",
              "      <td>...</td>\n",
              "      <td>...</td>\n",
              "      <td>...</td>\n",
              "      <td>...</td>\n",
              "      <td>...</td>\n",
              "      <td>...</td>\n",
              "      <td>...</td>\n",
              "      <td>...</td>\n",
              "      <td>...</td>\n",
              "      <td>...</td>\n",
              "      <td>...</td>\n",
              "      <td>...</td>\n",
              "      <td>...</td>\n",
              "      <td>...</td>\n",
              "      <td>...</td>\n",
              "      <td>...</td>\n",
              "      <td>...</td>\n",
              "    </tr>\n",
              "    <tr>\n",
              "      <th>2021-06-30 14:00:00+05:30</th>\n",
              "      <td>752.700012</td>\n",
              "      <td>133333</td>\n",
              "      <td>1.581704e+07</td>\n",
              "      <td>-58044.036812</td>\n",
              "      <td>754.549996</td>\n",
              "      <td>757.037222</td>\n",
              "      <td>752.062770</td>\n",
              "      <td>2.487226</td>\n",
              "      <td>749.805060</td>\n",
              "      <td>756.002496</td>\n",
              "      <td>762.505072</td>\n",
              "      <td>0</td>\n",
              "      <td>1</td>\n",
              "      <td>-2.230005</td>\n",
              "      <td>23994950.0</td>\n",
              "      <td>23994950.0</td>\n",
              "      <td>24128283.0</td>\n",
              "      <td>2.408726e+07</td>\n",
              "      <td>2.418229e+07</td>\n",
              "      <td>0</td>\n",
              "      <td>1</td>\n",
              "      <td>0.318273</td>\n",
              "      <td>21.989463</td>\n",
              "      <td>13.973987</td>\n",
              "      <td>28.348375</td>\n",
              "      <td>757.034592</td>\n",
              "      <td>751.506459</td>\n",
              "      <td>754.259998</td>\n",
              "      <td>757.013536</td>\n",
              "      <td>0.730130</td>\n",
              "      <td>-0.003929</td>\n",
              "      <td>-0.608683</td>\n",
              "      <td>78.228185</td>\n",
              "      <td>79.720358</td>\n",
              "      <td>-165.767828</td>\n",
              "      <td>0</td>\n",
              "      <td>100.000000</td>\n",
              "      <td>14.285714</td>\n",
              "      <td>-85.714286</td>\n",
              "      <td>2.472447</td>\n",
              "      <td>...</td>\n",
              "      <td>0</td>\n",
              "      <td>1</td>\n",
              "      <td>0</td>\n",
              "      <td>753.866995</td>\n",
              "      <td>2.475602</td>\n",
              "      <td>13.762089</td>\n",
              "      <td>16.516931</td>\n",
              "      <td>48.222738</td>\n",
              "      <td>42.008784</td>\n",
              "      <td>-0.289996</td>\n",
              "      <td>756.104997</td>\n",
              "      <td>756.336446</td>\n",
              "      <td>5.660923e+00</td>\n",
              "      <td>7.112700</td>\n",
              "      <td>759.953011</td>\n",
              "      <td>-1</td>\n",
              "      <td>753.337442</td>\n",
              "      <td>0.700012</td>\n",
              "      <td>1.366951</td>\n",
              "      <td>1</td>\n",
              "      <td>1</td>\n",
              "      <td>756.270830</td>\n",
              "      <td>-0.004552</td>\n",
              "      <td>-0.002294</td>\n",
              "      <td>-1</td>\n",
              "      <td>0.479280</td>\n",
              "      <td>42.576314</td>\n",
              "      <td>5.924316</td>\n",
              "      <td>2.350037</td>\n",
              "      <td>-11.181607</td>\n",
              "      <td>755.995667</td>\n",
              "      <td>755.784386</td>\n",
              "      <td>752.824997</td>\n",
              "      <td>-89.595123</td>\n",
              "      <td>754.982727</td>\n",
              "      <td>753.268787</td>\n",
              "      <td>-1.396287</td>\n",
              "      <td>756.925752</td>\n",
              "      <td>0.858765</td>\n",
              "      <td>1.108765</td>\n",
              "    </tr>\n",
              "    <tr>\n",
              "      <th>2021-06-30 14:15:00+05:30</th>\n",
              "      <td>750.599976</td>\n",
              "      <td>180390</td>\n",
              "      <td>1.568011e+07</td>\n",
              "      <td>-94011.868386</td>\n",
              "      <td>753.513326</td>\n",
              "      <td>756.111405</td>\n",
              "      <td>750.915247</td>\n",
              "      <td>2.598079</td>\n",
              "      <td>749.893734</td>\n",
              "      <td>755.879996</td>\n",
              "      <td>762.106259</td>\n",
              "      <td>0</td>\n",
              "      <td>1</td>\n",
              "      <td>-2.937654</td>\n",
              "      <td>23814560.0</td>\n",
              "      <td>23814560.0</td>\n",
              "      <td>23994950.0</td>\n",
              "      <td>2.397818e+07</td>\n",
              "      <td>2.412572e+07</td>\n",
              "      <td>0</td>\n",
              "      <td>1</td>\n",
              "      <td>-0.034614</td>\n",
              "      <td>23.368780</td>\n",
              "      <td>12.376041</td>\n",
              "      <td>29.790979</td>\n",
              "      <td>756.969069</td>\n",
              "      <td>749.869154</td>\n",
              "      <td>753.129993</td>\n",
              "      <td>756.390831</td>\n",
              "      <td>0.865943</td>\n",
              "      <td>-0.006367</td>\n",
              "      <td>-0.506030</td>\n",
              "      <td>84.836793</td>\n",
              "      <td>86.430374</td>\n",
              "      <td>-161.381436</td>\n",
              "      <td>0</td>\n",
              "      <td>100.000000</td>\n",
              "      <td>7.142857</td>\n",
              "      <td>-92.857143</td>\n",
              "      <td>2.592274</td>\n",
              "      <td>...</td>\n",
              "      <td>0</td>\n",
              "      <td>1</td>\n",
              "      <td>0</td>\n",
              "      <td>752.704568</td>\n",
              "      <td>2.650898</td>\n",
              "      <td>11.996923</td>\n",
              "      <td>12.671151</td>\n",
              "      <td>45.705318</td>\n",
              "      <td>39.464408</td>\n",
              "      <td>-0.670001</td>\n",
              "      <td>755.409996</td>\n",
              "      <td>755.927358</td>\n",
              "      <td>5.660923e+00</td>\n",
              "      <td>5.660923</td>\n",
              "      <td>759.953011</td>\n",
              "      <td>-1</td>\n",
              "      <td>751.774257</td>\n",
              "      <td>1.700012</td>\n",
              "      <td>1.398671</td>\n",
              "      <td>1</td>\n",
              "      <td>1</td>\n",
              "      <td>755.695830</td>\n",
              "      <td>-0.005308</td>\n",
              "      <td>-0.002881</td>\n",
              "      <td>-1</td>\n",
              "      <td>0.572532</td>\n",
              "      <td>34.672992</td>\n",
              "      <td>6.793020</td>\n",
              "      <td>4.150024</td>\n",
              "      <td>-14.381396</td>\n",
              "      <td>755.753721</td>\n",
              "      <td>755.071751</td>\n",
              "      <td>751.387482</td>\n",
              "      <td>-95.169099</td>\n",
              "      <td>754.040905</td>\n",
              "      <td>752.010821</td>\n",
              "      <td>-2.004359</td>\n",
              "      <td>756.526481</td>\n",
              "      <td>0.791665</td>\n",
              "      <td>1.155862</td>\n",
              "    </tr>\n",
              "    <tr>\n",
              "      <th>2021-06-30 14:30:00+05:30</th>\n",
              "      <td>750.049988</td>\n",
              "      <td>211006</td>\n",
              "      <td>1.557731e+07</td>\n",
              "      <td>-132888.052621</td>\n",
              "      <td>752.496659</td>\n",
              "      <td>755.051534</td>\n",
              "      <td>749.941785</td>\n",
              "      <td>2.554875</td>\n",
              "      <td>750.015478</td>\n",
              "      <td>755.802496</td>\n",
              "      <td>761.740500</td>\n",
              "      <td>0</td>\n",
              "      <td>1</td>\n",
              "      <td>-3.659861</td>\n",
              "      <td>23603554.0</td>\n",
              "      <td>23603554.0</td>\n",
              "      <td>23814560.0</td>\n",
              "      <td>2.382833e+07</td>\n",
              "      <td>2.404539e+07</td>\n",
              "      <td>0</td>\n",
              "      <td>1</td>\n",
              "      <td>-0.271472</td>\n",
              "      <td>24.805808</td>\n",
              "      <td>11.699079</td>\n",
              "      <td>29.704190</td>\n",
              "      <td>756.943312</td>\n",
              "      <td>748.626948</td>\n",
              "      <td>752.169995</td>\n",
              "      <td>755.713042</td>\n",
              "      <td>0.942087</td>\n",
              "      <td>-0.006744</td>\n",
              "      <td>-0.333344</td>\n",
              "      <td>85.584606</td>\n",
              "      <td>88.406664</td>\n",
              "      <td>-161.666153</td>\n",
              "      <td>0</td>\n",
              "      <td>100.000000</td>\n",
              "      <td>0.000000</td>\n",
              "      <td>-100.000000</td>\n",
              "      <td>2.546398</td>\n",
              "      <td>...</td>\n",
              "      <td>0</td>\n",
              "      <td>1</td>\n",
              "      <td>0</td>\n",
              "      <td>751.554405</td>\n",
              "      <td>2.713261</td>\n",
              "      <td>6.753632</td>\n",
              "      <td>10.837548</td>\n",
              "      <td>43.693089</td>\n",
              "      <td>37.416518</td>\n",
              "      <td>-0.620001</td>\n",
              "      <td>754.604995</td>\n",
              "      <td>755.381033</td>\n",
              "      <td>8.171241e-14</td>\n",
              "      <td>3.773949</td>\n",
              "      <td>758.030295</td>\n",
              "      <td>-1</td>\n",
              "      <td>750.540911</td>\n",
              "      <td>2.750000</td>\n",
              "      <td>1.527369</td>\n",
              "      <td>1</td>\n",
              "      <td>1</td>\n",
              "      <td>754.944439</td>\n",
              "      <td>-0.006166</td>\n",
              "      <td>-0.003488</td>\n",
              "      <td>-1</td>\n",
              "      <td>0.640566</td>\n",
              "      <td>31.956141</td>\n",
              "      <td>7.116390</td>\n",
              "      <td>1.950012</td>\n",
              "      <td>-17.303892</td>\n",
              "      <td>755.424343</td>\n",
              "      <td>754.424238</td>\n",
              "      <td>750.287491</td>\n",
              "      <td>-94.974881</td>\n",
              "      <td>753.129085</td>\n",
              "      <td>751.054308</td>\n",
              "      <td>-2.032612</td>\n",
              "      <td>756.071867</td>\n",
              "      <td>0.711245</td>\n",
              "      <td>1.270515</td>\n",
              "    </tr>\n",
              "    <tr>\n",
              "      <th>2021-06-30 14:45:00+05:30</th>\n",
              "      <td>750.400024</td>\n",
              "      <td>175266</td>\n",
              "      <td>1.554879e+07</td>\n",
              "      <td>-145788.737829</td>\n",
              "      <td>751.813330</td>\n",
              "      <td>754.341215</td>\n",
              "      <td>749.285445</td>\n",
              "      <td>2.527885</td>\n",
              "      <td>750.089849</td>\n",
              "      <td>755.577496</td>\n",
              "      <td>761.414877</td>\n",
              "      <td>0</td>\n",
              "      <td>1</td>\n",
              "      <td>-4.052360</td>\n",
              "      <td>23778820.0</td>\n",
              "      <td>23603554.0</td>\n",
              "      <td>23778820.0</td>\n",
              "      <td>2.380853e+07</td>\n",
              "      <td>2.400438e+07</td>\n",
              "      <td>0</td>\n",
              "      <td>1</td>\n",
              "      <td>-0.724356</td>\n",
              "      <td>26.029219</td>\n",
              "      <td>11.411137</td>\n",
              "      <td>27.892589</td>\n",
              "      <td>756.502883</td>\n",
              "      <td>748.036958</td>\n",
              "      <td>751.580005</td>\n",
              "      <td>755.123052</td>\n",
              "      <td>0.942826</td>\n",
              "      <td>-0.006070</td>\n",
              "      <td>0.348833</td>\n",
              "      <td>101.304381</td>\n",
              "      <td>102.035990</td>\n",
              "      <td>-125.497400</td>\n",
              "      <td>0</td>\n",
              "      <td>100.000000</td>\n",
              "      <td>0.000000</td>\n",
              "      <td>-100.000000</td>\n",
              "      <td>2.518086</td>\n",
              "      <td>...</td>\n",
              "      <td>0</td>\n",
              "      <td>1</td>\n",
              "      <td>0</td>\n",
              "      <td>750.789128</td>\n",
              "      <td>2.696159</td>\n",
              "      <td>6.546294</td>\n",
              "      <td>8.432283</td>\n",
              "      <td>42.804034</td>\n",
              "      <td>36.509129</td>\n",
              "      <td>-0.535004</td>\n",
              "      <td>753.758329</td>\n",
              "      <td>754.741018</td>\n",
              "      <td>2.416326e+00</td>\n",
              "      <td>2.692416</td>\n",
              "      <td>757.929566</td>\n",
              "      <td>-1</td>\n",
              "      <td>749.951900</td>\n",
              "      <td>0.150024</td>\n",
              "      <td>1.396193</td>\n",
              "      <td>1</td>\n",
              "      <td>0</td>\n",
              "      <td>754.149996</td>\n",
              "      <td>-0.007084</td>\n",
              "      <td>-0.004130</td>\n",
              "      <td>-1</td>\n",
              "      <td>0.694943</td>\n",
              "      <td>34.002676</td>\n",
              "      <td>7.026967</td>\n",
              "      <td>2.150024</td>\n",
              "      <td>-19.291169</td>\n",
              "      <td>755.187148</td>\n",
              "      <td>753.825384</td>\n",
              "      <td>750.487518</td>\n",
              "      <td>-90.217139</td>\n",
              "      <td>752.399090</td>\n",
              "      <td>750.253530</td>\n",
              "      <td>-1.788953</td>\n",
              "      <td>755.730996</td>\n",
              "      <td>0.763358</td>\n",
              "      <td>1.238165</td>\n",
              "    </tr>\n",
              "    <tr>\n",
              "      <th>2021-06-30 15:00:00+05:30</th>\n",
              "      <td>747.200012</td>\n",
              "      <td>660110</td>\n",
              "      <td>1.494221e+07</td>\n",
              "      <td>-330815.188789</td>\n",
              "      <td>750.746663</td>\n",
              "      <td>753.352690</td>\n",
              "      <td>748.140637</td>\n",
              "      <td>2.606026</td>\n",
              "      <td>749.582829</td>\n",
              "      <td>755.097498</td>\n",
              "      <td>761.195363</td>\n",
              "      <td>0</td>\n",
              "      <td>1</td>\n",
              "      <td>-4.585300</td>\n",
              "      <td>23118710.0</td>\n",
              "      <td>23118710.0</td>\n",
              "      <td>23778820.0</td>\n",
              "      <td>2.353260e+07</td>\n",
              "      <td>2.386812e+07</td>\n",
              "      <td>0</td>\n",
              "      <td>1</td>\n",
              "      <td>-1.247753</td>\n",
              "      <td>27.828706</td>\n",
              "      <td>10.252328</td>\n",
              "      <td>31.784391</td>\n",
              "      <td>755.501029</td>\n",
              "      <td>746.256558</td>\n",
              "      <td>750.190002</td>\n",
              "      <td>754.123446</td>\n",
              "      <td>1.048653</td>\n",
              "      <td>-0.009973</td>\n",
              "      <td>-0.959453</td>\n",
              "      <td>97.062976</td>\n",
              "      <td>100.000866</td>\n",
              "      <td>-149.474801</td>\n",
              "      <td>0</td>\n",
              "      <td>100.000000</td>\n",
              "      <td>7.142857</td>\n",
              "      <td>-92.857143</td>\n",
              "      <td>2.602509</td>\n",
              "      <td>...</td>\n",
              "      <td>0</td>\n",
              "      <td>1</td>\n",
              "      <td>0</td>\n",
              "      <td>749.565669</td>\n",
              "      <td>3.005465</td>\n",
              "      <td>5.365247</td>\n",
              "      <td>6.221724</td>\n",
              "      <td>40.288017</td>\n",
              "      <td>33.954201</td>\n",
              "      <td>-1.009998</td>\n",
              "      <td>752.781665</td>\n",
              "      <td>753.979128</td>\n",
              "      <td>2.416326e+00</td>\n",
              "      <td>1.610884</td>\n",
              "      <td>756.789617</td>\n",
              "      <td>-1</td>\n",
              "      <td>748.194673</td>\n",
              "      <td>2.450012</td>\n",
              "      <td>1.496557</td>\n",
              "      <td>1</td>\n",
              "      <td>1</td>\n",
              "      <td>753.273609</td>\n",
              "      <td>-0.008151</td>\n",
              "      <td>-0.004836</td>\n",
              "      <td>-1</td>\n",
              "      <td>0.786750</td>\n",
              "      <td>31.434479</td>\n",
              "      <td>8.731726</td>\n",
              "      <td>3.700012</td>\n",
              "      <td>-23.059542</td>\n",
              "      <td>754.131662</td>\n",
              "      <td>752.787875</td>\n",
              "      <td>748.050003</td>\n",
              "      <td>-98.712239</td>\n",
              "      <td>751.196366</td>\n",
              "      <td>748.698345</td>\n",
              "      <td>-2.547021</td>\n",
              "      <td>755.171698</td>\n",
              "      <td>0.744151</td>\n",
              "      <td>1.210524</td>\n",
              "    </tr>\n",
              "  </tbody>\n",
              "</table>\n",
              "<p>947 rows × 185 columns</p>\n",
              "</div>"
            ],
            "text/plain": [
              "                                close  volume  ...   VTXP_14   VTXM_14\n",
              "datetime                                       ...                    \n",
              "2021-05-07 09:45:00+05:30  722.650024  248959  ...  1.088795  0.839323\n",
              "2021-05-07 10:00:00+05:30  723.650024  249005  ...  1.098501  0.854389\n",
              "2021-05-07 10:15:00+05:30  721.849976  184794  ...  1.077434  0.893804\n",
              "2021-05-07 10:30:00+05:30  720.200012  326482  ...  1.023463  0.924022\n",
              "2021-05-07 10:45:00+05:30  721.250000  317153  ...  0.994369  0.950450\n",
              "...                               ...     ...  ...       ...       ...\n",
              "2021-06-30 14:00:00+05:30  752.700012  133333  ...  0.858765  1.108765\n",
              "2021-06-30 14:15:00+05:30  750.599976  180390  ...  0.791665  1.155862\n",
              "2021-06-30 14:30:00+05:30  750.049988  211006  ...  0.711245  1.270515\n",
              "2021-06-30 14:45:00+05:30  750.400024  175266  ...  0.763358  1.238165\n",
              "2021-06-30 15:00:00+05:30  747.200012  660110  ...  0.744151  1.210524\n",
              "\n",
              "[947 rows x 185 columns]"
            ]
          },
          "metadata": {
            "tags": []
          },
          "execution_count": 166
        }
      ]
    },
    {
      "cell_type": "code",
      "metadata": {
        "colab": {
          "base_uri": "https://localhost:8080/"
        },
        "id": "CcsUPACs4mQJ",
        "outputId": "463f8584-4c82-4f0f-a8e2-b570adc5357c"
      },
      "source": [
        "ax.values.shape"
      ],
      "execution_count": null,
      "outputs": [
        {
          "output_type": "execute_result",
          "data": {
            "text/plain": [
              "(947, 185)"
            ]
          },
          "metadata": {
            "tags": []
          },
          "execution_count": 167
        }
      ]
    },
    {
      "cell_type": "code",
      "metadata": {
        "colab": {
          "base_uri": "https://localhost:8080/"
        },
        "id": "mCGw9qq3sjHL",
        "outputId": "cd884e01-053d-4128-d064-201a18e0c289"
      },
      "source": [
        "# Predicting the Test set results\n",
        "y_pred = my_model.predict(ax.values)\n",
        "target_names = ['class 0', 'class 1', 'class 2']\n",
        "print(classification_report(y_pred, ay, target_names=target_names))"
      ],
      "execution_count": null,
      "outputs": [
        {
          "output_type": "stream",
          "text": [
            "              precision    recall  f1-score   support\n",
            "\n",
            "     class 0       0.62      0.42      0.50        24\n",
            "     class 1       0.93      0.99      0.96       865\n",
            "     class 2       0.75      0.21      0.32        58\n",
            "\n",
            "    accuracy                           0.93       947\n",
            "   macro avg       0.77      0.54      0.59       947\n",
            "weighted avg       0.92      0.93      0.91       947\n",
            "\n"
          ],
          "name": "stdout"
        }
      ]
    },
    {
      "cell_type": "markdown",
      "metadata": {
        "id": "xIKArCFU6haB"
      },
      "source": [
        "## Time series"
      ]
    },
    {
      "cell_type": "code",
      "metadata": {
        "id": "NqzxYXcF8MyX"
      },
      "source": [
        "import keras\n",
        "from keras.models import Sequential\n",
        "from keras.layers import Dense\n",
        "from keras.layers import Flatten\n",
        "from keras.layers import Dropout\n",
        "from keras.layers import LSTM\n",
        "from tensorflow.keras.utils import to_categorical"
      ],
      "execution_count": null,
      "outputs": []
    },
    {
      "cell_type": "markdown",
      "metadata": {
        "id": "LnsuVBD_8Vy4"
      },
      "source": [
        "* Samples. One sequence is one sample. A batch is comprised of one or more samples.\n",
        "* Time Steps. One time step is one point of observation in the sample.\n",
        "* Features. One feature is one observation at a time step."
      ]
    },
    {
      "cell_type": "code",
      "metadata": {
        "id": "PY2HwCMN28Sr"
      },
      "source": [
        "from sklearn.preprocessing import StandardScaler\n",
        "scaler = StandardScaler(copy=True, with_mean=True, with_std=True)\n",
        "scaler.fit(trainp)\n",
        "scale_data = scaler.fit_transform(trainp)"
      ],
      "execution_count": null,
      "outputs": []
    },
    {
      "cell_type": "code",
      "metadata": {
        "id": "tvw9V6Ojy4Gj"
      },
      "source": [
        "from sklearn.model_selection import train_test_split\n",
        "X_trainXG, X_testXG, y_trainXG, y_testXG = train_test_split(scale_data,og_target, test_size = 0.3, random_state = 0)"
      ],
      "execution_count": null,
      "outputs": []
    },
    {
      "cell_type": "code",
      "metadata": {
        "id": "f01PUkCty7-H"
      },
      "source": [
        "from sklearn import preprocessing\n",
        "label_encoder = preprocessing.LabelEncoder()\n",
        "y_trainXG= label_encoder.fit_transform(y_trainXG)\n",
        "X_trainXG = np.expand_dims(X_trainXG, axis=1)"
      ],
      "execution_count": null,
      "outputs": []
    },
    {
      "cell_type": "code",
      "metadata": {
        "id": "z9ufS9b10h6I"
      },
      "source": [
        "y_trainXG = to_categorical(y_trainXG)"
      ],
      "execution_count": null,
      "outputs": []
    },
    {
      "cell_type": "code",
      "metadata": {
        "id": "zbHOUP3Qyzer"
      },
      "source": [
        "X_trainXG=np.asarray(X_trainXG).astype(np.float32)\n",
        "y_trainXG=np.asarray(y_trainXG).astype(np.float32)"
      ],
      "execution_count": null,
      "outputs": []
    },
    {
      "cell_type": "code",
      "metadata": {
        "id": "ceBHaQ1Jyrvb"
      },
      "source": [
        "from sklearn import preprocessing\n",
        "label_encoder = preprocessing.LabelEncoder()\n",
        "y_testXG= label_encoder.fit_transform(y_testXG)\n",
        "X_testXG = np.expand_dims(X_testXG, axis=1)\n",
        "y_testXG = to_categorical(y_testXG)\n",
        "X_testXG=np.asarray(X_testXG).astype(np.float32)\n",
        "y_testXG=np.asarray(y_testXG).astype(np.float32)"
      ],
      "execution_count": null,
      "outputs": []
    },
    {
      "cell_type": "code",
      "metadata": {
        "id": "HastFVy3pIVv"
      },
      "source": [
        "# model = Sequential()\n",
        "# model.add(LSTM(100, input_shape=(24672, 185)))\n",
        "# model.add(Dropout(0.5))\n",
        "# model.add(Dense(100, activation='relu'))\n",
        "# model.add(Dense(n_outputs, activation='softmax'))\n",
        "# model.compile(loss='categorical_crossentropy', optimizer='adam', metrics=['accuracy'])"
      ],
      "execution_count": null,
      "outputs": []
    },
    {
      "cell_type": "code",
      "metadata": {
        "id": "SvwtsaNF3zRh"
      },
      "source": [
        "def f1_m(y_true, y_pred):\n",
        "    precision = precision_m(y_true, y_pred)\n",
        "    recall = recall_m(y_true, y_pred)\n",
        "    return 2*((precision*recall)/(precision+recall+K.epsilon()))"
      ],
      "execution_count": null,
      "outputs": []
    },
    {
      "cell_type": "code",
      "metadata": {
        "id": "LJiXGugr0UjS"
      },
      "source": [
        "# model = Sequential()\n",
        "# model.add(LSTM(1024, input_shape=(None,185), return_sequences=True))\n",
        "# model.add(LSTM(512, return_sequences=True,dropout=0.2))\n",
        "# model.add(LSTM(256, return_sequences=True,dropout=0.2))\n",
        "# model.add(LSTM(128, return_sequences=False))\n",
        "# # model.add(LSTM(128,dropout=0.2))\n",
        "# model.add(Dense(3, activation='softmax'))\n",
        "# model.compile(loss='categorical_crossentropy',optimizer='adam',metrics=['accuracy',f1_m])"
      ],
      "execution_count": null,
      "outputs": []
    },
    {
      "cell_type": "code",
      "metadata": {
        "colab": {
          "base_uri": "https://localhost:8080/"
        },
        "id": "FhhVL5SwvVGL",
        "outputId": "88aca1ba-6c49-46ab-90c9-1ec3b0bf06f7"
      },
      "source": [
        "model.fit(X_trainXG,y_trainXG,epochs=100,validation_data=(X_testXG,y_testXG))"
      ],
      "execution_count": null,
      "outputs": [
        {
          "output_type": "stream",
          "text": [
            "Epoch 1/100\n",
            "540/540 [==============================] - 6s 11ms/step - loss: 0.1985 - accuracy: 0.9510 - val_loss: 0.1556 - val_accuracy: 0.9554\n",
            "Epoch 2/100\n",
            "540/540 [==============================] - 6s 10ms/step - loss: 0.1618 - accuracy: 0.9520 - val_loss: 0.1515 - val_accuracy: 0.9572\n",
            "Epoch 3/100\n",
            "540/540 [==============================] - 6s 11ms/step - loss: 0.1515 - accuracy: 0.9519 - val_loss: 0.1346 - val_accuracy: 0.9573\n",
            "Epoch 4/100\n",
            "540/540 [==============================] - 6s 11ms/step - loss: 0.1383 - accuracy: 0.9516 - val_loss: 0.1383 - val_accuracy: 0.9565\n",
            "Epoch 5/100\n",
            "540/540 [==============================] - 6s 11ms/step - loss: 0.1331 - accuracy: 0.9519 - val_loss: 0.1183 - val_accuracy: 0.9568\n",
            "Epoch 6/100\n",
            "540/540 [==============================] - 6s 11ms/step - loss: 0.1245 - accuracy: 0.9520 - val_loss: 0.1261 - val_accuracy: 0.9554\n",
            "Epoch 7/100\n",
            "540/540 [==============================] - 6s 11ms/step - loss: 0.1175 - accuracy: 0.9525 - val_loss: 0.1223 - val_accuracy: 0.9557\n",
            "Epoch 8/100\n",
            "540/540 [==============================] - 6s 11ms/step - loss: 0.1129 - accuracy: 0.9532 - val_loss: 0.1096 - val_accuracy: 0.9569\n",
            "Epoch 9/100\n",
            "540/540 [==============================] - 6s 11ms/step - loss: 0.1055 - accuracy: 0.9552 - val_loss: 0.1136 - val_accuracy: 0.9543\n",
            "Epoch 10/100\n",
            "540/540 [==============================] - 6s 11ms/step - loss: 0.1050 - accuracy: 0.9556 - val_loss: 0.1286 - val_accuracy: 0.9511\n",
            "Epoch 11/100\n",
            "540/540 [==============================] - 6s 11ms/step - loss: 0.1033 - accuracy: 0.9553 - val_loss: 0.1166 - val_accuracy: 0.9527\n",
            "Epoch 12/100\n",
            "540/540 [==============================] - 6s 11ms/step - loss: 0.0991 - accuracy: 0.9574 - val_loss: 0.1123 - val_accuracy: 0.9558\n",
            "Epoch 13/100\n",
            "540/540 [==============================] - 6s 11ms/step - loss: 0.0964 - accuracy: 0.9589 - val_loss: 0.1143 - val_accuracy: 0.9511\n",
            "Epoch 14/100\n",
            "540/540 [==============================] - 6s 11ms/step - loss: 0.0947 - accuracy: 0.9586 - val_loss: 0.1138 - val_accuracy: 0.9531\n",
            "Epoch 15/100\n",
            "540/540 [==============================] - 6s 11ms/step - loss: 0.0925 - accuracy: 0.9602 - val_loss: 0.1126 - val_accuracy: 0.9564\n",
            "Epoch 16/100\n",
            "540/540 [==============================] - 6s 11ms/step - loss: 0.0885 - accuracy: 0.9605 - val_loss: 0.1182 - val_accuracy: 0.9483\n",
            "Epoch 17/100\n",
            "540/540 [==============================] - 6s 11ms/step - loss: 0.0863 - accuracy: 0.9609 - val_loss: 0.1128 - val_accuracy: 0.9558\n",
            "Epoch 18/100\n",
            "540/540 [==============================] - 6s 11ms/step - loss: 0.0828 - accuracy: 0.9626 - val_loss: 0.1180 - val_accuracy: 0.9554\n",
            "Epoch 19/100\n",
            "540/540 [==============================] - 6s 11ms/step - loss: 0.0844 - accuracy: 0.9625 - val_loss: 0.1165 - val_accuracy: 0.9542\n",
            "Epoch 20/100\n",
            "540/540 [==============================] - 6s 11ms/step - loss: 0.0806 - accuracy: 0.9651 - val_loss: 0.1277 - val_accuracy: 0.9530\n",
            "Epoch 21/100\n",
            "540/540 [==============================] - 6s 11ms/step - loss: 0.0778 - accuracy: 0.9661 - val_loss: 0.1180 - val_accuracy: 0.9549\n",
            "Epoch 22/100\n",
            "540/540 [==============================] - 6s 11ms/step - loss: 0.0740 - accuracy: 0.9661 - val_loss: 0.1260 - val_accuracy: 0.9529\n",
            "Epoch 23/100\n",
            "540/540 [==============================] - 6s 11ms/step - loss: 0.0750 - accuracy: 0.9676 - val_loss: 0.1237 - val_accuracy: 0.9534\n",
            "Epoch 24/100\n",
            "540/540 [==============================] - 6s 11ms/step - loss: 0.0726 - accuracy: 0.9674 - val_loss: 0.1274 - val_accuracy: 0.9537\n",
            "Epoch 25/100\n",
            "540/540 [==============================] - 6s 11ms/step - loss: 0.0705 - accuracy: 0.9682 - val_loss: 0.1365 - val_accuracy: 0.9524\n",
            "Epoch 26/100\n",
            "540/540 [==============================] - 6s 11ms/step - loss: 0.0719 - accuracy: 0.9684 - val_loss: 0.1307 - val_accuracy: 0.9557\n",
            "Epoch 27/100\n",
            "540/540 [==============================] - 6s 11ms/step - loss: 0.0674 - accuracy: 0.9703 - val_loss: 0.1323 - val_accuracy: 0.9564\n",
            "Epoch 28/100\n",
            "540/540 [==============================] - 6s 11ms/step - loss: 0.0674 - accuracy: 0.9700 - val_loss: 0.1316 - val_accuracy: 0.9524\n",
            "Epoch 29/100\n",
            "540/540 [==============================] - 6s 11ms/step - loss: 0.0619 - accuracy: 0.9733 - val_loss: 0.1353 - val_accuracy: 0.9524\n",
            "Epoch 30/100\n",
            "540/540 [==============================] - 6s 11ms/step - loss: 0.0634 - accuracy: 0.9723 - val_loss: 0.1340 - val_accuracy: 0.9542\n",
            "Epoch 31/100\n",
            "540/540 [==============================] - 6s 11ms/step - loss: 0.0602 - accuracy: 0.9738 - val_loss: 0.1515 - val_accuracy: 0.9456\n",
            "Epoch 32/100\n",
            "540/540 [==============================] - 6s 11ms/step - loss: 0.0607 - accuracy: 0.9728 - val_loss: 0.1381 - val_accuracy: 0.9549\n",
            "Epoch 33/100\n",
            "540/540 [==============================] - 6s 11ms/step - loss: 0.0582 - accuracy: 0.9736 - val_loss: 0.1489 - val_accuracy: 0.9543\n",
            "Epoch 34/100\n",
            "540/540 [==============================] - 6s 11ms/step - loss: 0.0595 - accuracy: 0.9732 - val_loss: 0.1518 - val_accuracy: 0.9512\n",
            "Epoch 35/100\n",
            "540/540 [==============================] - 6s 11ms/step - loss: 0.0573 - accuracy: 0.9753 - val_loss: 0.1402 - val_accuracy: 0.9553\n",
            "Epoch 36/100\n",
            "540/540 [==============================] - 6s 11ms/step - loss: 0.0542 - accuracy: 0.9765 - val_loss: 0.1522 - val_accuracy: 0.9518\n",
            "Epoch 37/100\n",
            "540/540 [==============================] - 6s 11ms/step - loss: 0.0516 - accuracy: 0.9770 - val_loss: 0.1567 - val_accuracy: 0.9561\n",
            "Epoch 38/100\n",
            "540/540 [==============================] - 6s 11ms/step - loss: 0.0526 - accuracy: 0.9768 - val_loss: 0.1474 - val_accuracy: 0.9530\n",
            "Epoch 39/100\n",
            "540/540 [==============================] - 6s 11ms/step - loss: 0.0515 - accuracy: 0.9767 - val_loss: 0.1513 - val_accuracy: 0.9543\n",
            "Epoch 40/100\n",
            "540/540 [==============================] - 6s 11ms/step - loss: 0.0510 - accuracy: 0.9777 - val_loss: 0.1459 - val_accuracy: 0.9551\n",
            "Epoch 41/100\n",
            "540/540 [==============================] - 6s 11ms/step - loss: 0.0517 - accuracy: 0.9785 - val_loss: 0.1542 - val_accuracy: 0.9522\n",
            "Epoch 42/100\n",
            "540/540 [==============================] - 6s 11ms/step - loss: 0.0474 - accuracy: 0.9794 - val_loss: 0.1659 - val_accuracy: 0.9511\n",
            "Epoch 43/100\n",
            "540/540 [==============================] - 6s 11ms/step - loss: 0.0457 - accuracy: 0.9803 - val_loss: 0.1734 - val_accuracy: 0.9504\n",
            "Epoch 44/100\n",
            "540/540 [==============================] - 6s 11ms/step - loss: 0.0499 - accuracy: 0.9799 - val_loss: 0.1546 - val_accuracy: 0.9527\n",
            "Epoch 45/100\n",
            "540/540 [==============================] - 6s 11ms/step - loss: 0.0443 - accuracy: 0.9808 - val_loss: 0.1604 - val_accuracy: 0.9526\n",
            "Epoch 46/100\n",
            "540/540 [==============================] - 6s 11ms/step - loss: 0.0456 - accuracy: 0.9815 - val_loss: 0.1853 - val_accuracy: 0.9527\n",
            "Epoch 47/100\n",
            "540/540 [==============================] - 6s 10ms/step - loss: 0.0427 - accuracy: 0.9816 - val_loss: 0.1703 - val_accuracy: 0.9529\n",
            "Epoch 48/100\n",
            "540/540 [==============================] - 6s 11ms/step - loss: 0.0456 - accuracy: 0.9807 - val_loss: 0.1542 - val_accuracy: 0.9541\n",
            "Epoch 49/100\n",
            "540/540 [==============================] - 6s 11ms/step - loss: 0.0417 - accuracy: 0.9831 - val_loss: 0.1713 - val_accuracy: 0.9523\n",
            "Epoch 50/100\n",
            "540/540 [==============================] - 6s 11ms/step - loss: 0.0421 - accuracy: 0.9829 - val_loss: 0.1656 - val_accuracy: 0.9535\n",
            "Epoch 51/100\n",
            "540/540 [==============================] - 6s 11ms/step - loss: 0.0401 - accuracy: 0.9839 - val_loss: 0.1632 - val_accuracy: 0.9527\n",
            "Epoch 52/100\n",
            "540/540 [==============================] - 6s 11ms/step - loss: 0.0373 - accuracy: 0.9838 - val_loss: 0.1793 - val_accuracy: 0.9522\n",
            "Epoch 53/100\n",
            "540/540 [==============================] - 6s 11ms/step - loss: 0.0397 - accuracy: 0.9840 - val_loss: 0.1748 - val_accuracy: 0.9533\n",
            "Epoch 54/100\n",
            "540/540 [==============================] - 6s 11ms/step - loss: 0.0356 - accuracy: 0.9846 - val_loss: 0.1855 - val_accuracy: 0.9526\n",
            "Epoch 55/100\n",
            "540/540 [==============================] - 6s 11ms/step - loss: 0.0375 - accuracy: 0.9843 - val_loss: 0.1851 - val_accuracy: 0.9542\n",
            "Epoch 56/100\n",
            "540/540 [==============================] - 6s 11ms/step - loss: 0.0375 - accuracy: 0.9843 - val_loss: 0.1846 - val_accuracy: 0.9558\n",
            "Epoch 57/100\n",
            "540/540 [==============================] - 6s 11ms/step - loss: 0.0339 - accuracy: 0.9856 - val_loss: 0.1858 - val_accuracy: 0.9510\n",
            "Epoch 58/100\n",
            "540/540 [==============================] - 6s 11ms/step - loss: 0.0366 - accuracy: 0.9845 - val_loss: 0.1810 - val_accuracy: 0.9530\n",
            "Epoch 59/100\n",
            "540/540 [==============================] - 6s 11ms/step - loss: 0.0332 - accuracy: 0.9855 - val_loss: 0.1773 - val_accuracy: 0.9539\n",
            "Epoch 60/100\n",
            "540/540 [==============================] - 6s 11ms/step - loss: 0.0336 - accuracy: 0.9867 - val_loss: 0.1894 - val_accuracy: 0.9522\n",
            "Epoch 61/100\n",
            "540/540 [==============================] - 6s 11ms/step - loss: 0.0337 - accuracy: 0.9871 - val_loss: 0.1879 - val_accuracy: 0.9549\n",
            "Epoch 62/100\n",
            "540/540 [==============================] - 6s 11ms/step - loss: 0.0306 - accuracy: 0.9874 - val_loss: 0.1954 - val_accuracy: 0.9530\n",
            "Epoch 63/100\n",
            "540/540 [==============================] - 6s 11ms/step - loss: 0.0310 - accuracy: 0.9877 - val_loss: 0.2010 - val_accuracy: 0.9500\n",
            "Epoch 64/100\n",
            "540/540 [==============================] - 6s 11ms/step - loss: 0.0337 - accuracy: 0.9872 - val_loss: 0.1807 - val_accuracy: 0.9539\n",
            "Epoch 65/100\n",
            "540/540 [==============================] - 6s 11ms/step - loss: 0.0316 - accuracy: 0.9871 - val_loss: 0.1743 - val_accuracy: 0.9556\n",
            "Epoch 66/100\n",
            "540/540 [==============================] - 6s 11ms/step - loss: 0.0314 - accuracy: 0.9878 - val_loss: 0.1827 - val_accuracy: 0.9526\n",
            "Epoch 67/100\n",
            "540/540 [==============================] - 6s 11ms/step - loss: 0.0331 - accuracy: 0.9871 - val_loss: 0.1713 - val_accuracy: 0.9522\n",
            "Epoch 68/100\n",
            "540/540 [==============================] - 6s 11ms/step - loss: 0.0310 - accuracy: 0.9869 - val_loss: 0.1932 - val_accuracy: 0.9537\n",
            "Epoch 69/100\n",
            "540/540 [==============================] - 6s 11ms/step - loss: 0.0274 - accuracy: 0.9885 - val_loss: 0.1849 - val_accuracy: 0.9510\n",
            "Epoch 70/100\n",
            "540/540 [==============================] - 6s 11ms/step - loss: 0.0296 - accuracy: 0.9892 - val_loss: 0.1901 - val_accuracy: 0.9531\n",
            "Epoch 71/100\n",
            "540/540 [==============================] - 6s 11ms/step - loss: 0.0292 - accuracy: 0.9881 - val_loss: 0.1926 - val_accuracy: 0.9547\n",
            "Epoch 72/100\n",
            "540/540 [==============================] - 6s 11ms/step - loss: 0.0279 - accuracy: 0.9895 - val_loss: 0.1763 - val_accuracy: 0.9530\n",
            "Epoch 73/100\n",
            "540/540 [==============================] - 6s 11ms/step - loss: 0.0287 - accuracy: 0.9889 - val_loss: 0.2147 - val_accuracy: 0.9527\n",
            "Epoch 74/100\n",
            "540/540 [==============================] - 6s 11ms/step - loss: 0.0289 - accuracy: 0.9882 - val_loss: 0.1931 - val_accuracy: 0.9530\n",
            "Epoch 75/100\n",
            "540/540 [==============================] - 6s 11ms/step - loss: 0.0270 - accuracy: 0.9892 - val_loss: 0.1887 - val_accuracy: 0.9546\n",
            "Epoch 76/100\n",
            "540/540 [==============================] - 6s 11ms/step - loss: 0.0258 - accuracy: 0.9899 - val_loss: 0.2028 - val_accuracy: 0.9539\n",
            "Epoch 77/100\n",
            "540/540 [==============================] - 6s 11ms/step - loss: 0.0262 - accuracy: 0.9897 - val_loss: 0.1889 - val_accuracy: 0.9522\n",
            "Epoch 78/100\n",
            "540/540 [==============================] - 6s 11ms/step - loss: 0.0261 - accuracy: 0.9893 - val_loss: 0.1907 - val_accuracy: 0.9531\n",
            "Epoch 79/100\n",
            "540/540 [==============================] - 6s 11ms/step - loss: 0.0266 - accuracy: 0.9888 - val_loss: 0.1941 - val_accuracy: 0.9547\n",
            "Epoch 80/100\n",
            "540/540 [==============================] - 6s 11ms/step - loss: 0.0280 - accuracy: 0.9904 - val_loss: 0.1943 - val_accuracy: 0.9538\n",
            "Epoch 81/100\n",
            "540/540 [==============================] - 6s 11ms/step - loss: 0.0245 - accuracy: 0.9896 - val_loss: 0.2052 - val_accuracy: 0.9537\n",
            "Epoch 82/100\n",
            "540/540 [==============================] - 6s 11ms/step - loss: 0.0217 - accuracy: 0.9918 - val_loss: 0.2088 - val_accuracy: 0.9523\n",
            "Epoch 83/100\n",
            "540/540 [==============================] - 6s 11ms/step - loss: 0.0218 - accuracy: 0.9920 - val_loss: 0.2227 - val_accuracy: 0.9546\n",
            "Epoch 84/100\n",
            "540/540 [==============================] - 6s 11ms/step - loss: 0.0246 - accuracy: 0.9908 - val_loss: 0.2152 - val_accuracy: 0.9545\n",
            "Epoch 85/100\n",
            "540/540 [==============================] - 6s 11ms/step - loss: 0.0218 - accuracy: 0.9911 - val_loss: 0.2161 - val_accuracy: 0.9518\n",
            "Epoch 86/100\n",
            "540/540 [==============================] - 6s 11ms/step - loss: 0.0250 - accuracy: 0.9901 - val_loss: 0.2195 - val_accuracy: 0.9530\n",
            "Epoch 87/100\n",
            "540/540 [==============================] - 6s 11ms/step - loss: 0.0225 - accuracy: 0.9910 - val_loss: 0.2075 - val_accuracy: 0.9522\n",
            "Epoch 88/100\n",
            "540/540 [==============================] - 6s 11ms/step - loss: 0.0202 - accuracy: 0.9921 - val_loss: 0.2255 - val_accuracy: 0.9508\n",
            "Epoch 89/100\n",
            "540/540 [==============================] - 6s 11ms/step - loss: 0.0226 - accuracy: 0.9911 - val_loss: 0.2392 - val_accuracy: 0.9549\n",
            "Epoch 90/100\n",
            "540/540 [==============================] - 6s 11ms/step - loss: 0.0223 - accuracy: 0.9915 - val_loss: 0.2108 - val_accuracy: 0.9530\n",
            "Epoch 91/100\n",
            "540/540 [==============================] - 6s 11ms/step - loss: 0.0201 - accuracy: 0.9911 - val_loss: 0.2193 - val_accuracy: 0.9519\n",
            "Epoch 92/100\n",
            "540/540 [==============================] - 6s 11ms/step - loss: 0.0259 - accuracy: 0.9897 - val_loss: 0.2039 - val_accuracy: 0.9524\n",
            "Epoch 93/100\n",
            "540/540 [==============================] - 6s 11ms/step - loss: 0.0238 - accuracy: 0.9914 - val_loss: 0.2136 - val_accuracy: 0.9533\n",
            "Epoch 94/100\n",
            "540/540 [==============================] - 6s 11ms/step - loss: 0.0209 - accuracy: 0.9920 - val_loss: 0.2214 - val_accuracy: 0.9529\n",
            "Epoch 95/100\n",
            "540/540 [==============================] - 6s 11ms/step - loss: 0.0205 - accuracy: 0.9922 - val_loss: 0.2211 - val_accuracy: 0.9520\n",
            "Epoch 96/100\n",
            "540/540 [==============================] - 6s 11ms/step - loss: 0.0218 - accuracy: 0.9910 - val_loss: 0.2315 - val_accuracy: 0.9518\n",
            "Epoch 97/100\n",
            "540/540 [==============================] - 6s 11ms/step - loss: 0.0194 - accuracy: 0.9920 - val_loss: 0.2504 - val_accuracy: 0.9529\n",
            "Epoch 98/100\n",
            "540/540 [==============================] - 6s 11ms/step - loss: 0.0149 - accuracy: 0.9933 - val_loss: 0.2570 - val_accuracy: 0.9506\n",
            "Epoch 99/100\n",
            "540/540 [==============================] - 6s 11ms/step - loss: 0.0208 - accuracy: 0.9927 - val_loss: 0.2125 - val_accuracy: 0.9542\n",
            "Epoch 100/100\n",
            "540/540 [==============================] - 6s 11ms/step - loss: 0.0205 - accuracy: 0.9925 - val_loss: 0.2459 - val_accuracy: 0.9512\n"
          ],
          "name": "stdout"
        },
        {
          "output_type": "execute_result",
          "data": {
            "text/plain": [
              "<keras.callbacks.History at 0x7f1c6f7d4710>"
            ]
          },
          "metadata": {
            "tags": []
          },
          "execution_count": 105
        }
      ]
    },
    {
      "cell_type": "code",
      "metadata": {
        "colab": {
          "base_uri": "https://localhost:8080/"
        },
        "id": "Hnhy5WDq0_aW",
        "outputId": "e5336c55-bd36-455d-c409-ebd064324b34"
      },
      "source": [
        "model.evaluate(X_testXG,y_testXG)"
      ],
      "execution_count": null,
      "outputs": [
        {
          "output_type": "stream",
          "text": [
            "232/232 [==============================] - 1s 4ms/step - loss: 0.2459 - accuracy: 0.9512\n"
          ],
          "name": "stdout"
        },
        {
          "output_type": "execute_result",
          "data": {
            "text/plain": [
              "[0.24594049155712128, 0.9512293934822083]"
            ]
          },
          "metadata": {
            "tags": []
          },
          "execution_count": 106
        }
      ]
    },
    {
      "cell_type": "code",
      "metadata": {
        "colab": {
          "base_uri": "https://localhost:8080/"
        },
        "id": "ZDD5rkup0_V0",
        "outputId": "07428bda-f5d3-43f4-dc23-4d77503d4790"
      },
      "source": [
        "y_pred = np.round(model.predict(X_testXG))\n",
        "from sklearn.metrics import classification_report\n",
        "target_names = ['class 0', 'class 1', 'class 2']\n",
        "print(classification_report(y_testXG, y_pred, target_names=target_names))"
      ],
      "execution_count": null,
      "outputs": [
        {
          "output_type": "stream",
          "text": [
            "              precision    recall  f1-score   support\n",
            "\n",
            "     class 0       0.36      0.27      0.31       149\n",
            "     class 1       0.97      0.98      0.97      7087\n",
            "     class 2       0.42      0.22      0.29       166\n",
            "\n",
            "   micro avg       0.95      0.95      0.95      7402\n",
            "   macro avg       0.58      0.49      0.52      7402\n",
            "weighted avg       0.94      0.95      0.95      7402\n",
            " samples avg       0.95      0.95      0.95      7402\n",
            "\n"
          ],
          "name": "stdout"
        }
      ]
    },
    {
      "cell_type": "markdown",
      "metadata": {
        "id": "mSWAepK283pK"
      },
      "source": [
        "## Balance LSTM"
      ]
    },
    {
      "cell_type": "code",
      "metadata": {
        "id": "9BW0DmOiDNth"
      },
      "source": [
        "# from sklearn.preprocessing import StandardScaler\n",
        "# scaler = StandardScaler(copy=True, with_mean=True, with_std=True)\n",
        "# scaler.fit(trainp)\n",
        "# scale_data = scaler.fit_transform(trainp)"
      ],
      "execution_count": null,
      "outputs": []
    },
    {
      "cell_type": "code",
      "metadata": {
        "colab": {
          "base_uri": "https://localhost:8080/"
        },
        "id": "c9ZGutrv6ikP",
        "outputId": "62b3f9e7-0458-4ed0-f1ad-06ca525b23ef"
      },
      "source": [
        "# Implementing Oversampling for Handling Imbalanced \n",
        "smk = SMOTETomek(random_state=42)\n",
        "X_res,y_res=smk.fit_sample(trainp,og_target)\n",
        "# X_res,y_res"
      ],
      "execution_count": null,
      "outputs": [
        {
          "output_type": "stream",
          "text": [
            "/usr/local/lib/python3.7/dist-packages/sklearn/utils/deprecation.py:87: FutureWarning: Function safe_indexing is deprecated; safe_indexing is deprecated in version 0.22 and will be removed in version 0.24.\n",
            "  warnings.warn(msg, category=FutureWarning)\n",
            "/usr/local/lib/python3.7/dist-packages/sklearn/utils/deprecation.py:87: FutureWarning: Function safe_indexing is deprecated; safe_indexing is deprecated in version 0.22 and will be removed in version 0.24.\n",
            "  warnings.warn(msg, category=FutureWarning)\n",
            "/usr/local/lib/python3.7/dist-packages/sklearn/utils/deprecation.py:87: FutureWarning: Function safe_indexing is deprecated; safe_indexing is deprecated in version 0.22 and will be removed in version 0.24.\n",
            "  warnings.warn(msg, category=FutureWarning)\n"
          ],
          "name": "stderr"
        }
      ]
    },
    {
      "cell_type": "code",
      "metadata": {
        "id": "Cq_7Hp0H6ifW"
      },
      "source": [
        "from sklearn.preprocessing import StandardScaler\n",
        "scaler = StandardScaler(copy=True, with_mean=True, with_std=True)\n",
        "scaler.fit(X_res)\n",
        "scale_data = scaler.fit_transform(X_res)\n",
        "from sklearn.model_selection import train_test_split\n",
        "X_trainXG, X_testXG, y_trainXG, y_testXG = train_test_split(scale_data,y_res, test_size = 0.3, random_state = 0)\n",
        "from sklearn import preprocessing\n",
        "label_encoder = preprocessing.LabelEncoder()\n",
        "y_trainXG= label_encoder.fit_transform(y_trainXG)\n",
        "X_trainXG = np.expand_dims(X_trainXG, axis=1)\n",
        "y_trainXG = to_categorical(y_trainXG)\n",
        "X_trainXG=np.asarray(X_trainXG).astype(np.float32)\n",
        "y_trainXG=np.asarray(y_trainXG).astype(np.float32)\n",
        "from sklearn import preprocessing\n",
        "label_encoder = preprocessing.LabelEncoder()\n",
        "y_testXG= label_encoder.fit_transform(y_testXG)\n",
        "X_testXG = np.expand_dims(X_testXG, axis=1)\n",
        "y_testXG = to_categorical(y_testXG)\n",
        "X_testXG=np.asarray(X_testXG).astype(np.float32)\n",
        "y_testXG=np.asarray(y_testXG).astype(np.float32)"
      ],
      "execution_count": null,
      "outputs": []
    },
    {
      "cell_type": "code",
      "metadata": {
        "id": "NUBUti6XHT2P"
      },
      "source": [
        "ax = np.expand_dims(ax, axis=1)\n",
        "ax=np.asarray(ax).astype(np.float32)"
      ],
      "execution_count": null,
      "outputs": []
    },
    {
      "cell_type": "code",
      "metadata": {
        "id": "Mp0Y3H1EIWIh"
      },
      "source": [
        "ay= label_encoder.fit_transform(ay)\n",
        "ay = to_categorical(ay)\n",
        "ay=np.asarray(ay).astype(np.float32)"
      ],
      "execution_count": null,
      "outputs": []
    },
    {
      "cell_type": "code",
      "metadata": {
        "id": "TUMzi9X86ibL"
      },
      "source": [
        "balance_model = Sequential()\n",
        "balance_model.add(LSTM(1024, input_shape=(None,185), return_sequences=True))\n",
        "model.add(keras.layers.Dropout(0.3))\n",
        "balance_model.add(LSTM(512, return_sequences=True))\n",
        "model.add(keras.layers.Dropout(0.3))\n",
        "balance_model.add(LSTM(512, return_sequences=True))\n",
        "model.add(keras.layers.Dropout(0.3))\n",
        "balance_model.add(LSTM(256, return_sequences=True))\n",
        "model.add(keras.layers.Dropout(0.3))\n",
        "balance_model.add(LSTM(128, return_sequences=False))\n",
        "# balance_model.add(LSTM(128,dropout=0.2))\n",
        "balance_model.add(Dense(3, activation='softmax'))\n",
        "balance_model.compile(loss='categorical_crossentropy',optimizer='adam',metrics=['accuracy'])"
      ],
      "execution_count": null,
      "outputs": []
    },
    {
      "cell_type": "code",
      "metadata": {
        "colab": {
          "base_uri": "https://localhost:8080/",
          "height": 854
        },
        "id": "GqEzcUFWBc3C",
        "outputId": "d46cf1a4-104f-431f-e552-4d52935c85e1"
      },
      "source": [
        "balance_model.fit(X_trainXG,y_trainXG,epochs=30,validation_data=(X_testXG,y_testXG))"
      ],
      "execution_count": null,
      "outputs": [
        {
          "output_type": "stream",
          "text": [
            "Epoch 1/30\n",
            "1524/1524 [==============================] - 26s 13ms/step - loss: 0.3849 - accuracy: 0.8236 - val_loss: 0.1611 - val_accuracy: 0.9419\n",
            "Epoch 2/30\n",
            "1524/1524 [==============================] - 18s 12ms/step - loss: 0.1599 - accuracy: 0.9460 - val_loss: 0.1197 - val_accuracy: 0.9615\n",
            "Epoch 3/30\n",
            "1524/1524 [==============================] - 18s 12ms/step - loss: 0.1216 - accuracy: 0.9617 - val_loss: 0.1255 - val_accuracy: 0.9598\n",
            "Epoch 4/30\n",
            "1524/1524 [==============================] - 18s 12ms/step - loss: 0.1076 - accuracy: 0.9670 - val_loss: 0.1127 - val_accuracy: 0.9673\n",
            "Epoch 5/30\n",
            "1524/1524 [==============================] - 18s 12ms/step - loss: 0.0887 - accuracy: 0.9752 - val_loss: 0.0860 - val_accuracy: 0.9760\n",
            "Epoch 6/30\n",
            "1524/1524 [==============================] - 18s 12ms/step - loss: 0.0812 - accuracy: 0.9764 - val_loss: 0.0913 - val_accuracy: 0.9713\n",
            "Epoch 7/30\n",
            "1524/1524 [==============================] - 18s 12ms/step - loss: 0.0734 - accuracy: 0.9773 - val_loss: 0.0841 - val_accuracy: 0.9766\n",
            "Epoch 8/30\n",
            "1524/1524 [==============================] - 18s 12ms/step - loss: 0.0589 - accuracy: 0.9824 - val_loss: 0.0704 - val_accuracy: 0.9800\n",
            "Epoch 9/30\n",
            "1524/1524 [==============================] - 18s 12ms/step - loss: 0.0578 - accuracy: 0.9839 - val_loss: 0.0733 - val_accuracy: 0.9802\n",
            "Epoch 10/30\n",
            "1524/1524 [==============================] - 18s 12ms/step - loss: 0.0500 - accuracy: 0.9847 - val_loss: 0.0768 - val_accuracy: 0.9802\n",
            "Epoch 11/30\n",
            "1524/1524 [==============================] - 18s 12ms/step - loss: 0.0471 - accuracy: 0.9860 - val_loss: 0.0708 - val_accuracy: 0.9817\n",
            "Epoch 12/30\n",
            "1524/1524 [==============================] - 18s 12ms/step - loss: 0.0412 - accuracy: 0.9879 - val_loss: 0.0735 - val_accuracy: 0.9796\n",
            "Epoch 13/30\n",
            "1524/1524 [==============================] - 18s 12ms/step - loss: 0.0419 - accuracy: 0.9881 - val_loss: 0.0682 - val_accuracy: 0.9818\n",
            "Epoch 14/30\n",
            "1524/1524 [==============================] - 19s 12ms/step - loss: 0.0337 - accuracy: 0.9899 - val_loss: 0.0611 - val_accuracy: 0.9832\n",
            "Epoch 15/30\n",
            " 868/1524 [================>.............] - ETA: 6s - loss: 0.0296 - accuracy: 0.9913"
          ],
          "name": "stdout"
        },
        {
          "output_type": "error",
          "ename": "KeyboardInterrupt",
          "evalue": "ignored",
          "traceback": [
            "\u001b[0;31m---------------------------------------------------------------------------\u001b[0m",
            "\u001b[0;31mKeyboardInterrupt\u001b[0m                         Traceback (most recent call last)",
            "\u001b[0;32m<ipython-input-154-1c3dba9d2114>\u001b[0m in \u001b[0;36m<module>\u001b[0;34m()\u001b[0m\n\u001b[0;32m----> 1\u001b[0;31m \u001b[0mbalance_model\u001b[0m\u001b[0;34m.\u001b[0m\u001b[0mfit\u001b[0m\u001b[0;34m(\u001b[0m\u001b[0mX_trainXG\u001b[0m\u001b[0;34m,\u001b[0m\u001b[0my_trainXG\u001b[0m\u001b[0;34m,\u001b[0m\u001b[0mepochs\u001b[0m\u001b[0;34m=\u001b[0m\u001b[0;36m30\u001b[0m\u001b[0;34m,\u001b[0m\u001b[0mvalidation_data\u001b[0m\u001b[0;34m=\u001b[0m\u001b[0;34m(\u001b[0m\u001b[0mX_testXG\u001b[0m\u001b[0;34m,\u001b[0m\u001b[0my_testXG\u001b[0m\u001b[0;34m)\u001b[0m\u001b[0;34m)\u001b[0m\u001b[0;34m\u001b[0m\u001b[0;34m\u001b[0m\u001b[0m\n\u001b[0m",
            "\u001b[0;32m/usr/local/lib/python3.7/dist-packages/keras/engine/training.py\u001b[0m in \u001b[0;36mfit\u001b[0;34m(self, x, y, batch_size, epochs, verbose, callbacks, validation_split, validation_data, shuffle, class_weight, sample_weight, initial_epoch, steps_per_epoch, validation_steps, validation_batch_size, validation_freq, max_queue_size, workers, use_multiprocessing)\u001b[0m\n\u001b[1;32m   1156\u001b[0m                 _r=1):\n\u001b[1;32m   1157\u001b[0m               \u001b[0mcallbacks\u001b[0m\u001b[0;34m.\u001b[0m\u001b[0mon_train_batch_begin\u001b[0m\u001b[0;34m(\u001b[0m\u001b[0mstep\u001b[0m\u001b[0;34m)\u001b[0m\u001b[0;34m\u001b[0m\u001b[0;34m\u001b[0m\u001b[0m\n\u001b[0;32m-> 1158\u001b[0;31m               \u001b[0mtmp_logs\u001b[0m \u001b[0;34m=\u001b[0m \u001b[0mself\u001b[0m\u001b[0;34m.\u001b[0m\u001b[0mtrain_function\u001b[0m\u001b[0;34m(\u001b[0m\u001b[0miterator\u001b[0m\u001b[0;34m)\u001b[0m\u001b[0;34m\u001b[0m\u001b[0;34m\u001b[0m\u001b[0m\n\u001b[0m\u001b[1;32m   1159\u001b[0m               \u001b[0;32mif\u001b[0m \u001b[0mdata_handler\u001b[0m\u001b[0;34m.\u001b[0m\u001b[0mshould_sync\u001b[0m\u001b[0;34m:\u001b[0m\u001b[0;34m\u001b[0m\u001b[0;34m\u001b[0m\u001b[0m\n\u001b[1;32m   1160\u001b[0m                 \u001b[0mcontext\u001b[0m\u001b[0;34m.\u001b[0m\u001b[0masync_wait\u001b[0m\u001b[0;34m(\u001b[0m\u001b[0;34m)\u001b[0m\u001b[0;34m\u001b[0m\u001b[0;34m\u001b[0m\u001b[0m\n",
            "\u001b[0;32m/usr/local/lib/python3.7/dist-packages/tensorflow/python/eager/def_function.py\u001b[0m in \u001b[0;36m__call__\u001b[0;34m(self, *args, **kwds)\u001b[0m\n\u001b[1;32m    887\u001b[0m \u001b[0;34m\u001b[0m\u001b[0m\n\u001b[1;32m    888\u001b[0m       \u001b[0;32mwith\u001b[0m \u001b[0mOptionalXlaContext\u001b[0m\u001b[0;34m(\u001b[0m\u001b[0mself\u001b[0m\u001b[0;34m.\u001b[0m\u001b[0m_jit_compile\u001b[0m\u001b[0;34m)\u001b[0m\u001b[0;34m:\u001b[0m\u001b[0;34m\u001b[0m\u001b[0;34m\u001b[0m\u001b[0m\n\u001b[0;32m--> 889\u001b[0;31m         \u001b[0mresult\u001b[0m \u001b[0;34m=\u001b[0m \u001b[0mself\u001b[0m\u001b[0;34m.\u001b[0m\u001b[0m_call\u001b[0m\u001b[0;34m(\u001b[0m\u001b[0;34m*\u001b[0m\u001b[0margs\u001b[0m\u001b[0;34m,\u001b[0m \u001b[0;34m**\u001b[0m\u001b[0mkwds\u001b[0m\u001b[0;34m)\u001b[0m\u001b[0;34m\u001b[0m\u001b[0;34m\u001b[0m\u001b[0m\n\u001b[0m\u001b[1;32m    890\u001b[0m \u001b[0;34m\u001b[0m\u001b[0m\n\u001b[1;32m    891\u001b[0m       \u001b[0mnew_tracing_count\u001b[0m \u001b[0;34m=\u001b[0m \u001b[0mself\u001b[0m\u001b[0;34m.\u001b[0m\u001b[0mexperimental_get_tracing_count\u001b[0m\u001b[0;34m(\u001b[0m\u001b[0;34m)\u001b[0m\u001b[0;34m\u001b[0m\u001b[0;34m\u001b[0m\u001b[0m\n",
            "\u001b[0;32m/usr/local/lib/python3.7/dist-packages/tensorflow/python/eager/def_function.py\u001b[0m in \u001b[0;36m_call\u001b[0;34m(self, *args, **kwds)\u001b[0m\n\u001b[1;32m    915\u001b[0m       \u001b[0;31m# In this case we have created variables on the first call, so we run the\u001b[0m\u001b[0;34m\u001b[0m\u001b[0;34m\u001b[0m\u001b[0;34m\u001b[0m\u001b[0m\n\u001b[1;32m    916\u001b[0m       \u001b[0;31m# defunned version which is guaranteed to never create variables.\u001b[0m\u001b[0;34m\u001b[0m\u001b[0;34m\u001b[0m\u001b[0;34m\u001b[0m\u001b[0m\n\u001b[0;32m--> 917\u001b[0;31m       \u001b[0;32mreturn\u001b[0m \u001b[0mself\u001b[0m\u001b[0;34m.\u001b[0m\u001b[0m_stateless_fn\u001b[0m\u001b[0;34m(\u001b[0m\u001b[0;34m*\u001b[0m\u001b[0margs\u001b[0m\u001b[0;34m,\u001b[0m \u001b[0;34m**\u001b[0m\u001b[0mkwds\u001b[0m\u001b[0;34m)\u001b[0m  \u001b[0;31m# pylint: disable=not-callable\u001b[0m\u001b[0;34m\u001b[0m\u001b[0;34m\u001b[0m\u001b[0m\n\u001b[0m\u001b[1;32m    918\u001b[0m     \u001b[0;32melif\u001b[0m \u001b[0mself\u001b[0m\u001b[0;34m.\u001b[0m\u001b[0m_stateful_fn\u001b[0m \u001b[0;32mis\u001b[0m \u001b[0;32mnot\u001b[0m \u001b[0;32mNone\u001b[0m\u001b[0;34m:\u001b[0m\u001b[0;34m\u001b[0m\u001b[0;34m\u001b[0m\u001b[0m\n\u001b[1;32m    919\u001b[0m       \u001b[0;31m# Release the lock early so that multiple threads can perform the call\u001b[0m\u001b[0;34m\u001b[0m\u001b[0;34m\u001b[0m\u001b[0;34m\u001b[0m\u001b[0m\n",
            "\u001b[0;32m/usr/local/lib/python3.7/dist-packages/tensorflow/python/eager/function.py\u001b[0m in \u001b[0;36m__call__\u001b[0;34m(self, *args, **kwargs)\u001b[0m\n\u001b[1;32m   3022\u001b[0m        filtered_flat_args) = self._maybe_define_function(args, kwargs)\n\u001b[1;32m   3023\u001b[0m     return graph_function._call_flat(\n\u001b[0;32m-> 3024\u001b[0;31m         filtered_flat_args, captured_inputs=graph_function.captured_inputs)  # pylint: disable=protected-access\n\u001b[0m\u001b[1;32m   3025\u001b[0m \u001b[0;34m\u001b[0m\u001b[0m\n\u001b[1;32m   3026\u001b[0m   \u001b[0;34m@\u001b[0m\u001b[0mproperty\u001b[0m\u001b[0;34m\u001b[0m\u001b[0;34m\u001b[0m\u001b[0m\n",
            "\u001b[0;32m/usr/local/lib/python3.7/dist-packages/tensorflow/python/eager/function.py\u001b[0m in \u001b[0;36m_call_flat\u001b[0;34m(self, args, captured_inputs, cancellation_manager)\u001b[0m\n\u001b[1;32m   1959\u001b[0m       \u001b[0;31m# No tape is watching; skip to running the function.\u001b[0m\u001b[0;34m\u001b[0m\u001b[0;34m\u001b[0m\u001b[0;34m\u001b[0m\u001b[0m\n\u001b[1;32m   1960\u001b[0m       return self._build_call_outputs(self._inference_function.call(\n\u001b[0;32m-> 1961\u001b[0;31m           ctx, args, cancellation_manager=cancellation_manager))\n\u001b[0m\u001b[1;32m   1962\u001b[0m     forward_backward = self._select_forward_and_backward_functions(\n\u001b[1;32m   1963\u001b[0m         \u001b[0margs\u001b[0m\u001b[0;34m,\u001b[0m\u001b[0;34m\u001b[0m\u001b[0;34m\u001b[0m\u001b[0m\n",
            "\u001b[0;32m/usr/local/lib/python3.7/dist-packages/tensorflow/python/eager/function.py\u001b[0m in \u001b[0;36mcall\u001b[0;34m(self, ctx, args, cancellation_manager)\u001b[0m\n\u001b[1;32m    594\u001b[0m               \u001b[0minputs\u001b[0m\u001b[0;34m=\u001b[0m\u001b[0margs\u001b[0m\u001b[0;34m,\u001b[0m\u001b[0;34m\u001b[0m\u001b[0;34m\u001b[0m\u001b[0m\n\u001b[1;32m    595\u001b[0m               \u001b[0mattrs\u001b[0m\u001b[0;34m=\u001b[0m\u001b[0mattrs\u001b[0m\u001b[0;34m,\u001b[0m\u001b[0;34m\u001b[0m\u001b[0;34m\u001b[0m\u001b[0m\n\u001b[0;32m--> 596\u001b[0;31m               ctx=ctx)\n\u001b[0m\u001b[1;32m    597\u001b[0m         \u001b[0;32melse\u001b[0m\u001b[0;34m:\u001b[0m\u001b[0;34m\u001b[0m\u001b[0;34m\u001b[0m\u001b[0m\n\u001b[1;32m    598\u001b[0m           outputs = execute.execute_with_cancellation(\n",
            "\u001b[0;32m/usr/local/lib/python3.7/dist-packages/tensorflow/python/eager/execute.py\u001b[0m in \u001b[0;36mquick_execute\u001b[0;34m(op_name, num_outputs, inputs, attrs, ctx, name)\u001b[0m\n\u001b[1;32m     58\u001b[0m     \u001b[0mctx\u001b[0m\u001b[0;34m.\u001b[0m\u001b[0mensure_initialized\u001b[0m\u001b[0;34m(\u001b[0m\u001b[0;34m)\u001b[0m\u001b[0;34m\u001b[0m\u001b[0;34m\u001b[0m\u001b[0m\n\u001b[1;32m     59\u001b[0m     tensors = pywrap_tfe.TFE_Py_Execute(ctx._handle, device_name, op_name,\n\u001b[0;32m---> 60\u001b[0;31m                                         inputs, attrs, num_outputs)\n\u001b[0m\u001b[1;32m     61\u001b[0m   \u001b[0;32mexcept\u001b[0m \u001b[0mcore\u001b[0m\u001b[0;34m.\u001b[0m\u001b[0m_NotOkStatusException\u001b[0m \u001b[0;32mas\u001b[0m \u001b[0me\u001b[0m\u001b[0;34m:\u001b[0m\u001b[0;34m\u001b[0m\u001b[0;34m\u001b[0m\u001b[0m\n\u001b[1;32m     62\u001b[0m     \u001b[0;32mif\u001b[0m \u001b[0mname\u001b[0m \u001b[0;32mis\u001b[0m \u001b[0;32mnot\u001b[0m \u001b[0;32mNone\u001b[0m\u001b[0;34m:\u001b[0m\u001b[0;34m\u001b[0m\u001b[0;34m\u001b[0m\u001b[0m\n",
            "\u001b[0;31mKeyboardInterrupt\u001b[0m: "
          ]
        }
      ]
    },
    {
      "cell_type": "code",
      "metadata": {
        "colab": {
          "base_uri": "https://localhost:8080/"
        },
        "id": "XxPL8l0gBcwi",
        "outputId": "b7a17ed2-90a9-4112-df5e-bfd843474222"
      },
      "source": [
        "y_pred = np.round(balance_model.predict(X_testXG))\n",
        "from sklearn.metrics import classification_report\n",
        "target_names = ['class 0', 'class 1', 'class 2']\n",
        "print(classification_report(y_testXG, y_pred, target_names=target_names))"
      ],
      "execution_count": null,
      "outputs": [
        {
          "output_type": "stream",
          "text": [
            "              precision    recall  f1-score   support\n",
            "\n",
            "     class 0       0.98      1.00      0.99      7019\n",
            "     class 1       0.99      0.96      0.97      6767\n",
            "     class 2       0.98      0.99      0.99      7109\n",
            "\n",
            "   micro avg       0.98      0.98      0.98     20895\n",
            "   macro avg       0.98      0.98      0.98     20895\n",
            "weighted avg       0.98      0.98      0.98     20895\n",
            " samples avg       0.98      0.98      0.98     20895\n",
            "\n"
          ],
          "name": "stdout"
        },
        {
          "output_type": "stream",
          "text": [
            "/usr/local/lib/python3.7/dist-packages/sklearn/metrics/_classification.py:1272: UndefinedMetricWarning: Precision and F-score are ill-defined and being set to 0.0 in samples with no predicted labels. Use `zero_division` parameter to control this behavior.\n",
            "  _warn_prf(average, modifier, msg_start, len(result))\n"
          ],
          "name": "stderr"
        }
      ]
    },
    {
      "cell_type": "code",
      "metadata": {
        "colab": {
          "base_uri": "https://localhost:8080/"
        },
        "id": "hfSpf3TSBctB",
        "outputId": "a1135a78-351a-4574-95cc-1f431d4e8656"
      },
      "source": [
        "y_pred = np.round(balance_model.predict(ax))\n",
        "from sklearn.metrics import classification_report\n",
        "target_names = ['class 0', 'class 1', 'class 2']\n",
        "print(classification_report(ay, y_pred, target_names=target_names))"
      ],
      "execution_count": null,
      "outputs": [
        {
          "output_type": "stream",
          "text": [
            "              precision    recall  f1-score   support\n",
            "\n",
            "     class 0       0.00      0.00      0.00         5\n",
            "     class 1       0.57      1.00      0.73        12\n",
            "     class 2       0.00      0.00      0.00         4\n",
            "\n",
            "   micro avg       0.57      0.57      0.57        21\n",
            "   macro avg       0.19      0.33      0.24        21\n",
            "weighted avg       0.33      0.57      0.42        21\n",
            " samples avg       0.57      0.57      0.57        21\n",
            "\n"
          ],
          "name": "stdout"
        },
        {
          "output_type": "stream",
          "text": [
            "/usr/local/lib/python3.7/dist-packages/sklearn/metrics/_classification.py:1272: UndefinedMetricWarning: Precision and F-score are ill-defined and being set to 0.0 in labels with no predicted samples. Use `zero_division` parameter to control this behavior.\n",
            "  _warn_prf(average, modifier, msg_start, len(result))\n"
          ],
          "name": "stderr"
        }
      ]
    },
    {
      "cell_type": "markdown",
      "metadata": {
        "id": "zmtDRGYxJWNp"
      },
      "source": [
        "## testing"
      ]
    },
    {
      "cell_type": "code",
      "metadata": {
        "colab": {
          "base_uri": "https://localhost:8080/"
        },
        "id": "VBm5uQ9FJylP",
        "outputId": "f5de7569-a6d4-45ec-ef8c-de42f872d70f"
      },
      "source": [
        "dt.datetime(2021,2,28)"
      ],
      "execution_count": null,
      "outputs": [
        {
          "output_type": "execute_result",
          "data": {
            "text/plain": [
              "datetime.datetime(2021, 2, 28, 0, 0)"
            ]
          },
          "metadata": {
            "tags": []
          },
          "execution_count": 144
        }
      ]
    },
    {
      "cell_type": "code",
      "metadata": {
        "colab": {
          "base_uri": "https://localhost:8080/"
        },
        "id": "Of0ZLGFLBcqM",
        "outputId": "e22e8a49-452e-4e13-f792-c26d6c077294"
      },
      "source": [
        "import yfinance as yf\n",
        "start = dt.datetime(2021,2,28)-dt.timedelta(59)\n",
        "end = dt.datetime.today()\n",
        "fdf = yf.download('AXISBANK.NS',start=start, end=end,interval='1d')\n",
        "fdf.ta.strategy(ta.AllStrategy)"
      ],
      "execution_count": null,
      "outputs": [
        {
          "output_type": "stream",
          "text": [
            "\r[*********************100%***********************]  1 of 1 completed\n"
          ],
          "name": "stdout"
        }
      ]
    },
    {
      "cell_type": "code",
      "metadata": {
        "colab": {
          "base_uri": "https://localhost:8080/"
        },
        "id": "v8OlnDpOBcnh",
        "outputId": "10a62427-77eb-4c75-e4f4-70a0bc1b0c82"
      },
      "source": [
        "axis = stockBuySell(fdf)\n",
        "# axis['final_buy'] = axis['final_buy'].map(mapping)\n",
        "axis = axis.drop(columns=['SUPERTs_7_3.0', 'QQEl_14_5_4.236', 'PSARl_0.02_0.2', 'PSARs_0.02_0.2',\n",
        "       'QQEs_14_5_4.236', 'SUPERTl_7_3.0', 'HILOl_13_21', 'HILOs_13_21','open', 'high', 'low','adj_close'])\n",
        "\n",
        "axis = axis.dropna()\n",
        "# axis = axis.drop(corr_features,axis=1)\n",
        "ax = axis.drop(['final_buy'],axis=1)\n",
        "ay = axis.final_buy"
      ],
      "execution_count": null,
      "outputs": [
        {
          "output_type": "stream",
          "text": [
            "Buy on day:  0 \t Sell on day:  3 \t Profit:  44.0\n",
            "Buy on day:  4 \t Sell on day:  6 \t Profit:  18.45001220703125\n",
            "Buy on day:  7 \t Sell on day:  9 \t Profit:  20.8499755859375\n",
            "Buy on day:  12 \t Sell on day:  15 \t Profit:  18.8499755859375\n",
            "Buy on day:  16 \t Sell on day:  17 \t Profit:  13.9000244140625\n",
            "Buy on day:  18 \t Sell on day:  19 \t Profit:  38.60003662109375\n",
            "Buy on day:  20 \t Sell on day:  24 \t Profit:  81.0\n",
            "Buy on day:  25 \t Sell on day:  27 \t Profit:  22.9000244140625\n",
            "Buy on day:  28 \t Sell on day:  31 \t Profit:  59.20001220703125\n",
            "Buy on day:  37 \t Sell on day:  39 \t Profit:  54.70001220703125\n",
            "Buy on day:  40 \t Sell on day:  43 \t Profit:  29.1500244140625\n",
            "Buy on day:  45 \t Sell on day:  48 \t Profit:  30.0\n",
            "Buy on day:  53 \t Sell on day:  54 \t Profit:  7.5\n",
            "Buy on day:  55 \t Sell on day:  56 \t Profit:  14.3499755859375\n",
            "Buy on day:  60 \t Sell on day:  62 \t Profit:  17.6500244140625\n",
            "Buy on day:  64 \t Sell on day:  65 \t Profit:  10.3499755859375\n",
            "Buy on day:  68 \t Sell on day:  71 \t Profit:  33.60003662109375\n",
            "Buy on day:  72 \t Sell on day:  76 \t Profit:  52.29998779296875\n",
            "Buy on day:  77 \t Sell on day:  79 \t Profit:  19.85003662109375\n",
            "Buy on day:  82 \t Sell on day:  83 \t Profit:  16.85003662109375\n",
            "Buy on day:  89 \t Sell on day:  92 \t Profit:  31.79998779296875\n",
            "Buy on day:  93 \t Sell on day:  95 \t Profit:  35.25\n",
            "Buy on day:  96 \t Sell on day:  98 \t Profit:  18.79998779296875\n",
            "Buy on day:  99 \t Sell on day:  100 \t Profit:  10.85003662109375\n",
            "Buy on day:  102 \t Sell on day:  103 \t Profit:  13.6500244140625\n",
            "Buy on day:  104 \t Sell on day:  105 \t Profit:  9.04998779296875\n",
            "Buy on day:  107 \t Sell on day:  108 \t Profit:  7.5\n",
            "Buy on day:  110 \t Sell on day:  111 \t Profit:  14.6500244140625\n",
            "Buy on day:  117 \t Sell on day:  120 \t Profit:  30.050048828125\n"
          ],
          "name": "stdout"
        },
        {
          "output_type": "stream",
          "text": [
            "/usr/local/lib/python3.7/dist-packages/ipykernel_launcher.py:64: SettingWithCopyWarning: \n",
            "A value is trying to be set on a copy of a slice from a DataFrame\n",
            "\n",
            "See the caveats in the documentation: https://pandas.pydata.org/pandas-docs/stable/user_guide/indexing.html#returning-a-view-versus-a-copy\n",
            "/usr/local/lib/python3.7/dist-packages/ipykernel_launcher.py:65: SettingWithCopyWarning: \n",
            "A value is trying to be set on a copy of a slice from a DataFrame\n",
            "\n",
            "See the caveats in the documentation: https://pandas.pydata.org/pandas-docs/stable/user_guide/indexing.html#returning-a-view-versus-a-copy\n"
          ],
          "name": "stderr"
        }
      ]
    },
    {
      "cell_type": "code",
      "metadata": {
        "id": "XB2PLlT6Bck4"
      },
      "source": [
        "ax = np.expand_dims(ax, axis=1)\n",
        "ax=np.asarray(ax).astype(np.float32)\n",
        "\n",
        "ay= label_encoder.fit_transform(ay)\n",
        "ay = to_categorical(ay)\n",
        "ay=np.asarray(ay).astype(np.float32)"
      ],
      "execution_count": null,
      "outputs": []
    },
    {
      "cell_type": "code",
      "metadata": {
        "colab": {
          "base_uri": "https://localhost:8080/"
        },
        "id": "2OavByXfJUpC",
        "outputId": "c7ef686f-ae3d-4c82-aba1-ea4de3155865"
      },
      "source": [
        "y_pred = np.round(balance_model.predict(ax))\n",
        "from sklearn.metrics import classification_report\n",
        "target_names = ['class 0', 'class 1', 'class 2']\n",
        "print(classification_report(ay, y_pred, target_names=target_names))"
      ],
      "execution_count": null,
      "outputs": [
        {
          "output_type": "stream",
          "text": [
            "              precision    recall  f1-score   support\n",
            "\n",
            "     class 0       0.00      0.00      0.00         5\n",
            "     class 1       0.57      1.00      0.73        12\n",
            "     class 2       0.00      0.00      0.00         4\n",
            "\n",
            "   micro avg       0.57      0.57      0.57        21\n",
            "   macro avg       0.19      0.33      0.24        21\n",
            "weighted avg       0.33      0.57      0.42        21\n",
            " samples avg       0.57      0.57      0.57        21\n",
            "\n"
          ],
          "name": "stdout"
        },
        {
          "output_type": "stream",
          "text": [
            "/usr/local/lib/python3.7/dist-packages/sklearn/metrics/_classification.py:1272: UndefinedMetricWarning: Precision and F-score are ill-defined and being set to 0.0 in labels with no predicted samples. Use `zero_division` parameter to control this behavior.\n",
            "  _warn_prf(average, modifier, msg_start, len(result))\n"
          ],
          "name": "stderr"
        }
      ]
    },
    {
      "cell_type": "code",
      "metadata": {
        "id": "N2ons4dHJUmH"
      },
      "source": [
        ""
      ],
      "execution_count": null,
      "outputs": []
    },
    {
      "cell_type": "code",
      "metadata": {
        "id": "t0tJi7_NJUjH"
      },
      "source": [
        ""
      ],
      "execution_count": null,
      "outputs": []
    },
    {
      "cell_type": "code",
      "metadata": {
        "id": "_gbQ1RYzJUfz"
      },
      "source": [
        ""
      ],
      "execution_count": null,
      "outputs": []
    },
    {
      "cell_type": "code",
      "metadata": {
        "id": "l-xWgG7DJUcZ"
      },
      "source": [
        ""
      ],
      "execution_count": null,
      "outputs": []
    },
    {
      "cell_type": "code",
      "metadata": {
        "colab": {
          "base_uri": "https://localhost:8080/",
          "height": 426
        },
        "id": "sOZheZ03pIS0",
        "outputId": "b0565f4e-9f9a-4caa-b08b-3642e5fd435c"
      },
      "source": [
        "# repeat experiment\n",
        "repeats=1\n",
        "scores = list()\n",
        "for r in range(repeats):\n",
        "\tscore = evaluate_model(lstm_trainp, lstm_target)\n",
        "\t# score = score * 100.0\n",
        "\t# print('>#%d: %.3f' % (r+1, score))\n",
        "\t# scores.append(score)"
      ],
      "execution_count": null,
      "outputs": [
        {
          "output_type": "error",
          "ename": "ValueError",
          "evalue": "ignored",
          "traceback": [
            "\u001b[0;31m---------------------------------------------------------------------------\u001b[0m",
            "\u001b[0;31mValueError\u001b[0m                                Traceback (most recent call last)",
            "\u001b[0;32m<ipython-input-200-66a0d921ff73>\u001b[0m in \u001b[0;36m<module>\u001b[0;34m()\u001b[0m\n\u001b[1;32m      3\u001b[0m \u001b[0mscores\u001b[0m \u001b[0;34m=\u001b[0m \u001b[0mlist\u001b[0m\u001b[0;34m(\u001b[0m\u001b[0;34m)\u001b[0m\u001b[0;34m\u001b[0m\u001b[0;34m\u001b[0m\u001b[0m\n\u001b[1;32m      4\u001b[0m \u001b[0;32mfor\u001b[0m \u001b[0mr\u001b[0m \u001b[0;32min\u001b[0m \u001b[0mrange\u001b[0m\u001b[0;34m(\u001b[0m\u001b[0mrepeats\u001b[0m\u001b[0;34m)\u001b[0m\u001b[0;34m:\u001b[0m\u001b[0;34m\u001b[0m\u001b[0;34m\u001b[0m\u001b[0m\n\u001b[0;32m----> 5\u001b[0;31m         \u001b[0mscore\u001b[0m \u001b[0;34m=\u001b[0m \u001b[0mevaluate_model\u001b[0m\u001b[0;34m(\u001b[0m\u001b[0mlstm_trainp\u001b[0m\u001b[0;34m,\u001b[0m \u001b[0mlstm_target\u001b[0m\u001b[0;34m)\u001b[0m\u001b[0;34m\u001b[0m\u001b[0;34m\u001b[0m\u001b[0m\n\u001b[0m\u001b[1;32m      6\u001b[0m         \u001b[0;31m# score = score * 100.0\u001b[0m\u001b[0;34m\u001b[0m\u001b[0;34m\u001b[0m\u001b[0;34m\u001b[0m\u001b[0m\n\u001b[1;32m      7\u001b[0m         \u001b[0;31m# print('>#%d: %.3f' % (r+1, score))\u001b[0m\u001b[0;34m\u001b[0m\u001b[0;34m\u001b[0m\u001b[0;34m\u001b[0m\u001b[0m\n",
            "\u001b[0;32m<ipython-input-196-90557eccf193>\u001b[0m in \u001b[0;36mevaluate_model\u001b[0;34m(trainX, trainy)\u001b[0m\n\u001b[1;32m     10\u001b[0m         \u001b[0mmodel\u001b[0m\u001b[0;34m.\u001b[0m\u001b[0mcompile\u001b[0m\u001b[0;34m(\u001b[0m\u001b[0mloss\u001b[0m\u001b[0;34m=\u001b[0m\u001b[0;34m'categorical_crossentropy'\u001b[0m\u001b[0;34m,\u001b[0m \u001b[0moptimizer\u001b[0m\u001b[0;34m=\u001b[0m\u001b[0;34m'adam'\u001b[0m\u001b[0;34m,\u001b[0m \u001b[0mmetrics\u001b[0m\u001b[0;34m=\u001b[0m\u001b[0;34m[\u001b[0m\u001b[0;34m'accuracy'\u001b[0m\u001b[0;34m]\u001b[0m\u001b[0;34m)\u001b[0m\u001b[0;34m\u001b[0m\u001b[0;34m\u001b[0m\u001b[0m\n\u001b[1;32m     11\u001b[0m         \u001b[0;31m# fit network\u001b[0m\u001b[0;34m\u001b[0m\u001b[0;34m\u001b[0m\u001b[0;34m\u001b[0m\u001b[0m\n\u001b[0;32m---> 12\u001b[0;31m         \u001b[0mmodel\u001b[0m\u001b[0;34m.\u001b[0m\u001b[0mfit\u001b[0m\u001b[0;34m(\u001b[0m\u001b[0mtrainX\u001b[0m\u001b[0;34m,\u001b[0m \u001b[0mtrainy\u001b[0m\u001b[0;34m,\u001b[0m \u001b[0mepochs\u001b[0m\u001b[0;34m=\u001b[0m\u001b[0mepochs\u001b[0m\u001b[0;34m,\u001b[0m \u001b[0mbatch_size\u001b[0m\u001b[0;34m=\u001b[0m\u001b[0mbatch_size\u001b[0m\u001b[0;34m,\u001b[0m \u001b[0mverbose\u001b[0m\u001b[0;34m=\u001b[0m\u001b[0mverbose\u001b[0m\u001b[0;34m)\u001b[0m\u001b[0;34m\u001b[0m\u001b[0;34m\u001b[0m\u001b[0m\n\u001b[0m\u001b[1;32m     13\u001b[0m         \u001b[0;31m# evaluate model\u001b[0m\u001b[0;34m\u001b[0m\u001b[0;34m\u001b[0m\u001b[0;34m\u001b[0m\u001b[0m\n\u001b[1;32m     14\u001b[0m         \u001b[0;31m# _, accuracy = model.evaluate(testX, testy, batch_size=batch_size, verbose=0)\u001b[0m\u001b[0;34m\u001b[0m\u001b[0;34m\u001b[0m\u001b[0;34m\u001b[0m\u001b[0m\n",
            "\u001b[0;32m/usr/local/lib/python3.7/dist-packages/keras/engine/training.py\u001b[0m in \u001b[0;36mfit\u001b[0;34m(self, x, y, batch_size, epochs, verbose, callbacks, validation_split, validation_data, shuffle, class_weight, sample_weight, initial_epoch, steps_per_epoch, validation_steps, validation_batch_size, validation_freq, max_queue_size, workers, use_multiprocessing)\u001b[0m\n\u001b[1;32m   1120\u001b[0m           \u001b[0muse_multiprocessing\u001b[0m\u001b[0;34m=\u001b[0m\u001b[0muse_multiprocessing\u001b[0m\u001b[0;34m,\u001b[0m\u001b[0;34m\u001b[0m\u001b[0;34m\u001b[0m\u001b[0m\n\u001b[1;32m   1121\u001b[0m           \u001b[0mmodel\u001b[0m\u001b[0;34m=\u001b[0m\u001b[0mself\u001b[0m\u001b[0;34m,\u001b[0m\u001b[0;34m\u001b[0m\u001b[0;34m\u001b[0m\u001b[0m\n\u001b[0;32m-> 1122\u001b[0;31m           steps_per_execution=self._steps_per_execution)\n\u001b[0m\u001b[1;32m   1123\u001b[0m \u001b[0;34m\u001b[0m\u001b[0m\n\u001b[1;32m   1124\u001b[0m       \u001b[0;31m# Container that configures and calls `tf.keras.Callback`s.\u001b[0m\u001b[0;34m\u001b[0m\u001b[0;34m\u001b[0m\u001b[0;34m\u001b[0m\u001b[0m\n",
            "\u001b[0;32m/usr/local/lib/python3.7/dist-packages/keras/engine/data_adapter.py\u001b[0m in \u001b[0;36mget_data_handler\u001b[0;34m(*args, **kwargs)\u001b[0m\n\u001b[1;32m   1346\u001b[0m   \u001b[0;32mif\u001b[0m \u001b[0mgetattr\u001b[0m\u001b[0;34m(\u001b[0m\u001b[0mkwargs\u001b[0m\u001b[0;34m[\u001b[0m\u001b[0;34m\"model\"\u001b[0m\u001b[0;34m]\u001b[0m\u001b[0;34m,\u001b[0m \u001b[0;34m\"_cluster_coordinator\"\u001b[0m\u001b[0;34m,\u001b[0m \u001b[0;32mNone\u001b[0m\u001b[0;34m)\u001b[0m\u001b[0;34m:\u001b[0m\u001b[0;34m\u001b[0m\u001b[0;34m\u001b[0m\u001b[0m\n\u001b[1;32m   1347\u001b[0m     \u001b[0;32mreturn\u001b[0m \u001b[0m_ClusterCoordinatorDataHandler\u001b[0m\u001b[0;34m(\u001b[0m\u001b[0;34m*\u001b[0m\u001b[0margs\u001b[0m\u001b[0;34m,\u001b[0m \u001b[0;34m**\u001b[0m\u001b[0mkwargs\u001b[0m\u001b[0;34m)\u001b[0m\u001b[0;34m\u001b[0m\u001b[0;34m\u001b[0m\u001b[0m\n\u001b[0;32m-> 1348\u001b[0;31m   \u001b[0;32mreturn\u001b[0m \u001b[0mDataHandler\u001b[0m\u001b[0;34m(\u001b[0m\u001b[0;34m*\u001b[0m\u001b[0margs\u001b[0m\u001b[0;34m,\u001b[0m \u001b[0;34m**\u001b[0m\u001b[0mkwargs\u001b[0m\u001b[0;34m)\u001b[0m\u001b[0;34m\u001b[0m\u001b[0;34m\u001b[0m\u001b[0m\n\u001b[0m\u001b[1;32m   1349\u001b[0m \u001b[0;34m\u001b[0m\u001b[0m\n\u001b[1;32m   1350\u001b[0m \u001b[0;34m\u001b[0m\u001b[0m\n",
            "\u001b[0;32m/usr/local/lib/python3.7/dist-packages/keras/engine/data_adapter.py\u001b[0m in \u001b[0;36m__init__\u001b[0;34m(self, x, y, sample_weight, batch_size, steps_per_epoch, initial_epoch, epochs, shuffle, class_weight, max_queue_size, workers, use_multiprocessing, model, steps_per_execution, distribute)\u001b[0m\n\u001b[1;32m   1148\u001b[0m         \u001b[0muse_multiprocessing\u001b[0m\u001b[0;34m=\u001b[0m\u001b[0muse_multiprocessing\u001b[0m\u001b[0;34m,\u001b[0m\u001b[0;34m\u001b[0m\u001b[0;34m\u001b[0m\u001b[0m\n\u001b[1;32m   1149\u001b[0m         \u001b[0mdistribution_strategy\u001b[0m\u001b[0;34m=\u001b[0m\u001b[0mtf\u001b[0m\u001b[0;34m.\u001b[0m\u001b[0mdistribute\u001b[0m\u001b[0;34m.\u001b[0m\u001b[0mget_strategy\u001b[0m\u001b[0;34m(\u001b[0m\u001b[0;34m)\u001b[0m\u001b[0;34m,\u001b[0m\u001b[0;34m\u001b[0m\u001b[0;34m\u001b[0m\u001b[0m\n\u001b[0;32m-> 1150\u001b[0;31m         model=model)\n\u001b[0m\u001b[1;32m   1151\u001b[0m \u001b[0;34m\u001b[0m\u001b[0m\n\u001b[1;32m   1152\u001b[0m     \u001b[0mstrategy\u001b[0m \u001b[0;34m=\u001b[0m \u001b[0mtf\u001b[0m\u001b[0;34m.\u001b[0m\u001b[0mdistribute\u001b[0m\u001b[0;34m.\u001b[0m\u001b[0mget_strategy\u001b[0m\u001b[0;34m(\u001b[0m\u001b[0;34m)\u001b[0m\u001b[0;34m\u001b[0m\u001b[0;34m\u001b[0m\u001b[0m\n",
            "\u001b[0;32m/usr/local/lib/python3.7/dist-packages/keras/engine/data_adapter.py\u001b[0m in \u001b[0;36m__init__\u001b[0;34m(self, x, y, sample_weights, sample_weight_modes, batch_size, epochs, steps, shuffle, **kwargs)\u001b[0m\n\u001b[1;32m    240\u001b[0m \u001b[0;34m\u001b[0m\u001b[0m\n\u001b[1;32m    241\u001b[0m     \u001b[0mnum_samples\u001b[0m \u001b[0;34m=\u001b[0m \u001b[0mset\u001b[0m\u001b[0;34m(\u001b[0m\u001b[0mint\u001b[0m\u001b[0;34m(\u001b[0m\u001b[0mi\u001b[0m\u001b[0;34m.\u001b[0m\u001b[0mshape\u001b[0m\u001b[0;34m[\u001b[0m\u001b[0;36m0\u001b[0m\u001b[0;34m]\u001b[0m\u001b[0;34m)\u001b[0m \u001b[0;32mfor\u001b[0m \u001b[0mi\u001b[0m \u001b[0;32min\u001b[0m \u001b[0mtf\u001b[0m\u001b[0;34m.\u001b[0m\u001b[0mnest\u001b[0m\u001b[0;34m.\u001b[0m\u001b[0mflatten\u001b[0m\u001b[0;34m(\u001b[0m\u001b[0minputs\u001b[0m\u001b[0;34m)\u001b[0m\u001b[0;34m)\u001b[0m\u001b[0;34m.\u001b[0m\u001b[0mpop\u001b[0m\u001b[0;34m(\u001b[0m\u001b[0;34m)\u001b[0m\u001b[0;34m\u001b[0m\u001b[0;34m\u001b[0m\u001b[0m\n\u001b[0;32m--> 242\u001b[0;31m     \u001b[0m_check_data_cardinality\u001b[0m\u001b[0;34m(\u001b[0m\u001b[0minputs\u001b[0m\u001b[0;34m)\u001b[0m\u001b[0;34m\u001b[0m\u001b[0;34m\u001b[0m\u001b[0m\n\u001b[0m\u001b[1;32m    243\u001b[0m \u001b[0;34m\u001b[0m\u001b[0m\n\u001b[1;32m    244\u001b[0m     \u001b[0;31m# If batch_size is not passed but steps is, calculate from the input data.\u001b[0m\u001b[0;34m\u001b[0m\u001b[0;34m\u001b[0m\u001b[0;34m\u001b[0m\u001b[0m\n",
            "\u001b[0;32m/usr/local/lib/python3.7/dist-packages/keras/engine/data_adapter.py\u001b[0m in \u001b[0;36m_check_data_cardinality\u001b[0;34m(data)\u001b[0m\n\u001b[1;32m   1612\u001b[0m           label, \", \".join(str(i.shape[0]) for i in tf.nest.flatten(single_data)))\n\u001b[1;32m   1613\u001b[0m     \u001b[0mmsg\u001b[0m \u001b[0;34m+=\u001b[0m \u001b[0;34m\"Make sure all arrays contain the same number of samples.\"\u001b[0m\u001b[0;34m\u001b[0m\u001b[0;34m\u001b[0m\u001b[0m\n\u001b[0;32m-> 1614\u001b[0;31m     \u001b[0;32mraise\u001b[0m \u001b[0mValueError\u001b[0m\u001b[0;34m(\u001b[0m\u001b[0mmsg\u001b[0m\u001b[0;34m)\u001b[0m\u001b[0;34m\u001b[0m\u001b[0;34m\u001b[0m\u001b[0m\n\u001b[0m\u001b[1;32m   1615\u001b[0m \u001b[0;34m\u001b[0m\u001b[0m\n\u001b[1;32m   1616\u001b[0m \u001b[0;34m\u001b[0m\u001b[0m\n",
            "\u001b[0;31mValueError\u001b[0m: Data cardinality is ambiguous:\n  x sizes: 1\n  y sizes: 24672\nMake sure all arrays contain the same number of samples."
          ]
        }
      ]
    },
    {
      "cell_type": "code",
      "metadata": {
        "colab": {
          "base_uri": "https://localhost:8080/"
        },
        "id": "NGmZ53XXpIO-",
        "outputId": "c641ac6d-3a8b-4f1d-eb45-dca4c9e3ab32"
      },
      "source": [
        "lstm_target.shape"
      ],
      "execution_count": null,
      "outputs": [
        {
          "output_type": "execute_result",
          "data": {
            "text/plain": [
              "(24672, 3)"
            ]
          },
          "metadata": {
            "tags": []
          },
          "execution_count": 201
        }
      ]
    },
    {
      "cell_type": "code",
      "metadata": {
        "colab": {
          "base_uri": "https://localhost:8080/"
        },
        "id": "qAJHhSCspIMd",
        "outputId": "e950f361-be74-4892-86dc-73082882336e"
      },
      "source": [
        "lstm_trainp.shape"
      ],
      "execution_count": null,
      "outputs": [
        {
          "output_type": "execute_result",
          "data": {
            "text/plain": [
              "(1, 24672, 185)"
            ]
          },
          "metadata": {
            "tags": []
          },
          "execution_count": 203
        }
      ]
    },
    {
      "cell_type": "code",
      "metadata": {
        "id": "J_AOWOdJpIKH"
      },
      "source": [
        ""
      ],
      "execution_count": null,
      "outputs": []
    },
    {
      "cell_type": "code",
      "metadata": {
        "id": "ht_aIj6fpIEl"
      },
      "source": [
        ""
      ],
      "execution_count": null,
      "outputs": []
    },
    {
      "cell_type": "code",
      "metadata": {
        "id": "tJwhvfA9pICF"
      },
      "source": [
        ""
      ],
      "execution_count": null,
      "outputs": []
    },
    {
      "cell_type": "code",
      "metadata": {
        "id": "FMYnL6Y0vdvT"
      },
      "source": [
        "trainp.drop(['QQEs_14_5_4.236', 'PSARs_0.02_0.2', 'SUPERTl_7_3.0', 'SUPERTs_7_3.0',\n",
        "       'PSARl_0.02_0.2', 'QQEl_14_5_4.236', 'HILOl_13_21', 'HILOs_13_21','open','volume'],inplace=True,axis=1)\n",
        "# testp.drop(['QQEs_14_5_4.236', 'PSARs_0.02_0.2', 'SUPERTl_7_3.0', 'SUPERTs_7_3.0',\n",
        "    #    'PSARl_0.02_0.2', 'QQEl_14_5_4.236', 'HILOl_13_21', 'HILOs_13_21','open','volume'],inplace=True,axis=1)\n",
        "trainp.dropna(inplace=True)\n",
        "# testp.dropna(inplace=True)"
      ],
      "execution_count": null,
      "outputs": []
    },
    {
      "cell_type": "code",
      "metadata": {
        "id": "tFJlIJR4vhcM"
      },
      "source": [
        "X = trainp.drop(['final_buy'],axis=1)\n",
        "y = trainp.final_buy"
      ],
      "execution_count": null,
      "outputs": []
    },
    {
      "cell_type": "code",
      "metadata": {
        "id": "6VLopi_91Tjc"
      },
      "source": [
        "from imblearn.combine import SMOTETomek\n",
        "from imblearn.under_sampling import NearMiss"
      ],
      "execution_count": null,
      "outputs": []
    },
    {
      "cell_type": "code",
      "metadata": {
        "id": "xCavo7i_1VhP"
      },
      "source": [
        "# Implementing Oversampling for Handling Imbalanced \n",
        "smk = SMOTETomek(random_state=42)\n",
        "X_res,y_res=smk.fit_sample(X,y)"
      ],
      "execution_count": null,
      "outputs": []
    },
    {
      "cell_type": "code",
      "metadata": {
        "id": "ZhSOFOrB1VeN"
      },
      "source": [
        "X_res.shape"
      ],
      "execution_count": null,
      "outputs": []
    },
    {
      "cell_type": "code",
      "metadata": {
        "id": "jQ-0cWUPvjlZ"
      },
      "source": [
        "from sklearn.model_selection import train_test_split\n",
        "X_trainXG, X_testXG, y_trainXG, y_testXG = train_test_split(X_res,y_res, test_size = 0.2, random_state = 0)"
      ],
      "execution_count": null,
      "outputs": []
    },
    {
      "cell_type": "code",
      "metadata": {
        "colab": {
          "base_uri": "https://localhost:8080/"
        },
        "id": "LaWIzi_Yvwqj",
        "outputId": "6b3ffc1e-c943-4470-8098-4c405e37819f"
      },
      "source": [
        "import xgboost as xgb\n",
        "my_model = xgb.XGBClassifier()\n",
        "my_model.fit(X_trainXG, y_trainXG)"
      ],
      "execution_count": null,
      "outputs": [
        {
          "output_type": "execute_result",
          "data": {
            "text/plain": [
              "XGBClassifier(base_score=0.5, booster='gbtree', colsample_bylevel=1,\n",
              "              colsample_bynode=1, colsample_bytree=1, gamma=0,\n",
              "              learning_rate=0.1, max_delta_step=0, max_depth=3,\n",
              "              min_child_weight=1, missing=None, n_estimators=100, n_jobs=1,\n",
              "              nthread=None, objective='multi:softprob', random_state=0,\n",
              "              reg_alpha=0, reg_lambda=1, scale_pos_weight=1, seed=None,\n",
              "              silent=None, subsample=1, verbosity=1)"
            ]
          },
          "metadata": {
            "tags": []
          },
          "execution_count": 234
        }
      ]
    },
    {
      "cell_type": "code",
      "metadata": {
        "colab": {
          "base_uri": "https://localhost:8080/"
        },
        "id": "pHZBYzbxvynZ",
        "outputId": "695d6d44-3ab0-41e6-b9cb-1b24ac8c4631"
      },
      "source": [
        "# Predicting the Test set results\n",
        "y_pred = my_model.predict(X_testXG)\n",
        "from sklearn.metrics import accuracy_score\n",
        "accuracy_score(y_testXG, y_pred)"
      ],
      "execution_count": null,
      "outputs": [
        {
          "output_type": "execute_result",
          "data": {
            "text/plain": [
              "0.9630161851459689"
            ]
          },
          "metadata": {
            "tags": []
          },
          "execution_count": 235
        }
      ]
    },
    {
      "cell_type": "code",
      "metadata": {
        "colab": {
          "base_uri": "https://localhost:8080/"
        },
        "id": "6CaSWd_30Wao",
        "outputId": "4e4f0b24-eb07-43e8-dcf7-bf01dbf601df"
      },
      "source": [
        "from sklearn.metrics import classification_report\n",
        "target_names = ['class 0', 'class 1', 'class 2']\n",
        "print(classification_report(y_testXG, y_pred, target_names=target_names))"
      ],
      "execution_count": null,
      "outputs": [
        {
          "output_type": "stream",
          "text": [
            "              precision    recall  f1-score   support\n",
            "\n",
            "     class 0       0.97      0.98      0.97      4394\n",
            "     class 1       0.96      0.92      0.94      4336\n",
            "     class 2       0.96      0.99      0.97      4492\n",
            "\n",
            "    accuracy                           0.96     13222\n",
            "   macro avg       0.96      0.96      0.96     13222\n",
            "weighted avg       0.96      0.96      0.96     13222\n",
            "\n"
          ],
          "name": "stdout"
        }
      ]
    },
    {
      "cell_type": "code",
      "metadata": {
        "id": "rTw_3s0cwQ7q"
      },
      "source": [
        "import yfinance as yf"
      ],
      "execution_count": null,
      "outputs": []
    },
    {
      "cell_type": "code",
      "metadata": {
        "colab": {
          "base_uri": "https://localhost:8080/"
        },
        "id": "N0WSqhpPv4D9",
        "outputId": "18d99513-7a76-4bde-da3d-10cb84e6ac82"
      },
      "source": [
        "start = dt.datetime.today()-dt.timedelta(59)\n",
        "end = dt.datetime.today()\n",
        "fdf = yf.download('AXISBANK.NS',start=start, end=end,interval='15m')\n",
        "fdf.ta.strategy(ta.AllStrategy)"
      ],
      "execution_count": null,
      "outputs": [
        {
          "output_type": "stream",
          "text": [
            "\r[*********************100%***********************]  1 of 1 completed\n"
          ],
          "name": "stdout"
        },
        {
          "output_type": "stream",
          "text": [
            "/usr/local/lib/python3.7/dist-packages/pandas/core/arrays/datetimes.py:1092: UserWarning: Converting to PeriodArray/Index representation will drop timezone information.\n",
            "  UserWarning,\n",
            "/usr/local/lib/python3.7/dist-packages/pandas/core/arrays/datetimes.py:1092: UserWarning: Converting to PeriodArray/Index representation will drop timezone information.\n",
            "  UserWarning,\n"
          ],
          "name": "stderr"
        }
      ]
    },
    {
      "cell_type": "code",
      "metadata": {
        "colab": {
          "base_uri": "https://localhost:8080/"
        },
        "id": "MgacmSEewPjZ",
        "outputId": "ff4da371-978b-4b2c-e386-69a46cc491e4"
      },
      "source": [
        "axis = stockBuySell(fdf)"
      ],
      "execution_count": null,
      "outputs": [
        {
          "output_type": "stream",
          "text": [
            "Buy on day:  20 \t Sell on day:  23 \t Profit:  8.0999755859375\n",
            "Buy on day:  24 \t Sell on day:  27 \t Profit:  16.60003662109375\n",
            "Buy on day:  34 \t Sell on day:  39 \t Profit:  8.45001220703125\n",
            "Buy on day:  40 \t Sell on day:  42 \t Profit:  5.9000244140625\n",
            "Buy on day:  58 \t Sell on day:  60 \t Profit:  6.39996337890625\n",
            "Buy on day:  61 \t Sell on day:  65 \t Profit:  7.95001220703125\n",
            "Buy on day:  75 \t Sell on day:  78 \t Profit:  13.25\n",
            "Buy on day:  81 \t Sell on day:  88 \t Profit:  5.20001220703125\n",
            "Buy on day:  97 \t Sell on day:  103 \t Profit:  25.45001220703125\n",
            "Buy on day:  105 \t Sell on day:  107 \t Profit:  5.75\n",
            "Buy on day:  117 \t Sell on day:  120 \t Profit:  6.9000244140625\n",
            "Buy on day:  123 \t Sell on day:  125 \t Profit:  6.75\n",
            "Buy on day:  131 \t Sell on day:  134 \t Profit:  10.64996337890625\n",
            "Buy on day:  147 \t Sell on day:  148 \t Profit:  5.54998779296875\n",
            "Buy on day:  149 \t Sell on day:  151 \t Profit:  7.39996337890625\n",
            "Buy on day:  161 \t Sell on day:  167 \t Profit:  9.64996337890625\n",
            "Buy on day:  174 \t Sell on day:  175 \t Profit:  12.29998779296875\n",
            "Buy on day:  197 \t Sell on day:  198 \t Profit:  6.25\n",
            "Buy on day:  219 \t Sell on day:  224 \t Profit:  21.3499755859375\n",
            "Buy on day:  225 \t Sell on day:  230 \t Profit:  5.20001220703125\n",
            "Buy on day:  257 \t Sell on day:  258 \t Profit:  6.14996337890625\n",
            "Buy on day:  274 \t Sell on day:  276 \t Profit:  14.5\n",
            "Buy on day:  284 \t Sell on day:  286 \t Profit:  5.75\n",
            "Buy on day:  296 \t Sell on day:  298 \t Profit:  10.0999755859375\n",
            "Buy on day:  300 \t Sell on day:  303 \t Profit:  14.6500244140625\n",
            "Buy on day:  311 \t Sell on day:  312 \t Profit:  5.5999755859375\n",
            "Buy on day:  314 \t Sell on day:  318 \t Profit:  9.45001220703125\n",
            "Buy on day:  319 \t Sell on day:  323 \t Profit:  11.54998779296875\n",
            "Buy on day:  349 \t Sell on day:  350 \t Profit:  8.8499755859375\n",
            "Buy on day:  354 \t Sell on day:  356 \t Profit:  9.5\n",
            "Buy on day:  366 \t Sell on day:  371 \t Profit:  13.95001220703125\n",
            "Buy on day:  383 \t Sell on day:  385 \t Profit:  5.0\n",
            "Buy on day:  415 \t Sell on day:  417 \t Profit:  17.45001220703125\n",
            "Buy on day:  420 \t Sell on day:  421 \t Profit:  5.54998779296875\n",
            "Buy on day:  424 \t Sell on day:  425 \t Profit:  9.35003662109375\n",
            "Buy on day:  432 \t Sell on day:  436 \t Profit:  5.0999755859375\n",
            "Buy on day:  448 \t Sell on day:  454 \t Profit:  15.54998779296875\n",
            "Buy on day:  473 \t Sell on day:  476 \t Profit:  8.5\n",
            "Buy on day:  491 \t Sell on day:  494 \t Profit:  6.20001220703125\n",
            "Buy on day:  501 \t Sell on day:  504 \t Profit:  5.1500244140625\n",
            "Buy on day:  514 \t Sell on day:  517 \t Profit:  8.5\n",
            "Buy on day:  518 \t Sell on day:  520 \t Profit:  7.9000244140625\n",
            "Buy on day:  532 \t Sell on day:  538 \t Profit:  12.8499755859375\n",
            "Buy on day:  547 \t Sell on day:  551 \t Profit:  6.35003662109375\n",
            "Buy on day:  563 \t Sell on day:  565 \t Profit:  5.54998779296875\n",
            "Buy on day:  572 \t Sell on day:  576 \t Profit:  5.20001220703125\n",
            "Buy on day:  580 \t Sell on day:  582 \t Profit:  10.29998779296875\n",
            "Buy on day:  585 \t Sell on day:  590 \t Profit:  7.95001220703125\n",
            "Buy on day:  599 \t Sell on day:  600 \t Profit:  6.75\n",
            "Buy on day:  627 \t Sell on day:  629 \t Profit:  6.5\n",
            "Buy on day:  671 \t Sell on day:  675 \t Profit:  14.54998779296875\n",
            "Buy on day:  676 \t Sell on day:  680 \t Profit:  7.75\n",
            "Buy on day:  690 \t Sell on day:  696 \t Profit:  15.9000244140625\n",
            "Buy on day:  707 \t Sell on day:  711 \t Profit:  13.25\n",
            "Buy on day:  721 \t Sell on day:  723 \t Profit:  8.4000244140625\n",
            "Buy on day:  744 \t Sell on day:  746 \t Profit:  5.04998779296875\n",
            "Buy on day:  751 \t Sell on day:  755 \t Profit:  8.20001220703125\n",
            "Buy on day:  770 \t Sell on day:  773 \t Profit:  8.29998779296875\n",
            "Buy on day:  774 \t Sell on day:  776 \t Profit:  13.45001220703125\n",
            "Buy on day:  797 \t Sell on day:  798 \t Profit:  9.95001220703125\n",
            "Buy on day:  801 \t Sell on day:  804 \t Profit:  9.35003662109375\n",
            "Buy on day:  805 \t Sell on day:  809 \t Profit:  10.0999755859375\n",
            "Buy on day:  816 \t Sell on day:  823 \t Profit:  5.9000244140625\n",
            "Buy on day:  825 \t Sell on day:  829 \t Profit:  12.95001220703125\n",
            "Buy on day:  830 \t Sell on day:  834 \t Profit:  7.0\n",
            "Buy on day:  846 \t Sell on day:  848 \t Profit:  6.75\n",
            "Buy on day:  849 \t Sell on day:  850 \t Profit:  24.3499755859375\n",
            "Buy on day:  851 \t Sell on day:  853 \t Profit:  6.14996337890625\n",
            "Buy on day:  855 \t Sell on day:  857 \t Profit:  6.54998779296875\n",
            "Buy on day:  863 \t Sell on day:  864 \t Profit:  5.75\n",
            "Buy on day:  870 \t Sell on day:  872 \t Profit:  5.54998779296875\n",
            "Buy on day:  878 \t Sell on day:  886 \t Profit:  15.300048828125\n",
            "Buy on day:  908 \t Sell on day:  915 \t Profit:  14.5\n",
            "Buy on day:  917 \t Sell on day:  922 \t Profit:  8.04998779296875\n",
            "Buy on day:  924 \t Sell on day:  926 \t Profit:  17.6500244140625\n"
          ],
          "name": "stdout"
        },
        {
          "output_type": "stream",
          "text": [
            "/usr/local/lib/python3.7/dist-packages/ipykernel_launcher.py:62: SettingWithCopyWarning: \n",
            "A value is trying to be set on a copy of a slice from a DataFrame\n",
            "\n",
            "See the caveats in the documentation: https://pandas.pydata.org/pandas-docs/stable/user_guide/indexing.html#returning-a-view-versus-a-copy\n",
            "/usr/local/lib/python3.7/dist-packages/ipykernel_launcher.py:63: SettingWithCopyWarning: \n",
            "A value is trying to be set on a copy of a slice from a DataFrame\n",
            "\n",
            "See the caveats in the documentation: https://pandas.pydata.org/pandas-docs/stable/user_guide/indexing.html#returning-a-view-versus-a-copy\n"
          ],
          "name": "stderr"
        }
      ]
    },
    {
      "cell_type": "code",
      "metadata": {
        "id": "wOr-LoeGwekJ"
      },
      "source": [
        "axis.drop(['QQEs_14_5_4.236', 'PSARs_0.02_0.2', 'SUPERTl_7_3.0', 'SUPERTs_7_3.0',\n",
        "       'PSARl_0.02_0.2', 'QQEl_14_5_4.236', 'HILOl_13_21', 'HILOs_13_21','open','volume'],inplace=True,axis=1)\n",
        "axis.dropna(inplace=True)"
      ],
      "execution_count": null,
      "outputs": []
    },
    {
      "cell_type": "code",
      "metadata": {
        "id": "VG3bXgddxFeK"
      },
      "source": [
        "ax = axis.drop(['final_buy'],axis=1)\n",
        "ay = axis.final_buy"
      ],
      "execution_count": null,
      "outputs": []
    },
    {
      "cell_type": "code",
      "metadata": {
        "id": "G_cIPkbY4UuC"
      },
      "source": [
        "ax.drop(['VTXM_14'],axis=1,inplace=True)"
      ],
      "execution_count": null,
      "outputs": []
    },
    {
      "cell_type": "code",
      "metadata": {
        "colab": {
          "base_uri": "https://localhost:8080/"
        },
        "id": "wid5R1AC47JE",
        "outputId": "5af7a861-3369-428b-df80-dab6d05dfed2"
      },
      "source": [
        "ax.shape"
      ],
      "execution_count": null,
      "outputs": [
        {
          "output_type": "execute_result",
          "data": {
            "text/plain": [
              "(847, 186)"
            ]
          },
          "metadata": {
            "tags": []
          },
          "execution_count": 243
        }
      ]
    },
    {
      "cell_type": "code",
      "metadata": {
        "colab": {
          "base_uri": "https://localhost:8080/"
        },
        "id": "xOaAlYII2Ney",
        "outputId": "34ba751c-f170-43a4-efea-03f88233da58"
      },
      "source": [
        "X_res.shape"
      ],
      "execution_count": null,
      "outputs": [
        {
          "output_type": "execute_result",
          "data": {
            "text/plain": [
              "(66109, 186)"
            ]
          },
          "metadata": {
            "tags": []
          },
          "execution_count": 244
        }
      ]
    },
    {
      "cell_type": "code",
      "metadata": {
        "id": "DX_sMK7A2q2s"
      },
      "source": [
        "res_col = ['f0', 'f1', 'f2', 'f3', 'f4', 'f5', 'f6', 'f7', 'f8', 'f9', 'f10', 'f11', 'f12', 'f13', 'f14', 'f15', 'f16', 'f17', 'f18', 'f19', 'f20', 'f21', 'f22', 'f23', 'f24', 'f25', 'f26', 'f27', 'f28', 'f29', 'f30', 'f31', 'f32', 'f33', 'f34', 'f35', 'f36', 'f37', 'f38', 'f39', 'f40', 'f41', 'f42', 'f43', 'f44', 'f45', 'f46', 'f47', 'f48', 'f49', 'f50', 'f51', 'f52', 'f53', 'f54', 'f55', 'f56', 'f57', 'f58', 'f59', 'f60', 'f61', 'f62', 'f63', 'f64', 'f65', 'f66', 'f67', 'f68', 'f69', 'f70', 'f71', 'f72', 'f73', 'f74', 'f75', 'f76', 'f77', 'f78', 'f79', 'f80', 'f81', 'f82', 'f83', 'f84', 'f85', 'f86', 'f87', 'f88', 'f89', 'f90', 'f91', 'f92', 'f93', 'f94', 'f95', 'f96', 'f97', 'f98', 'f99', 'f100', 'f101', 'f102', 'f103', 'f104', 'f105', 'f106', 'f107', 'f108', 'f109', 'f110', 'f111', 'f112', 'f113', 'f114', 'f115', 'f116', 'f117', 'f118', 'f119', 'f120', 'f121', 'f122', 'f123', 'f124', 'f125', 'f126', 'f127', 'f128', 'f129', 'f130', 'f131', 'f132', 'f133', 'f134', 'f135', 'f136', 'f137', 'f138', 'f139', 'f140', 'f141', 'f142', 'f143', 'f144', 'f145', 'f146', 'f147', 'f148', 'f149', 'f150', 'f151', 'f152', 'f153', 'f154', 'f155', 'f156', 'f157', 'f158', 'f159', 'f160', 'f161', 'f162', 'f163', 'f164', 'f165', 'f166', 'f167', 'f168', 'f169', 'f170', 'f171', 'f172', 'f173', 'f174', 'f175', 'f176', 'f177', 'f178', 'f179', 'f180', 'f181', 'f182', 'f183', 'f184', 'f185']"
      ],
      "execution_count": null,
      "outputs": []
    },
    {
      "cell_type": "code",
      "metadata": {
        "id": "FEAc3iGA2txN"
      },
      "source": [
        "ax_col =  ax.columns"
      ],
      "execution_count": null,
      "outputs": []
    },
    {
      "cell_type": "code",
      "metadata": {
        "id": "p8H0xvFc2P2_"
      },
      "source": [
        "ccc = zip(ax_col, res_col)\n",
        "a_dictionary = dict(ccc)"
      ],
      "execution_count": null,
      "outputs": []
    },
    {
      "cell_type": "code",
      "metadata": {
        "id": "rABOC28hwjl8"
      },
      "source": [
        "ax = ax[X.columns]"
      ],
      "execution_count": null,
      "outputs": []
    },
    {
      "cell_type": "code",
      "metadata": {
        "id": "soKZ30yY3aeL"
      },
      "source": [
        "ax.rename(columns = a_dictionary, inplace = True)"
      ],
      "execution_count": null,
      "outputs": []
    },
    {
      "cell_type": "code",
      "metadata": {
        "colab": {
          "base_uri": "https://localhost:8080/"
        },
        "id": "_hp446tO9kiu",
        "outputId": "b873aeed-b61d-4ff7-d926-1fd550f85248"
      },
      "source": [
        "# Implementing Oversampling for Handling Imbalanced \n",
        "smk = SMOTETomek(random_state=42)\n",
        "X_org,y_org=smk.fit_sample(ax,ay)"
      ],
      "execution_count": null,
      "outputs": [
        {
          "output_type": "stream",
          "text": [
            "/usr/local/lib/python3.7/dist-packages/sklearn/utils/deprecation.py:87: FutureWarning: Function safe_indexing is deprecated; safe_indexing is deprecated in version 0.22 and will be removed in version 0.24.\n",
            "  warnings.warn(msg, category=FutureWarning)\n",
            "/usr/local/lib/python3.7/dist-packages/sklearn/utils/deprecation.py:87: FutureWarning: Function safe_indexing is deprecated; safe_indexing is deprecated in version 0.22 and will be removed in version 0.24.\n",
            "  warnings.warn(msg, category=FutureWarning)\n",
            "/usr/local/lib/python3.7/dist-packages/sklearn/utils/deprecation.py:87: FutureWarning: Function safe_indexing is deprecated; safe_indexing is deprecated in version 0.22 and will be removed in version 0.24.\n",
            "  warnings.warn(msg, category=FutureWarning)\n"
          ],
          "name": "stderr"
        }
      ]
    },
    {
      "cell_type": "code",
      "metadata": {
        "colab": {
          "base_uri": "https://localhost:8080/"
        },
        "id": "89S-2FaBwsJN",
        "outputId": "0a01b44a-dd19-4f12-bebe-6e87a4093fc4"
      },
      "source": [
        "# Predicting the Test set results\n",
        "y_pred = my_model.predict(X_org)\n",
        "from sklearn.metrics import accuracy_score\n",
        "accuracy_score(y_org, y_pred)"
      ],
      "execution_count": null,
      "outputs": [
        {
          "output_type": "execute_result",
          "data": {
            "text/plain": [
              "0.3687374749498998"
            ]
          },
          "metadata": {
            "tags": []
          },
          "execution_count": 255
        }
      ]
    },
    {
      "cell_type": "code",
      "metadata": {
        "colab": {
          "base_uri": "https://localhost:8080/"
        },
        "id": "mfUv4yVW4tER",
        "outputId": "e2c673e0-184b-4f80-cb63-35808b9ad3d5"
      },
      "source": [
        "from sklearn.metrics import classification_report\n",
        "target_names = ['class 0', 'class 1', 'class 2']\n",
        "print(classification_report(y_org, y_pred, target_names=target_names))"
      ],
      "execution_count": null,
      "outputs": [
        {
          "output_type": "stream",
          "text": [
            "              precision    recall  f1-score   support\n",
            "\n",
            "     class 0       0.50      0.10      0.16       672\n",
            "     class 1       0.36      0.97      0.53       646\n",
            "     class 2       0.34      0.06      0.10       678\n",
            "\n",
            "    accuracy                           0.37      1996\n",
            "   macro avg       0.40      0.38      0.27      1996\n",
            "weighted avg       0.40      0.37      0.26      1996\n",
            "\n"
          ],
          "name": "stdout"
        }
      ]
    },
    {
      "cell_type": "code",
      "metadata": {
        "colab": {
          "base_uri": "https://localhost:8080/"
        },
        "id": "WxltB0Riy5cz",
        "outputId": "d0a00499-d86d-4fbb-b6e0-31a996857465"
      },
      "source": [
        "my_model.predict(ax.iloc[0:])"
      ],
      "execution_count": null,
      "outputs": [
        {
          "output_type": "execute_result",
          "data": {
            "text/plain": [
              "array(['no', 'no', 'no', 'no', 'no', 'no', 'no', 'no', 'no', 'no', 'no',\n",
              "       'no', 'no', 'no', 'no', 'no', 'no', 'no', 'no', 'no', 'no', 'no',\n",
              "       'no', 'no', 'no', 'no', 'no', 'no', 'no', 'no', 'no', 'no', 'no',\n",
              "       'sell', 'no', 'no', 'no', 'no', 'no', 'no', 'no', 'no', 'no', 'no',\n",
              "       'no', 'no', 'no', 'no', 'no', 'no', 'no', 'no', 'no', 'no', 'no',\n",
              "       'no', 'sell', 'no', 'no', 'sell', 'no', 'no', 'no', 'no', 'no',\n",
              "       'no', 'no', 'no', 'no', 'no', 'no', 'no', 'no', 'no', 'no', 'no',\n",
              "       'no', 'no', 'no', 'no', 'no', 'no', 'no', 'no', 'no', 'no', 'no',\n",
              "       'no', 'no', 'no', 'no', 'no', 'no', 'no', 'no', 'no', 'no', 'no',\n",
              "       'no', 'no', 'sell', 'no', 'no', 'no', 'no', 'no', 'no', 'no', 'no',\n",
              "       'no', 'no', 'no', 'no', 'no', 'no', 'no', 'no', 'no', 'no', 'no',\n",
              "       'no', 'no', 'no', 'no', 'no', 'no', 'no', 'no', 'no', 'no', 'no',\n",
              "       'no', 'no', 'no', 'no', 'no', 'no', 'no', 'no', 'no', 'no', 'no',\n",
              "       'no', 'no', 'no', 'no', 'no', 'no', 'no', 'no', 'no', 'no', 'no',\n",
              "       'no', 'no', 'no', 'no', 'no', 'no', 'no', 'no', 'no', 'no', 'no',\n",
              "       'no', 'no', 'no', 'no', 'no', 'no', 'no', 'no', 'no', 'no', 'no',\n",
              "       'no', 'no', 'no', 'no', 'no', 'no', 'no', 'no', 'no', 'buy', 'no',\n",
              "       'buy', 'no', 'buy', 'no', 'no', 'no', 'no', 'no', 'no', 'no', 'no',\n",
              "       'no', 'no', 'no', 'no', 'no', 'no', 'no', 'no', 'no', 'no', 'no',\n",
              "       'no', 'no', 'no', 'no', 'no', 'no', 'no', 'no', 'no', 'no', 'no',\n",
              "       'no', 'no', 'no', 'no', 'no', 'no', 'no', 'no', 'no', 'no', 'no',\n",
              "       'no', 'no', 'no', 'no', 'no', 'no', 'no', 'no', 'no', 'no', 'no',\n",
              "       'no', 'no', 'no', 'no', 'no', 'no', 'no', 'no', 'no', 'no', 'no',\n",
              "       'no', 'no', 'no', 'no', 'no', 'no', 'no', 'no', 'no', 'no', 'no',\n",
              "       'no', 'no', 'no', 'no', 'no', 'no', 'no', 'no', 'no', 'sell', 'no',\n",
              "       'no', 'no', 'no', 'no', 'no', 'no', 'no', 'sell', 'sell', 'sell',\n",
              "       'no', 'no', 'no', 'sell', 'no', 'no', 'no', 'no', 'no', 'no', 'no',\n",
              "       'no', 'sell', 'sell', 'no', 'no', 'no', 'no', 'sell', 'no', 'no',\n",
              "       'no', 'no', 'no', 'no', 'no', 'no', 'no', 'no', 'no', 'no', 'no',\n",
              "       'no', 'no', 'no', 'no', 'no', 'no', 'no', 'no', 'no', 'no', 'no',\n",
              "       'no', 'no', 'no', 'no', 'no', 'no', 'no', 'no', 'no', 'no', 'no',\n",
              "       'no', 'no', 'no', 'no', 'no', 'no', 'no', 'no', 'no', 'no', 'no',\n",
              "       'no', 'no', 'no', 'no', 'no', 'no', 'no', 'no', 'no', 'no', 'no',\n",
              "       'no', 'no', 'no', 'no', 'no', 'no', 'no', 'no', 'no', 'no', 'no',\n",
              "       'no', 'no', 'no', 'no', 'no', 'no', 'no', 'no', 'no', 'no', 'no',\n",
              "       'no', 'no', 'sell', 'no', 'no', 'no', 'no', 'no', 'no', 'no', 'no',\n",
              "       'no', 'no', 'no', 'no', 'no', 'no', 'no', 'no', 'no', 'no', 'no',\n",
              "       'no', 'no', 'no', 'no', 'no', 'no', 'no', 'no', 'no', 'no', 'no',\n",
              "       'no', 'no', 'no', 'no', 'no', 'no', 'no', 'no', 'no', 'no', 'no',\n",
              "       'no', 'no', 'no', 'no', 'no', 'no', 'no', 'no', 'no', 'no', 'no',\n",
              "       'no', 'no', 'no', 'no', 'no', 'no', 'no', 'no', 'no', 'no', 'no',\n",
              "       'no', 'no', 'no', 'no', 'no', 'no', 'no', 'no', 'no', 'no', 'no',\n",
              "       'no', 'no', 'no', 'no', 'no', 'no', 'no', 'no', 'no', 'no', 'no',\n",
              "       'no', 'no', 'no', 'no', 'no', 'no', 'no', 'no', 'no', 'no', 'no',\n",
              "       'no', 'no', 'no', 'no', 'no', 'no', 'no', 'no', 'no', 'no', 'no',\n",
              "       'no', 'no', 'no', 'no', 'no', 'no', 'no', 'no', 'no', 'no', 'no',\n",
              "       'no', 'no', 'no', 'no', 'no', 'no', 'no', 'no', 'no', 'no', 'no',\n",
              "       'no', 'no', 'no', 'no', 'no', 'no', 'no', 'no', 'no', 'no', 'no',\n",
              "       'no', 'no', 'no', 'no', 'no', 'no', 'no', 'no', 'no', 'no', 'no',\n",
              "       'no', 'no', 'no', 'no', 'no', 'no', 'no', 'no', 'no', 'no', 'no',\n",
              "       'no', 'no', 'no', 'no', 'no', 'no', 'no', 'no', 'no', 'buy', 'no',\n",
              "       'no', 'no', 'no', 'no', 'no', 'no', 'no', 'no', 'no', 'no', 'no',\n",
              "       'no', 'no', 'no', 'no', 'no', 'no', 'no', 'no', 'no', 'no', 'no',\n",
              "       'no', 'no', 'no', 'no', 'no', 'no', 'no', 'no', 'no', 'no', 'no',\n",
              "       'no', 'no', 'no', 'no', 'no', 'no', 'no', 'no', 'no', 'no', 'no',\n",
              "       'no', 'no', 'no', 'no', 'no', 'no', 'no', 'no', 'no', 'no', 'no',\n",
              "       'no', 'no', 'no', 'no', 'no', 'no', 'no', 'no', 'no', 'no', 'no',\n",
              "       'no', 'no', 'no', 'no', 'no', 'no', 'no', 'no', 'no', 'no', 'no',\n",
              "       'no', 'no', 'no', 'no', 'no', 'no', 'no', 'no', 'no', 'no', 'no',\n",
              "       'no', 'no', 'no', 'no', 'no', 'no', 'no', 'no', 'no', 'no', 'no',\n",
              "       'no', 'no', 'no', 'no', 'no', 'no', 'no', 'no', 'no', 'no', 'no',\n",
              "       'no', 'no', 'no', 'no', 'sell', 'no', 'no', 'no', 'no', 'no', 'no',\n",
              "       'no', 'no', 'no', 'no', 'buy', 'no', 'no', 'no', 'no', 'no', 'no',\n",
              "       'no', 'no', 'no', 'no', 'no', 'no', 'no', 'no', 'no', 'no', 'no',\n",
              "       'no', 'no', 'no', 'no', 'sell', 'no', 'no', 'no', 'no', 'no', 'no',\n",
              "       'no', 'no', 'no', 'no', 'no', 'no', 'no', 'no', 'no', 'no', 'no',\n",
              "       'no', 'no', 'no', 'no', 'no', 'no', 'no', 'no', 'no', 'no', 'no',\n",
              "       'no', 'no', 'no', 'no', 'no', 'no', 'no', 'no', 'no', 'no', 'no',\n",
              "       'no', 'no', 'no', 'no', 'no', 'no', 'no', 'no', 'no', 'no', 'no',\n",
              "       'no', 'no', 'no', 'no', 'sell', 'no', 'no', 'no', 'no', 'no', 'no',\n",
              "       'no', 'no', 'no', 'no', 'no', 'no', 'no', 'no', 'no', 'no', 'no',\n",
              "       'sell', 'sell', 'sell', 'sell', 'no', 'no', 'no', 'no', 'no', 'no',\n",
              "       'no', 'no', 'no', 'no', 'no', 'no', 'no', 'no', 'no', 'no', 'no',\n",
              "       'no', 'no', 'no', 'no', 'no', 'no', 'no', 'no', 'no', 'no', 'no',\n",
              "       'no', 'no', 'no', 'no', 'no', 'no', 'no', 'no', 'no', 'no', 'no',\n",
              "       'no', 'no', 'no', 'no', 'no', 'no', 'no', 'no', 'no', 'no', 'no',\n",
              "       'no', 'no', 'no', 'no', 'no', 'no', 'no', 'no', 'no', 'no', 'no',\n",
              "       'no', 'no', 'no', 'no'], dtype=object)"
            ]
          },
          "metadata": {
            "tags": []
          },
          "execution_count": 258
        }
      ]
    },
    {
      "cell_type": "code",
      "metadata": {
        "colab": {
          "base_uri": "https://localhost:8080/"
        },
        "id": "T252agrMyToS",
        "outputId": "433e8d4b-903a-447a-ef0e-d014115f217d"
      },
      "source": [
        "ay[ay == 'buy']"
      ],
      "execution_count": null,
      "outputs": [
        {
          "output_type": "execute_result",
          "data": {
            "text/plain": [
              "datetime\n",
              "2021-03-05 10:45:00+05:30    buy\n",
              "2021-03-05 14:45:00+05:30    buy\n",
              "2021-03-08 10:30:00+05:30    buy\n",
              "2021-03-08 13:30:00+05:30    buy\n",
              "2021-03-08 15:00:00+05:30    buy\n",
              "                            ... \n",
              "2021-04-26 12:30:00+05:30    buy\n",
              "2021-04-26 14:15:00+05:30    buy\n",
              "2021-04-27 10:00:00+05:30    buy\n",
              "2021-04-28 11:15:00+05:30    buy\n",
              "2021-04-28 13:30:00+05:30    buy\n",
              "Name: final_buy, Length: 67, dtype: object"
            ]
          },
          "metadata": {
            "tags": []
          },
          "execution_count": 259
        }
      ]
    },
    {
      "cell_type": "code",
      "metadata": {
        "colab": {
          "base_uri": "https://localhost:8080/"
        },
        "id": "CL2jMcgMyzEa",
        "outputId": "5d9eb1fa-4613-414e-ee6f-579391b2b045"
      },
      "source": [
        "ay.shape"
      ],
      "execution_count": null,
      "outputs": [
        {
          "output_type": "execute_result",
          "data": {
            "text/plain": [
              "(847,)"
            ]
          },
          "metadata": {
            "tags": []
          },
          "execution_count": 70
        }
      ]
    },
    {
      "cell_type": "code",
      "metadata": {
        "id": "KUuedVtpz5q1"
      },
      "source": [
        "from numpy import mean\n",
        "from numpy import std\n",
        "from numpy import dstack\n",
        "from pandas import read_csv\n",
        "from keras.models import Sequential\n",
        "from keras.layers import Dense\n",
        "from keras.layers import Flatten\n",
        "from keras.layers import Dropout\n",
        "from keras.layers import LSTM\n",
        "from keras.utils import to_categorical\n",
        "from matplotlib import pyplot\n",
        "\n",
        "# load a single file as a numpy array\n",
        "def load_file(filepath):\n",
        "\tdataframe = read_csv(filepath, header=None, delim_whitespace=True)\n",
        "\treturn dataframe.values\n",
        "\n",
        "# load a list of files and return as a 3d numpy array\n",
        "def load_group(filenames, prefix=''):\n",
        "\tloaded = list()\n",
        "\tfor name in filenames:\n",
        "\t\tdata = load_file(prefix + name)\n",
        "\t\tloaded.append(data)\n",
        "\t# stack group so that features are the 3rd dimension\n",
        "\tloaded = dstack(loaded)\n",
        "\treturn loaded\n",
        "\n",
        "# load a dataset group, such as train or test\n",
        "def load_dataset_group(group, prefix=''):\n",
        "\tfilepath = prefix + group + '/Inertial Signals/'\n",
        "\t# load all 9 files as a single array\n",
        "\tfilenames = list()\n",
        "\t# total acceleration\n",
        "\tfilenames += ['total_acc_x_'+group+'.txt', 'total_acc_y_'+group+'.txt', 'total_acc_z_'+group+'.txt']\n",
        "\t# body acceleration\n",
        "\tfilenames += ['body_acc_x_'+group+'.txt', 'body_acc_y_'+group+'.txt', 'body_acc_z_'+group+'.txt']\n",
        "\t# body gyroscope\n",
        "\tfilenames += ['body_gyro_x_'+group+'.txt', 'body_gyro_y_'+group+'.txt', 'body_gyro_z_'+group+'.txt']\n",
        "\t# load input data\n",
        "\tX = load_group(filenames, filepath)\n",
        "\t# load class output\n",
        "\ty = load_file(prefix + group + '/y_'+group+'.txt')\n",
        "\treturn X, y\n",
        "\n",
        "# load the dataset, returns train and test X and y elements\n",
        "def load_dataset(prefix=''):\n",
        "\t# load all train\n",
        "\ttrainX, trainy = load_dataset_group('train', prefix + 'HARDataset/')\n",
        "\tprint(trainX.shape, trainy.shape)\n",
        "\t# load all test\n",
        "\ttestX, testy = load_dataset_group('test', prefix + 'HARDataset/')\n",
        "\tprint(testX.shape, testy.shape)\n",
        "\t# zero-offset class values\n",
        "\ttrainy = trainy - 1\n",
        "\ttesty = testy - 1\n",
        "\t# one hot encode y\n",
        "\ttrainy = to_categorical(trainy)\n",
        "\ttesty = to_categorical(testy)\n",
        "\tprint(trainX.shape, trainy.shape, testX.shape, testy.shape)\n",
        "\treturn trainX, trainy, testX, testy\n",
        "\n",
        "# fit and evaluate a model\n",
        "def evaluate_model(trainX, trainy, testX, testy):\n",
        "\tverbose, epochs, batch_size = 0, 15, 64\n",
        "\tn_timesteps, n_features, n_outputs = trainX.shape[1], trainX.shape[2], trainy.shape[1]\n",
        "\tmodel = Sequential()\n",
        "\tmodel.add(LSTM(100, input_shape=(n_timesteps,n_features)))\n",
        "\tmodel.add(Dropout(0.5))\n",
        "\tmodel.add(Dense(100, activation='relu'))\n",
        "\tmodel.add(Dense(n_outputs, activation='softmax'))\n",
        "\tmodel.compile(loss='categorical_crossentropy', optimizer='adam', metrics=['accuracy'])\n",
        "\t# fit network\n",
        "\tmodel.fit(trainX, trainy, epochs=epochs, batch_size=batch_size, verbose=verbose)\n",
        "\t# evaluate model\n",
        "\t_, accuracy = model.evaluate(testX, testy, batch_size=batch_size, verbose=0)\n",
        "\treturn accuracy\n",
        "\n",
        "# summarize scores\n",
        "def summarize_results(scores):\n",
        "\tprint(scores)\n",
        "\tm, s = mean(scores), std(scores)\n",
        "\tprint('Accuracy: %.3f%% (+/-%.3f)' % (m, s))\n",
        "\n",
        "# run an experiment\n",
        "def run_experiment(repeats=10):\n",
        "\t# load data\n",
        "\ttrainX, trainy, testX, testy = load_dataset()\n",
        "\t# repeat experiment\n",
        "\tscores = list()\n",
        "\tfor r in range(repeats):\n",
        "\t\tscore = evaluate_model(trainX, trainy, testX, testy)\n",
        "\t\tscore = score * 100.0\n",
        "\t\tprint('>#%d: %.3f' % (r+1, score))\n",
        "\t\tscores.append(score)\n",
        "\t# summarize results\n",
        "\tsummarize_results(scores)\n",
        "\n",
        "# run the experiment\n",
        "run_experiment()"
      ],
      "execution_count": null,
      "outputs": []
    }
  ]
}